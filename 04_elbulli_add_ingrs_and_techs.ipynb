{
 "cells": [
  {
   "cell_type": "code",
   "execution_count": 1,
   "metadata": {
    "collapsed": true
   },
   "outputs": [],
   "source": [
    "import csv\n",
    "\n",
    "import pandas as pd\n",
    "import networkx as nx\n",
    "import nltk\n",
    "\n",
    "import api"
   ]
  },
  {
   "cell_type": "code",
   "execution_count": 2,
   "metadata": {
    "collapsed": true
   },
   "outputs": [],
   "source": [
    "g_nlg = nx.read_gexf('out/elbulli_nlg_02.gexf')"
   ]
  },
  {
   "cell_type": "code",
   "execution_count": 3,
   "metadata": {
    "collapsed": true
   },
   "outputs": [],
   "source": [
    "g_dat = nx.read_gexf('out/elbulli_dat_03.gexf')"
   ]
  },
  {
   "cell_type": "code",
   "execution_count": 4,
   "metadata": {
    "collapsed": true
   },
   "outputs": [],
   "source": [
    "all_ingredients_graph = nx.read_gexf('data/spanish_ingredients_lexicon_5.gexf')"
   ]
  },
  {
   "cell_type": "code",
   "execution_count": 5,
   "metadata": {},
   "outputs": [
    {
     "data": {
      "text/plain": [
       "26743"
      ]
     },
     "execution_count": 5,
     "metadata": {},
     "output_type": "execute_result"
    }
   ],
   "source": [
    "len(all_ingredients_graph)"
   ]
  },
  {
   "cell_type": "code",
   "execution_count": 6,
   "metadata": {
    "collapsed": true
   },
   "outputs": [],
   "source": [
    "nlg_ingredients = api.all_ingredients(g_nlg)\n",
    "for ingr in nlg_ingredients:\n",
    "    ingr = ingr.lower()\n",
    "    if ingr not in all_ingredients_graph:\n",
    "        all_ingredients_graph.add_node(ingr, {'count': 0, 'label': ingr})"
   ]
  },
  {
   "cell_type": "code",
   "execution_count": 7,
   "metadata": {},
   "outputs": [
    {
     "data": {
      "text/plain": [
       "26871"
      ]
     },
     "execution_count": 7,
     "metadata": {},
     "output_type": "execute_result"
    }
   ],
   "source": [
    "len(all_ingredients_graph)"
   ]
  },
  {
   "cell_type": "code",
   "execution_count": 8,
   "metadata": {
    "collapsed": true
   },
   "outputs": [],
   "source": [
    "all_techniques_graph = nx.read_gexf('data/spanish_techniques_lexicon_5.gexf')"
   ]
  },
  {
   "cell_type": "code",
   "execution_count": 9,
   "metadata": {},
   "outputs": [
    {
     "data": {
      "text/plain": [
       "4372"
      ]
     },
     "execution_count": 9,
     "metadata": {},
     "output_type": "execute_result"
    }
   ],
   "source": [
    "len(all_techniques_graph)"
   ]
  },
  {
   "cell_type": "code",
   "execution_count": 10,
   "metadata": {
    "collapsed": true
   },
   "outputs": [],
   "source": [
    "nlg_techniques = api.all_techniques(g_nlg)\n",
    "for tech in nlg_techniques:\n",
    "    tech = tech.lower()\n",
    "    if tech not in all_techniques_graph:\n",
    "        all_techniques_graph.add_node(tech, {'count': 0, 'label': tech})"
   ]
  },
  {
   "cell_type": "code",
   "execution_count": 11,
   "metadata": {},
   "outputs": [
    {
     "data": {
      "text/plain": [
       "4385"
      ]
     },
     "execution_count": 11,
     "metadata": {},
     "output_type": "execute_result"
    }
   ],
   "source": [
    "len(all_techniques_graph)"
   ]
  },
  {
   "cell_type": "code",
   "execution_count": 12,
   "metadata": {
    "collapsed": true
   },
   "outputs": [],
   "source": [
    "with open('data/es_lexicon.csv') as f:\n",
    "    reader = csv.reader(\n",
    "        f,\n",
    "        delimiter=' ',\n",
    "    )\n",
    "    lexicon = []\n",
    "    for row in reader:\n",
    "        for i in range(1, len(row[1:]), 2):\n",
    "            entry = {}\n",
    "            entry['flexion'] = row[0].lower()\n",
    "            entry['lemma'] = row[i].lower()\n",
    "            entry['eagle'] = row[i+1].lower()\n",
    "            lexicon.append(entry)"
   ]
  },
  {
   "cell_type": "code",
   "execution_count": 13,
   "metadata": {
    "collapsed": true
   },
   "outputs": [],
   "source": [
    "lexicon_df = pd.DataFrame(lexicon)"
   ]
  },
  {
   "cell_type": "code",
   "execution_count": 14,
   "metadata": {},
   "outputs": [
    {
     "data": {
      "text/html": [
       "<div>\n",
       "<style>\n",
       "    .dataframe thead tr:only-child th {\n",
       "        text-align: right;\n",
       "    }\n",
       "\n",
       "    .dataframe thead th {\n",
       "        text-align: left;\n",
       "    }\n",
       "\n",
       "    .dataframe tbody tr th {\n",
       "        vertical-align: top;\n",
       "    }\n",
       "</style>\n",
       "<table border=\"1\" class=\"dataframe\">\n",
       "  <thead>\n",
       "    <tr style=\"text-align: right;\">\n",
       "      <th></th>\n",
       "      <th>eagle</th>\n",
       "      <th>flexion</th>\n",
       "      <th>lemma</th>\n",
       "    </tr>\n",
       "  </thead>\n",
       "  <tbody>\n",
       "    <tr>\n",
       "      <th>0</th>\n",
       "      <td>ncfs000</td>\n",
       "      <td>a</td>\n",
       "      <td>a</td>\n",
       "    </tr>\n",
       "    <tr>\n",
       "      <th>1</th>\n",
       "      <td>sps00</td>\n",
       "      <td>a</td>\n",
       "      <td>a</td>\n",
       "    </tr>\n",
       "    <tr>\n",
       "      <th>2</th>\n",
       "      <td>vmip3s0</td>\n",
       "      <td>aba</td>\n",
       "      <td>abar</td>\n",
       "    </tr>\n",
       "    <tr>\n",
       "      <th>3</th>\n",
       "      <td>vmm02s0</td>\n",
       "      <td>aba</td>\n",
       "      <td>abar</td>\n",
       "    </tr>\n",
       "    <tr>\n",
       "      <th>4</th>\n",
       "      <td>ncfs000</td>\n",
       "      <td>ababa</td>\n",
       "      <td>ababa</td>\n",
       "    </tr>\n",
       "  </tbody>\n",
       "</table>\n",
       "</div>"
      ],
      "text/plain": [
       "     eagle flexion  lemma\n",
       "0  ncfs000       a      a\n",
       "1    sps00       a      a\n",
       "2  vmip3s0     aba   abar\n",
       "3  vmm02s0     aba   abar\n",
       "4  ncfs000   ababa  ababa"
      ]
     },
     "execution_count": 14,
     "metadata": {},
     "output_type": "execute_result"
    }
   ],
   "source": [
    "lexicon_df.head()"
   ]
  },
  {
   "cell_type": "code",
   "execution_count": 15,
   "metadata": {},
   "outputs": [
    {
     "data": {
      "text/plain": [
       "668825"
      ]
     },
     "execution_count": 15,
     "metadata": {},
     "output_type": "execute_result"
    }
   ],
   "source": [
    "len(lexicon_df)"
   ]
  },
  {
   "cell_type": "code",
   "execution_count": 16,
   "metadata": {
    "collapsed": true
   },
   "outputs": [],
   "source": [
    "verbs_df = lexicon_df[lexicon_df.eagle == 'vmn0000']"
   ]
  },
  {
   "cell_type": "code",
   "execution_count": 17,
   "metadata": {},
   "outputs": [
    {
     "data": {
      "text/html": [
       "<div>\n",
       "<style>\n",
       "    .dataframe thead tr:only-child th {\n",
       "        text-align: right;\n",
       "    }\n",
       "\n",
       "    .dataframe thead th {\n",
       "        text-align: left;\n",
       "    }\n",
       "\n",
       "    .dataframe tbody tr th {\n",
       "        vertical-align: top;\n",
       "    }\n",
       "</style>\n",
       "<table border=\"1\" class=\"dataframe\">\n",
       "  <thead>\n",
       "    <tr style=\"text-align: right;\">\n",
       "      <th></th>\n",
       "      <th>eagle</th>\n",
       "      <th>flexion</th>\n",
       "      <th>lemma</th>\n",
       "    </tr>\n",
       "  </thead>\n",
       "  <tbody>\n",
       "    <tr>\n",
       "      <th>70</th>\n",
       "      <td>vmn0000</td>\n",
       "      <td>abajar</td>\n",
       "      <td>abajar</td>\n",
       "    </tr>\n",
       "    <tr>\n",
       "      <th>150</th>\n",
       "      <td>vmn0000</td>\n",
       "      <td>abalanzar</td>\n",
       "      <td>abalanzar</td>\n",
       "    </tr>\n",
       "    <tr>\n",
       "      <th>205</th>\n",
       "      <td>vmn0000</td>\n",
       "      <td>abalaustrar</td>\n",
       "      <td>abalaustrar</td>\n",
       "    </tr>\n",
       "    <tr>\n",
       "      <th>276</th>\n",
       "      <td>vmn0000</td>\n",
       "      <td>abalear</td>\n",
       "      <td>abalear</td>\n",
       "    </tr>\n",
       "    <tr>\n",
       "      <th>355</th>\n",
       "      <td>vmn0000</td>\n",
       "      <td>abalizar</td>\n",
       "      <td>abalizar</td>\n",
       "    </tr>\n",
       "  </tbody>\n",
       "</table>\n",
       "</div>"
      ],
      "text/plain": [
       "       eagle      flexion        lemma\n",
       "70   vmn0000       abajar       abajar\n",
       "150  vmn0000    abalanzar    abalanzar\n",
       "205  vmn0000  abalaustrar  abalaustrar\n",
       "276  vmn0000      abalear      abalear\n",
       "355  vmn0000     abalizar     abalizar"
      ]
     },
     "execution_count": 17,
     "metadata": {},
     "output_type": "execute_result"
    }
   ],
   "source": [
    "verbs_df.head()"
   ]
  },
  {
   "cell_type": "code",
   "execution_count": 18,
   "metadata": {},
   "outputs": [
    {
     "data": {
      "text/plain": [
       "7651"
      ]
     },
     "execution_count": 18,
     "metadata": {},
     "output_type": "execute_result"
    }
   ],
   "source": [
    "len(verbs_df)"
   ]
  },
  {
   "cell_type": "code",
   "execution_count": 19,
   "metadata": {
    "collapsed": true
   },
   "outputs": [],
   "source": [
    "infinitive_verbs = verbs_df.flexion.unique()"
   ]
  },
  {
   "cell_type": "code",
   "execution_count": 20,
   "metadata": {
    "scrolled": true
   },
   "outputs": [],
   "source": [
    "inf_fin = set()\n",
    "for n, data in api.nodes_by_type(g_dat, 'Acabacion', data=True):\n",
    "    desc = data['desc']\n",
    "    desc = desc.lower()\n",
    "    tokens = nltk.word_tokenize(desc)\n",
    "    techs = set(tokens).intersection(infinitive_verbs)\n",
    "    for tech in techs:\n",
    "        if tech not in all_techniques_graph:\n",
    "            inf_fin.add(tech)"
   ]
  },
  {
   "cell_type": "code",
   "execution_count": 21,
   "metadata": {
    "collapsed": true
   },
   "outputs": [],
   "source": [
    "selected_finish = [\n",
    "    'aderezar', 'agitar', 'alisar', 'aliñar', 'amoldar', 'apelmazar', 'aplanar', 'aplastar',\n",
    "    'aposentar', 'apretar', 'atemperar', 'atravesar', 'azucarar', 'batir', 'bañar', 'clavar',\n",
    "    'colar', 'congelar', 'cristalizar', 'cuajar', 'decorar', 'derretir', 'descabezar', 'descongelar',\n",
    "    'desgrasar', 'deshuesar', 'desmoldar', 'embadurnar', 'embeber', 'enharinar', 'enrasar', 'enrollar',\n",
    "    'ensartar', 'entibiar', 'escamar', 'escarchar', 'escudillar', 'escurrir', 'espolvorear', 'estabilizar',\n",
    "    'estirar', 'estrujar', 'filetear', 'fundir', 'hidratar', 'hinchar', 'impregnar', 'incrustar',\n",
    "    'insertar', 'intercalar', 'interrumpir', 'inyectar', 'ligar', 'mezclar', 'moler', 'montar',\n",
    "    'pasar', 'pelar', 'pellizcar', 'perforar', 'picar', 'pinchar', 'potenciar', 'pulir',\n",
    "    'pulverizar', 'puntear', 'rallar', 'rascar', 'rasgar', 'recortar', 'rectificar', 'reposar',\n",
    "    'reseguir', 'reservar', 'rociar', 'salpimentar', 'sazonar', 'sumergir', 'templar', 'tostar',\n",
    "    'triangular', 'triturar', 'trocear', 'turbinar', 'untar',\n",
    "]"
   ]
  },
  {
   "cell_type": "code",
   "execution_count": 22,
   "metadata": {
    "scrolled": true
   },
   "outputs": [],
   "source": [
    "inf_prep = set()\n",
    "for n, data in api.nodes_by_type(g_dat, 'Elaboracion', data=True):\n",
    "    desc = data['desc']\n",
    "    desc = desc.lower()\n",
    "    tokens = nltk.word_tokenize(desc)\n",
    "    techs = set(tokens).intersection(infinitive_verbs)\n",
    "    for tech in techs:\n",
    "        if tech not in all_techniques_graph and tech not in inf_fin:\n",
    "            inf_prep.add(tech)"
   ]
  },
  {
   "cell_type": "code",
   "execution_count": 23,
   "metadata": {
    "collapsed": true
   },
   "outputs": [],
   "source": [
    "selected_preparation = [\n",
    "    'absorber', 'adherir', 'aguar', 'agujerear', 'ahogar', 'amargar', 'amasar', 'bolear',\n",
    "    'cascar', 'cepillar', 'chamuscar', 'chascar', 'concentrar', 'cuadrar', 'desalar', 'desangrar',\n",
    "    'descarnar', 'descascarar', 'descascarillar', 'descorazonar', 'desgranar', 'deshacer',\n",
    "    'deshilachar', 'deshojar', 'deshumedecer', 'desmenuzar', 'desmigar', 'despepitar',\n",
    "    'destripar', 'desvenar', 'diluir', 'disolver', 'empapar', 'empastar', 'endulzar', 'equilibrar',\n",
    "    'escabechar', 'evaporar', 'exprimir', 'filtrar', 'friccionar', 'granizar', 'homogeneizar', 'humedecer',\n",
    "    'igualar', 'inflar', 'laminar', 'machacar', 'moldear', 'peinar', 'precipitar', 'prensar',\n",
    "    'raspar', 'rebanar', 'refrescar', 'reintegrar', 'repelar', 'satinar', 'solidificar', 'sudar',\n",
    "    'tamizar', 'temperar',\n",
    "]"
   ]
  },
  {
   "cell_type": "code",
   "execution_count": 24,
   "metadata": {
    "collapsed": true,
    "scrolled": true
   },
   "outputs": [],
   "source": [
    "for tech in selected_finish:\n",
    "    all_techniques_graph.add_node(tech, {'count': 0, 'label': tech})"
   ]
  },
  {
   "cell_type": "code",
   "execution_count": 25,
   "metadata": {
    "collapsed": true,
    "scrolled": true
   },
   "outputs": [],
   "source": [
    "for tech in selected_preparation:\n",
    "    all_techniques_graph.add_node(tech, {'count': 0, 'label': tech})"
   ]
  },
  {
   "cell_type": "code",
   "execution_count": 26,
   "metadata": {},
   "outputs": [
    {
     "data": {
      "text/plain": [
       "4532"
      ]
     },
     "execution_count": 26,
     "metadata": {},
     "output_type": "execute_result"
    }
   ],
   "source": [
    "len(all_techniques_graph)"
   ]
  },
  {
   "cell_type": "code",
   "execution_count": 27,
   "metadata": {
    "collapsed": true
   },
   "outputs": [],
   "source": [
    "nx.write_gexf(all_ingredients_graph, 'out/spanish_ingredients_lexicon_04.gexf')"
   ]
  },
  {
   "cell_type": "code",
   "execution_count": 28,
   "metadata": {
    "collapsed": true
   },
   "outputs": [],
   "source": [
    "nx.write_gexf(all_techniques_graph, 'out/spanish_techniques_lexicon_04.gexf')"
   ]
  },
  {
   "cell_type": "code",
   "execution_count": null,
   "metadata": {
    "collapsed": true
   },
   "outputs": [],
   "source": []
  }
 ],
 "metadata": {
  "kernelspec": {
   "display_name": "Python 3",
   "language": "python",
   "name": "python3"
  },
  "language_info": {
   "codemirror_mode": {
    "name": "ipython",
    "version": 3
   },
   "file_extension": ".py",
   "mimetype": "text/x-python",
   "name": "python",
   "nbconvert_exporter": "python",
   "pygments_lexer": "ipython3",
   "version": "3.5.2"
  }
 },
 "nbformat": 4,
 "nbformat_minor": 1
}
