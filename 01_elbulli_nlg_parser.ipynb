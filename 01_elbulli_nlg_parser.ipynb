{
 "cells": [
  {
   "cell_type": "code",
   "execution_count": 1,
   "metadata": {
    "collapsed": true
   },
   "outputs": [],
   "source": [
    "import re\n",
    "import shlex\n",
    "\n",
    "import networkx as nx"
   ]
  },
  {
   "cell_type": "code",
   "execution_count": 2,
   "metadata": {
    "collapsed": true
   },
   "outputs": [],
   "source": [
    "# states\n",
    "# 'NODETYPES', 'EDGETYPES', 'NODE', 'NODEFIELDS', 'EDGE', 'EDGEFIELDS', 'NOTHING'\n",
    "current_st = 'NOTHING'"
   ]
  },
  {
   "cell_type": "code",
   "execution_count": 3,
   "metadata": {
    "collapsed": true
   },
   "outputs": [],
   "source": [
    "graph = nx.DiGraph()\n",
    "node_list = []\n",
    "edge_list = []\n",
    "\n",
    "path_db = 'data/BulliCompleto.nlg'\n",
    "with open(path_db) as f:\n",
    "    for line in f:\n",
    "        stripped_line = line.strip()\n",
    "        if stripped_line == '\"<NodesTypes>\"' and current_st == 'NOTHING':\n",
    "            current_st = 'NODETYPES'\n",
    "        elif stripped_line == '\"<EndNodesTypes>\"' and current_st == 'NODETYPES':\n",
    "            current_st = 'NOTHING'\n",
    "        elif stripped_line == '\"<EdgesTypes>\"' and current_st == 'NOTHING':\n",
    "            current_st = 'EDGETYPES'\n",
    "        elif stripped_line == '\"<EndEdgesTypes>\"' and current_st == 'EDGETYPES':\n",
    "            current_st = 'NOTHING'\n",
    "        elif stripped_line == '\"<Nodes>\"' and current_st == 'NOTHING':\n",
    "            current_st = 'NODEFIELDS'\n",
    "        elif stripped_line == '\"<EndNodes>\"' and current_st == 'NODE':\n",
    "            current_st = 'NOTHING'\n",
    "        elif stripped_line == '\"<Edges>\"' and current_st == 'NOTHING':\n",
    "            current_st = 'EDGEFIELDS'\n",
    "        elif stripped_line == '\"<EndEdges>\"' and current_st == 'EDGE':\n",
    "            current_st = 'NOTHING'\n",
    "        elif current_st == 'NODETYPES':\n",
    "            values = shlex.split(stripped_line)\n",
    "            node_type = values[0]\n",
    "            node_list.append(node_type)\n",
    "        elif current_st == 'EDGETYPES':\n",
    "            values = shlex.split(stripped_line)\n",
    "            edge_type = values[0]\n",
    "            edge_list.append(edge_type)\n",
    "        elif current_st == 'NODEFIELDS':\n",
    "            fields = shlex.split(stripped_line)\n",
    "            fields = [field[:-3].lower() for field in fields]\n",
    "            current_st = 'NODE'\n",
    "        elif current_st == 'EDGEFIELDS':\n",
    "            fields = shlex.split(stripped_line)\n",
    "            fields = [field[:-3].lower() for field in fields]\n",
    "            current_st = 'EDGE'\n",
    "        elif current_st == 'NODE':\n",
    "            values = shlex.split(stripped_line)\n",
    "            ide = values[0]\n",
    "            attr_dict = dict(zip(fields[1:], values[1:]))\n",
    "            graph.add_node(ide, attr_dict)\n",
    "        elif current_st == 'EDGE':\n",
    "            id_list_str = re.findall('\\[.+\\]', stripped_line)[0]\n",
    "            id_str = id_list_str[1:-1]\n",
    "            id_list = shlex.split(id_str)\n",
    "            assert(len(id_list) == 2)\n",
    "            other_values_str = stripped_line.replace(id_list_str + ' ', '')\n",
    "            other_values = shlex.split(other_values_str)\n",
    "            attr_dict = dict(zip(fields[1:], other_values))\n",
    "            graph.add_edge(id_list[0], id_list[1], attr_dict)"
   ]
  },
  {
   "cell_type": "code",
   "execution_count": 4,
   "metadata": {
    "collapsed": true
   },
   "outputs": [],
   "source": [
    "node_set = set()\n",
    "for n, data in graph.nodes(data=True):\n",
    "    t = data['nodetype']\n",
    "    node_set.add(t)"
   ]
  },
  {
   "cell_type": "code",
   "execution_count": 5,
   "metadata": {
    "collapsed": true
   },
   "outputs": [],
   "source": [
    "edge_set = set()\n",
    "for n1, n2, data in graph.edges(data=True):\n",
    "    t = data['edgetype']\n",
    "    edge_set.add(t)"
   ]
  },
  {
   "cell_type": "code",
   "execution_count": 6,
   "metadata": {},
   "outputs": [
    {
     "data": {
      "text/plain": [
       "True"
      ]
     },
     "execution_count": 6,
     "metadata": {},
     "output_type": "execute_result"
    }
   ],
   "source": [
    "node_set == set(node_list)"
   ]
  },
  {
   "cell_type": "code",
   "execution_count": 7,
   "metadata": {},
   "outputs": [
    {
     "data": {
      "text/plain": [
       "True"
      ]
     },
     "execution_count": 7,
     "metadata": {},
     "output_type": "execute_result"
    }
   ],
   "source": [
    "edge_set == set(edge_list)"
   ]
  },
  {
   "cell_type": "code",
   "execution_count": 8,
   "metadata": {},
   "outputs": [
    {
     "data": {
      "text/plain": [
       "9764"
      ]
     },
     "execution_count": 8,
     "metadata": {},
     "output_type": "execute_result"
    }
   ],
   "source": [
    "graph.number_of_nodes()"
   ]
  },
  {
   "cell_type": "code",
   "execution_count": 9,
   "metadata": {},
   "outputs": [
    {
     "data": {
      "text/plain": [
       "33252"
      ]
     },
     "execution_count": 9,
     "metadata": {},
     "output_type": "execute_result"
    }
   ],
   "source": [
    "graph.number_of_edges()"
   ]
  },
  {
   "cell_type": "code",
   "execution_count": 10,
   "metadata": {
    "collapsed": true
   },
   "outputs": [],
   "source": [
    "path_gexf = 'out/elbulli_nlg.gexf'\n",
    "nx.write_gexf(graph, path_gexf)"
   ]
  },
  {
   "cell_type": "code",
   "execution_count": null,
   "metadata": {
    "collapsed": true
   },
   "outputs": [],
   "source": []
  }
 ],
 "metadata": {
  "kernelspec": {
   "display_name": "Python 3",
   "language": "python",
   "name": "python3"
  },
  "language_info": {
   "codemirror_mode": {
    "name": "ipython",
    "version": 3
   },
   "file_extension": ".py",
   "mimetype": "text/x-python",
   "name": "python",
   "nbconvert_exporter": "python",
   "pygments_lexer": "ipython3",
   "version": "3.5.2"
  }
 },
 "nbformat": 4,
 "nbformat_minor": 1
}
