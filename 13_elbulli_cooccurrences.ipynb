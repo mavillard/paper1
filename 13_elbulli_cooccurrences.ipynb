{
 "cells": [
  {
   "cell_type": "code",
   "execution_count": 1,
   "metadata": {
    "collapsed": true
   },
   "outputs": [],
   "source": [
    "from itertools import combinations\n",
    "from itertools import product\n",
    "\n",
    "import networkx as nx\n",
    "import pandas as pd"
   ]
  },
  {
   "cell_type": "code",
   "execution_count": 2,
   "metadata": {
    "collapsed": true
   },
   "outputs": [],
   "source": [
    "recipes_info_df = pd.read_csv('out/recipes_info.csv')"
   ]
  },
  {
   "cell_type": "code",
   "execution_count": 3,
   "metadata": {
    "collapsed": true
   },
   "outputs": [],
   "source": [
    "recipes_data_df = pd.read_csv('out/recipes_data.csv')"
   ]
  },
  {
   "cell_type": "code",
   "execution_count": 4,
   "metadata": {
    "collapsed": true
   },
   "outputs": [],
   "source": [
    "top_ingredients = [\n",
    "    'i_agar',\n",
    "    'i_agua',\n",
    "    'i_agar-agar en polvo',\n",
    "    'i_azúcar',\n",
    "    'i_sal',\n",
    "    'i_hoja de gelatina',\n",
    "    'i_perifollo',\n",
    "    'i_aceite de oliva',\n",
    "    'i_sal maldon',\n",
    "    'i_glucosa',\n",
    "    'i_nata líquida',\n",
    "    'i_mantequilla',\n",
    "    'i_aceite',\n",
    "    'i_cebollino fresco',\n",
    "    'i_aceite de girasol',\n",
    "    'i_nata',\n",
    "    'i_harina de trigo',\n",
    "    'i_limón',\n",
    "    'i_claras de huevo',\n",
    "    'i_isomalt',\n",
    "]"
   ]
  },
  {
   "cell_type": "code",
   "execution_count": 5,
   "metadata": {},
   "outputs": [],
   "source": [
    "all_ingredients = [c for c in recipes_data_df.columns if c.startswith('i_')]"
   ]
  },
  {
   "cell_type": "code",
   "execution_count": 6,
   "metadata": {},
   "outputs": [],
   "source": [
    "ingr_combinations = [\n",
    "    (x, y)\n",
    "    for x, y in combinations(all_ingredients, 2)\n",
    "    if x in top_ingredients or y in top_ingredients\n",
    "]"
   ]
  },
  {
   "cell_type": "code",
   "execution_count": 7,
   "metadata": {},
   "outputs": [
    {
     "name": "stdout",
     "output_type": "stream",
     "text": [
      "CPU times: user 44min 51s, sys: 1.94 s, total: 44min 53s\n",
      "Wall time: 44min 54s\n"
     ]
    }
   ],
   "source": [
    "%%time\n",
    "\n",
    "ls = []\n",
    "for j, x in recipes_data_df.iterrows():\n",
    "    df = pd.DataFrame(\n",
    "        [[recipes_info_df.year[j]] + [int(x[i1] == 1 and x[i2] == 1) for i1, i2 in ingr_combinations]],\n",
    "        columns=['year'] + ingr_combinations,\n",
    "    )\n",
    "    ls.append(df)\n",
    "ingr_combs_df = pd.concat(ls, ignore_index=True)"
   ]
  },
  {
   "cell_type": "code",
   "execution_count": 8,
   "metadata": {
    "collapsed": true
   },
   "outputs": [],
   "source": [
    "top_techniques = [\n",
    "    't_hervir',\n",
    "    't_pasar',\n",
    "    't_cocer',\n",
    "    't_horno',\n",
    "    't_triturar',\n",
    "    't_mezclar',\n",
    "    't_estirar',\n",
    "    't_reposar',\n",
    "    't_pelar',\n",
    "    't_colar',\n",
    "    't_secar',\n",
    "    't_escurrir',\n",
    "    't_disolver',\n",
    "    't_escaldar',\n",
    "    't_sal',\n",
    "    't_puré',\n",
    "    't_agua',\n",
    "    't_sartén',\n",
    "    't_espuma',\n",
    "    't_montar',\n",
    "]"
   ]
  },
  {
   "cell_type": "code",
   "execution_count": 9,
   "metadata": {
    "collapsed": true
   },
   "outputs": [],
   "source": [
    "all_techniques = [c for c in recipes_data_df.columns if c.startswith('t_')]"
   ]
  },
  {
   "cell_type": "code",
   "execution_count": 10,
   "metadata": {
    "collapsed": true
   },
   "outputs": [],
   "source": [
    "tech_combinations = [\n",
    "    (x, y)\n",
    "    for x, y in combinations(all_techniques, 2)\n",
    "    if x in top_techniques or y in top_techniques\n",
    "]"
   ]
  },
  {
   "cell_type": "code",
   "execution_count": 11,
   "metadata": {},
   "outputs": [
    {
     "name": "stdout",
     "output_type": "stream",
     "text": [
      "CPU times: user 4min 28s, sys: 72 ms, total: 4min 28s\n",
      "Wall time: 4min 28s\n"
     ]
    }
   ],
   "source": [
    "%%time\n",
    "\n",
    "ls = []\n",
    "for j, x in recipes_data_df.iterrows():\n",
    "    df = pd.DataFrame(\n",
    "        [[recipes_info_df.year[j]] + [int(x[t1] == 1 and x[t2] == 1) for t1, t2 in tech_combinations]],\n",
    "        columns=['year'] + tech_combinations,\n",
    "    )\n",
    "    ls.append(df)\n",
    "tech_combs_df = pd.concat(ls, ignore_index=True)"
   ]
  },
  {
   "cell_type": "code",
   "execution_count": 12,
   "metadata": {},
   "outputs": [],
   "source": [
    "ingr_tech_combinations = [\n",
    "    (x, y)\n",
    "    for x, y in product(all_ingredients, all_techniques)\n",
    "    if x in top_ingredients or y in top_techniques\n",
    "]"
   ]
  },
  {
   "cell_type": "code",
   "execution_count": 13,
   "metadata": {},
   "outputs": [
    {
     "name": "stdout",
     "output_type": "stream",
     "text": [
      "CPU times: user 47min, sys: 1.36 s, total: 47min 1s\n",
      "Wall time: 47min 1s\n"
     ]
    }
   ],
   "source": [
    "%%time\n",
    "\n",
    "ls = []\n",
    "for j, x in recipes_data_df.iterrows():\n",
    "    df = pd.DataFrame(\n",
    "        [[recipes_info_df.year[j]] + [int(x[i] == 1 and x[t] == 1) for i, t in ingr_tech_combinations]],\n",
    "        columns=['year'] + ingr_tech_combinations,\n",
    "    )\n",
    "    ls.append(df)\n",
    "ingr_tech_combs_df = pd.concat(ls, ignore_index=True)"
   ]
  },
  {
   "cell_type": "code",
   "execution_count": 14,
   "metadata": {},
   "outputs": [],
   "source": [
    "sum_ingr_combs_by_year = ingr_combs_df.groupby('year').sum()"
   ]
  },
  {
   "cell_type": "code",
   "execution_count": 15,
   "metadata": {
    "collapsed": true
   },
   "outputs": [],
   "source": [
    "for c in sum_ingr_combs_by_year.columns:\n",
    "    if sum_ingr_combs_by_year[c].sum() == 0:\n",
    "        sum_ingr_combs_by_year = sum_ingr_combs_by_year.drop(c, axis=1)"
   ]
  },
  {
   "cell_type": "code",
   "execution_count": 16,
   "metadata": {
    "collapsed": true
   },
   "outputs": [],
   "source": [
    "sum_tech_combs_by_year = tech_combs_df.groupby('year').sum()"
   ]
  },
  {
   "cell_type": "code",
   "execution_count": 17,
   "metadata": {
    "collapsed": true
   },
   "outputs": [],
   "source": [
    "for c in sum_tech_combs_by_year.columns:\n",
    "    if sum_tech_combs_by_year[c].sum() == 0:\n",
    "        sum_tech_combs_by_year = sum_tech_combs_by_year.drop(c, axis=1)"
   ]
  },
  {
   "cell_type": "code",
   "execution_count": 18,
   "metadata": {
    "collapsed": true
   },
   "outputs": [],
   "source": [
    "sum_ingr_tech_combs_by_year = ingr_tech_combs_df.groupby('year').sum()"
   ]
  },
  {
   "cell_type": "code",
   "execution_count": 19,
   "metadata": {
    "collapsed": true
   },
   "outputs": [],
   "source": [
    "for c in sum_ingr_tech_combs_by_year.columns:\n",
    "    if sum_ingr_tech_combs_by_year[c].sum() == 0:\n",
    "        sum_ingr_tech_combs_by_year = sum_ingr_tech_combs_by_year.drop(c, axis=1)"
   ]
  },
  {
   "cell_type": "code",
   "execution_count": 20,
   "metadata": {},
   "outputs": [],
   "source": [
    "sum_ingr_combs_by_year.to_csv('out/ingr_combs.csv')"
   ]
  },
  {
   "cell_type": "code",
   "execution_count": 21,
   "metadata": {
    "collapsed": true
   },
   "outputs": [],
   "source": [
    "sum_tech_combs_by_year.to_csv('out/tech_combs.csv')"
   ]
  },
  {
   "cell_type": "code",
   "execution_count": 22,
   "metadata": {
    "collapsed": true
   },
   "outputs": [],
   "source": [
    "sum_ingr_tech_combs_by_year.to_csv('out/ingr_tech_combs.csv')"
   ]
  },
  {
   "cell_type": "code",
   "execution_count": null,
   "metadata": {
    "collapsed": true
   },
   "outputs": [],
   "source": []
  }
 ],
 "metadata": {
  "kernelspec": {
   "display_name": "Python 3",
   "language": "python",
   "name": "python3"
  },
  "language_info": {
   "codemirror_mode": {
    "name": "ipython",
    "version": 3
   },
   "file_extension": ".py",
   "mimetype": "text/x-python",
   "name": "python",
   "nbconvert_exporter": "python",
   "pygments_lexer": "ipython3",
   "version": "3.5.2"
  }
 },
 "nbformat": 4,
 "nbformat_minor": 1
}
