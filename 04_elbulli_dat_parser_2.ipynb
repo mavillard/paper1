{
 "cells": [
  {
   "cell_type": "code",
   "execution_count": 13,
   "metadata": {
    "collapsed": true
   },
   "outputs": [],
   "source": [
    "import os\n",
    "import string\n",
    "\n",
    "import networkx as nx\n",
    "import nltk\n",
    "from nltk.util import ngrams"
   ]
  },
  {
   "cell_type": "code",
   "execution_count": 14,
   "metadata": {
    "collapsed": true
   },
   "outputs": [],
   "source": [
    "graph = nx.read_gexf('out/elbulli_dat.gexf')"
   ]
  },
  {
   "cell_type": "code",
   "execution_count": 15,
   "metadata": {
    "collapsed": true
   },
   "outputs": [],
   "source": [
    "g_nlg = nx.read_gexf('out/elbulli_nlg.gexf')"
   ]
  },
  {
   "cell_type": "code",
   "execution_count": 4,
   "metadata": {
    "collapsed": true
   },
   "outputs": [],
   "source": [
    "all_ingredients_graph = nx.read_gexf('data/spanish_ingredients_lexicon_5.gexf')"
   ]
  },
  {
   "cell_type": "code",
   "execution_count": null,
   "metadata": {
    "collapsed": true
   },
   "outputs": [],
   "source": [
    "ingredients = all_ingredients_graph.nodes()"
   ]
  },
  {
   "cell_type": "code",
   "execution_count": 5,
   "metadata": {},
   "outputs": [
    {
     "data": {
      "text/plain": [
       "26743"
      ]
     },
     "execution_count": 5,
     "metadata": {},
     "output_type": "execute_result"
    }
   ],
   "source": [
    "len(ingredients)"
   ]
  },
  {
   "cell_type": "code",
   "execution_count": 9,
   "metadata": {},
   "outputs": [
    {
     "data": {
      "text/plain": [
       "['jugos apio',\n",
       " 'chicharros',\n",
       " 'jengibres deshidratado',\n",
       " 'láminas de papas',\n",
       " 'churrascos ternera',\n",
       " 'lomo de puerco',\n",
       " 'esmeraldas limon',\n",
       " 'jugos de pollos',\n",
       " 'hongo hongo alga nori sequias',\n",
       " 'obleas de arroces']"
      ]
     },
     "execution_count": 9,
     "metadata": {},
     "output_type": "execute_result"
    }
   ],
   "source": [
    "ingredients[:10]"
   ]
  },
  {
   "cell_type": "code",
   "execution_count": 10,
   "metadata": {
    "collapsed": true
   },
   "outputs": [],
   "source": [
    "all_techniques_graph = nx.read_gexf('data/spanish_techniques_lexicon_5.gexf')"
   ]
  },
  {
   "cell_type": "code",
   "execution_count": null,
   "metadata": {
    "collapsed": true
   },
   "outputs": [],
   "source": [
    "techniques = all_techniques_graph.nodes()"
   ]
  },
  {
   "cell_type": "code",
   "execution_count": 11,
   "metadata": {},
   "outputs": [
    {
     "data": {
      "text/plain": [
       "4372"
      ]
     },
     "execution_count": 11,
     "metadata": {},
     "output_type": "execute_result"
    }
   ],
   "source": [
    "len(techniques)"
   ]
  },
  {
   "cell_type": "code",
   "execution_count": 9,
   "metadata": {},
   "outputs": [
    {
     "data": {
      "text/plain": [
       "['retencion calorizado',\n",
       " 'al hornagueamos presionado',\n",
       " 'sofreír a presionado',\n",
       " 'al grilla presionado',\n",
       " 'cocidos al vapora',\n",
       " 'productos horneados a presion',\n",
       " 'cocinando vaciando',\n",
       " 'en jiangsu jugamos rui',\n",
       " 'repostado',\n",
       " 'salteando de microondas']"
      ]
     },
     "execution_count": 9,
     "metadata": {},
     "output_type": "execute_result"
    }
   ],
   "source": [
    "techniques[:10]"
   ]
  },
  {
   "cell_type": "code",
   "execution_count": 64,
   "metadata": {
    "collapsed": true
   },
   "outputs": [],
   "source": [
    "def trim(s):\n",
    "    return ' '.join(s.split())"
   ]
  },
  {
   "cell_type": "code",
   "execution_count": 11,
   "metadata": {
    "collapsed": true
   },
   "outputs": [],
   "source": [
    "def my_ngrams(technique):\n",
    "    ngrms = []\n",
    "    tokens = nltk.word_tokenize(technique)\n",
    "    for i in range(1, len(tokens) + 1):\n",
    "        ngrms.extend(ngrams(tokens, i))\n",
    "    return list(map(lambda x: ' '.join(x), ngrms))"
   ]
  },
  {
   "cell_type": "code",
   "execution_count": 62,
   "metadata": {},
   "outputs": [
    {
     "name": "stdout",
     "output_type": "stream",
     "text": [
      "Producto:mozzarella de búfala   crema doble\n",
      "{'label': 'Producto:mozzarella de búfala   crema doble', 'nodetype': 'Producto'}\n"
     ]
    }
   ],
   "source": [
    "for n, data in g_nlg.nodes(data=True):\n",
    "    if data['nodetype'] == 'Producto':\n",
    "        print(n)\n",
    "        print(data)\n",
    "        break"
   ]
  },
  {
   "cell_type": "code",
   "execution_count": 13,
   "metadata": {
    "collapsed": true,
    "scrolled": true
   },
   "outputs": [],
   "source": [
    "%%time\n",
    "\n",
    "\n",
    "\n",
    "# path = 'data/recipes/elbulli/'\n",
    "# for folder in os.listdir(path):\n",
    "#     for filename_number in sorted(map(lambda x: int(x[:-4]), os.listdir(path + folder))):\n",
    "#         filename = str(filename_number) + '.dat'\n",
    "#         with open(path + folder + '/' + filename) as f:\n",
    "#             row = {\n",
    "#                 '_id': '',\n",
    "#                 'title': '',\n",
    "#                 'year': 0,\n",
    "#                 'ingredients': set(),\n",
    "#                 'techniques': set(),\n",
    "#             }\n",
    "#             ingreds = set()\n",
    "#             techns = set()\n",
    "#             for line in f:\n",
    "#                 line = line.lower().strip()\n",
    "#                 if line.startswith('num'):\n",
    "#                     ide = line.split('=')[1]\n",
    "#                 elif line.startswith('&titol='):\n",
    "#                     title = line.split('=')[1]\n",
    "#                 elif line.startswith('&any'):\n",
    "#                     year = int(line.split('=')[1])\n",
    "#                 elif line.startswith('&ingredientselaboracio'):\n",
    "#                     elems = line.split('=')[1].split('#')\n",
    "#                     ingrs = map(trim, elems)\n",
    "#                     for ingr in ingrs:\n",
    "#                         ngrms = my_ngrams(ingr)\n",
    "#                         ngrms.reverse()\n",
    "#                         for ngrm in ngrms:\n",
    "#                             if ngrm in ingredients:\n",
    "#                                 ingreds.add(ngrm)\n",
    "#                                 all_ingredients_graph.node[ngrm]['count'] += 1\n",
    "#                                 break\n",
    "#                 elif line.startswith('&descripcioelaboracio') or \\\n",
    "#                      line.startswith('&acabatipresentacio') or \\\n",
    "#                      line.startswith('&titolelaboracio'):\n",
    "#                     elems = line.split('=')[1].split('#')\n",
    "#                     steps = map(trim, elems)\n",
    "#                     for step in steps:\n",
    "#                         used_ngrams = set()\n",
    "#                         ngrms = my_ngrams(step)\n",
    "#                         ngrms.reverse()\n",
    "#                         for ngrm in ngrms:\n",
    "#                             if ngrm in techniques and all(map(lambda x: ngrm not in x, used_ngrams)):\n",
    "#                                 techns.add(ngrm)\n",
    "#                                 all_techniques_graph.node[ngrm]['count'] += 1\n",
    "#                                 used_ngrams.add(ngrm)\n",
    "#             row['_id'] = ide\n",
    "#             row['title'] = title.lower()\n",
    "#             row['year'] = year\n",
    "#             row['ingredients'] = list(ingreds)\n",
    "#             row['techniques'] = list(techns)\n",
    "#             rows.append(row)\n",
    "            \n",
    "#             count += 1\n",
    "#             if count % 100 == 0:\n",
    "#                 db.elbulli_raw.insert_many(rows)\n",
    "#                 rows = []\n",
    "#                 print(count, 'rows inserted')\n",
    "# db.elbulli_raw.insert_many(rows)\n",
    "# rows = []\n",
    "# print(count, 'rows inserted')\n",
    "\n",
    "# CPU times: user 26min 38s, sys: 560 ms, total: 26min 38s\n",
    "# Wall time: 26min 37s"
   ]
  },
  {
   "cell_type": "code",
   "execution_count": null,
   "metadata": {
    "collapsed": true
   },
   "outputs": [],
   "source": []
  },
  {
   "cell_type": "code",
   "execution_count": null,
   "metadata": {
    "collapsed": true
   },
   "outputs": [],
   "source": []
  },
  {
   "cell_type": "code",
   "execution_count": null,
   "metadata": {
    "collapsed": true
   },
   "outputs": [],
   "source": []
  },
  {
   "cell_type": "code",
   "execution_count": 49,
   "metadata": {
    "collapsed": true
   },
   "outputs": [],
   "source": [
    "prep_prod_rels = ['bañado', 'alcohol', 'chocolate', 'lacteo', 'nuevaPasta', 'producto', 'relleno']\n",
    "prep_ingr_rels = ['composicion']\n",
    "prep_flav_rels = ['sabor']\n",
    "\n",
    "def get_prep_products(g, prep):\n",
    "    return [k for k in g[prep] if g[prep][k]['edgetype'] in prep_prod_rels]\n",
    "\n",
    "def get_prep_ingredients(g, prep):\n",
    "    return [k for k in g[prep] if g[prep][k]['edgetype'] in prep_ingr_rels]\n",
    "\n",
    "def get_prep_flavors(g, prep):\n",
    "    return [k for k in g[prep] if g[prep][k]['edgetype'] in prep_flav_rels]\n",
    "\n",
    "def get_recip_preparations(g, recip):\n",
    "    return [k for k in g[recip] if g[recip][k]['edgetype'] == 'elaboracion']\n",
    "\n",
    "def get_recip_products(g, recip):\n",
    "    preps = get_recip_preparations(g, recip)\n",
    "    return {k for prep in preps for k in get_prep_products(g, prep)}\n",
    "\n",
    "def get_recip_ingredients(g, recip):\n",
    "    preps = get_recip_preparations(g, recip)\n",
    "    return {k for prep in preps for k in get_prep_ingredients(g, prep)}\n",
    "\n",
    "def get_recip_flavors(g, recip):\n",
    "    preps = get_recip_preparations(g, recip)\n",
    "    return {k for prep in preps for k in get_prep_flavors(g, prep)}\n",
    "\n",
    "def get_recip_components(g, recip):\n",
    "    prods = get_recip_products(g, recip)\n",
    "    ingrs = get_recip_ingredients(g, recip)\n",
    "    flavs = get_recip_flavors(g, recip)\n",
    "    return prods.union(ingrs).union(flavs)"
   ]
  },
  {
   "cell_type": "code",
   "execution_count": null,
   "metadata": {
    "collapsed": true
   },
   "outputs": [],
   "source": []
  }
 ],
 "metadata": {
  "kernelspec": {
   "display_name": "Python 3",
   "language": "python",
   "name": "python3"
  },
  "language_info": {
   "codemirror_mode": {
    "name": "ipython",
    "version": 3
   },
   "file_extension": ".py",
   "mimetype": "text/x-python",
   "name": "python",
   "nbconvert_exporter": "python",
   "pygments_lexer": "ipython3",
   "version": "3.5.2"
  }
 },
 "nbformat": 4,
 "nbformat_minor": 1
}
