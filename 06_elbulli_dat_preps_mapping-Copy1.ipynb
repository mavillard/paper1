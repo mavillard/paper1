{
 "cells": [
  {
   "cell_type": "code",
   "execution_count": 1,
   "metadata": {
    "collapsed": true
   },
   "outputs": [],
   "source": [
    "import os\n",
    "import string\n",
    "from collections import Counter\n",
    "from collections import defaultdict\n",
    "from itertools import product\n",
    "\n",
    "import networkx as nx\n",
    "import nltk\n",
    "from nltk.util import ngrams"
   ]
  },
  {
   "cell_type": "code",
   "execution_count": 2,
   "metadata": {
    "collapsed": true
   },
   "outputs": [],
   "source": [
    "ingredients_graph = nx.read_gexf('data/spanish_ingredients_lexicon_5.gexf')"
   ]
  },
  {
   "cell_type": "code",
   "execution_count": 3,
   "metadata": {
    "collapsed": true
   },
   "outputs": [],
   "source": [
    "g_nlg = nx.read_gexf('out/elbulli_nlg.gexf')"
   ]
  },
  {
   "cell_type": "code",
   "execution_count": 4,
   "metadata": {
    "collapsed": true
   },
   "outputs": [],
   "source": [
    "g_dat = nx.read_gexf('out/elbulli_dat.gexf')"
   ]
  },
  {
   "cell_type": "code",
   "execution_count": 5,
   "metadata": {
    "collapsed": true
   },
   "outputs": [],
   "source": [
    "prep_prod_rels = ['bañado', 'alcohol', 'chocolate', 'lacteo', 'nuevaPasta', 'producto', 'relleno']\n",
    "prep_ingr_rels = ['composicion']\n",
    "prep_flav_rels = ['sabor']\n",
    "prep_tech_rels = ['tecnica']\n",
    "\n",
    "def get_prep_products(g, prep):\n",
    "    return {k for k in g[prep] if g[prep][k]['edgetype'] in prep_prod_rels}\n",
    "\n",
    "def get_prep_ingredients(g, prep):\n",
    "    return {k for k in g[prep] if g[prep][k]['edgetype'] in prep_ingr_rels}\n",
    "\n",
    "def get_prep_flavors(g, prep):\n",
    "    return {k for k in g[prep] if g[prep][k]['edgetype'] in prep_flav_rels}\n",
    "\n",
    "def get_prep_components(g, prep):\n",
    "    prods = get_prep_products(g, prep)\n",
    "    prods = set(map(lambda x: x.replace('Producto:', ''), prods))\n",
    "    ingrs = get_prep_ingredients(g, prep)\n",
    "    flavs = get_prep_flavors(g, prep)\n",
    "    flavs = set(map(lambda x: x.replace('sabor:', ''), flavs))\n",
    "    return prods.union(ingrs).union(flavs)\n",
    "\n",
    "def get_prep_techniques(g, prep):\n",
    "    return {k for k in g[prep] if g[prep][k]['edgetype'] in prep_tech_rels}\n",
    "\n",
    "def get_recip_preparations(g, recip):\n",
    "    return [k for k in g[recip] if g[recip][k]['edgetype'] == 'elaboracion']\n",
    "\n",
    "def get_recip_products(g, recip):\n",
    "    preps = get_recip_preparations(g, recip)\n",
    "    return {k for prep in preps for k in get_prep_products(g, prep)}\n",
    "\n",
    "def get_recip_ingredients(g, recip):\n",
    "    preps = get_recip_preparations(g, recip)\n",
    "    return {k for prep in preps for k in get_prep_ingredients(g, prep)}\n",
    "\n",
    "def get_recip_flavors(g, recip):\n",
    "    preps = get_recip_preparations(g, recip)\n",
    "    return {k for prep in preps for k in get_prep_flavors(g, prep)}\n",
    "\n",
    "def get_recip_components(g, recip):\n",
    "    preps = get_recip_preparations(g, recip)\n",
    "    return {k for prep in preps for k in get_prep_components(g, prep)}\n",
    "\n",
    "def get_recip_techniques(g, recip):\n",
    "    preps = get_recip_preparations(g, recip)\n",
    "    return {k for prep in preps for k in get_prep_techniques(g, prep)}\n",
    "\n",
    "def get_nodes_by_type(g, typ):\n",
    "    return [n for n, data in g.nodes_iter(data=True) if data['nodetype'] == typ]\n",
    "\n",
    "def get_recipes(g):\n",
    "    return get_nodes_by_type(g, 'Receta')\n",
    "\n",
    "def get_preparations(g):\n",
    "    return get_nodes_by_type(g, 'Elaboracion')"
   ]
  },
  {
   "cell_type": "code",
   "execution_count": 6,
   "metadata": {
    "collapsed": true
   },
   "outputs": [],
   "source": [
    "def my_node_connected_component(g, n):\n",
    "    if n in ingredients_graph:\n",
    "        r = nx.node_connected_component(ingredients_graph, n)\n",
    "    else:\n",
    "        r = {n}\n",
    "    return r\n",
    "\n",
    "def equivalent_components(comps_dat, comps_nlg):\n",
    "    if comps_dat == comps_nlg:\n",
    "        r = True\n",
    "    else:\n",
    "        r = False\n",
    "        if len(comps_dat) == len(comps_nlg):\n",
    "            cartesian_product = product(\n",
    "                *[my_node_connected_component(ingredients_graph, c) for c in comps_dat]\n",
    "            )\n",
    "            cartesian_product = map(set, cartesian_product)\n",
    "            for comps in cartesian_product:\n",
    "                if comps == comps_nlg:\n",
    "                    r = True\n",
    "                    break\n",
    "    return r\n",
    "\n",
    "def reduce(s):\n",
    "    r = s\n",
    "    for e1 in r.copy():\n",
    "        for e2 in r.copy():\n",
    "            if e1 in e2 and e1 != e2:\n",
    "                r.remove(e1)\n",
    "                break\n",
    "    return r"
   ]
  },
  {
   "cell_type": "code",
   "execution_count": 7,
   "metadata": {
    "collapsed": true
   },
   "outputs": [],
   "source": [
    "n_recipes = len(get_recipes(g_dat))\n",
    "n_preparations_dat = len(get_preparations(g_dat))\n",
    "n_preparations_nlg = len(get_preparations(g_nlg))"
   ]
  },
  {
   "cell_type": "code",
   "execution_count": 8,
   "metadata": {},
   "outputs": [
    {
     "name": "stdout",
     "output_type": "stream",
     "text": [
      "Recipes: 1214\n",
      "Preparations nlg: 4636\n",
      "Preparations dat: 7052\n"
     ]
    }
   ],
   "source": [
    "print('Recipes:', n_recipes)\n",
    "print('Preparations nlg:', n_preparations_nlg)\n",
    "print('Preparations dat:', n_preparations_dat)"
   ]
  },
  {
   "cell_type": "code",
   "execution_count": 9,
   "metadata": {
    "collapsed": true
   },
   "outputs": [],
   "source": [
    "mapped_recipes = set()\n",
    "bipartite_graph = nx.Graph()"
   ]
  },
  {
   "cell_type": "code",
   "execution_count": 10,
   "metadata": {},
   "outputs": [
    {
     "name": "stdout",
     "output_type": "stream",
     "text": [
      "Mapped recipes: 0/1214 - 0.00%\n",
      "Mapped preparations: 0/7052 - 0.00%\n"
     ]
    }
   ],
   "source": [
    "n1 = len(mapped_recipes)\n",
    "n2 = n_recipes\n",
    "print('Mapped recipes: %d/%d - %.2f%%' % (n1, n2, n1 / n2 * 100))\n",
    "m1 = len(get_nodes_by_type(bipartite_graph, 'dat'))\n",
    "m2 = len(get_preparations(g_dat))\n",
    "print('Mapped preparations: %d/%d - %.2f%%' % (m1, m2, m1 / m2 * 100))"
   ]
  },
  {
   "cell_type": "code",
   "execution_count": 11,
   "metadata": {
    "collapsed": true
   },
   "outputs": [],
   "source": [
    "for n in get_recipes(g_dat):\n",
    "    preps_dat = get_recip_preparations(g_dat, n)\n",
    "    preps_nlg = get_recip_preparations(g_nlg, n)\n",
    "    mappings = {}\n",
    "    for i in range(len(preps_dat)):\n",
    "        prep_dat = preps_dat[i]\n",
    "        comps_dat = get_prep_components(g_dat, prep_dat)\n",
    "        mappings[prep_dat] = []\n",
    "        for j in range(len(preps_nlg)):\n",
    "            prep_nlg = preps_nlg[j]\n",
    "            comps_nlg = get_prep_components(g_nlg, prep_nlg)\n",
    "            if equivalent_components(reduce(comps_dat), reduce(comps_nlg)):\n",
    "                mappings[prep_dat].append(prep_nlg)\n",
    "    for k in mappings:\n",
    "        if len(mappings[k]) == 1:\n",
    "            v = mappings[k][0]\n",
    "            bipartite_graph.add_node(k, {'nodetype': 'dat'})\n",
    "            bipartite_graph.add_node(v, {'nodetype': 'nlg'})\n",
    "            bipartite_graph.add_edge(k, v)\n",
    "        mapped_recipes.add(n)"
   ]
  },
  {
   "cell_type": "code",
   "execution_count": 12,
   "metadata": {},
   "outputs": [
    {
     "name": "stdout",
     "output_type": "stream",
     "text": [
      "Mapped recipes: 1214/1214 - 100.00%\n",
      "Mapped preparations: 694/7052 - 9.84%\n"
     ]
    }
   ],
   "source": [
    "n1 = len(mapped_recipes)\n",
    "n2 = n_recipes\n",
    "print('Mapped recipes: %d/%d - %.2f%%' % (n1, n2, n1 / n2 * 100))\n",
    "m1 = len(get_nodes_by_type(bipartite_graph, 'dat'))\n",
    "m2 = len(get_preparations(g_dat))\n",
    "print('Mapped preparations: %d/%d - %.2f%%' % (m1, m2, m1 / m2 * 100))"
   ]
  },
  {
   "cell_type": "code",
   "execution_count": null,
   "metadata": {
    "collapsed": true
   },
   "outputs": [],
   "source": []
  }
 ],
 "metadata": {
  "kernelspec": {
   "display_name": "Python 3",
   "language": "python",
   "name": "python3"
  },
  "language_info": {
   "codemirror_mode": {
    "name": "ipython",
    "version": 3
   },
   "file_extension": ".py",
   "mimetype": "text/x-python",
   "name": "python",
   "nbconvert_exporter": "python",
   "pygments_lexer": "ipython3",
   "version": "3.5.2"
  }
 },
 "nbformat": 4,
 "nbformat_minor": 1
}
