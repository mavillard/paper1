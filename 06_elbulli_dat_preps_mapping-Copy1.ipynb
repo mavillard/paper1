{
 "cells": [
  {
   "cell_type": "code",
   "execution_count": 1,
   "metadata": {
    "collapsed": true
   },
   "outputs": [],
   "source": [
    "import os\n",
    "import string\n",
    "from collections import Counter\n",
    "from collections import defaultdict\n",
    "from itertools import product\n",
    "\n",
    "import networkx as nx\n",
    "import nltk\n",
    "from nltk.util import ngrams"
   ]
  },
  {
   "cell_type": "code",
   "execution_count": 2,
   "metadata": {
    "collapsed": true
   },
   "outputs": [],
   "source": [
    "ingredients_graph = nx.read_gexf('data/spanish_ingredients_lexicon_5.gexf')"
   ]
  },
  {
   "cell_type": "code",
   "execution_count": 3,
   "metadata": {
    "collapsed": true
   },
   "outputs": [],
   "source": [
    "g_nlg = nx.read_gexf('out/elbulli_nlg.gexf')"
   ]
  },
  {
   "cell_type": "code",
   "execution_count": 4,
   "metadata": {
    "collapsed": true
   },
   "outputs": [],
   "source": [
    "g_dat = nx.read_gexf('out/elbulli_dat.gexf')"
   ]
  },
  {
   "cell_type": "code",
   "execution_count": 5,
   "metadata": {},
   "outputs": [],
   "source": [
    "prep_prod_rels = ['bañado', 'alcohol', 'chocolate', 'lacteo', 'nuevaPasta', 'producto', 'relleno']\n",
    "prep_ingr_rels = ['composicion']\n",
    "prep_flav_rels = ['sabor']\n",
    "prep_tech_rels = ['tecnica']\n",
    "\n",
    "def get_prep_products(g, prep):\n",
    "    return {k for k in g[prep] if g[prep][k]['edgetype'] in prep_prod_rels}\n",
    "\n",
    "def get_prep_ingredients(g, prep):\n",
    "    return {k for k in g[prep] if g[prep][k]['edgetype'] in prep_ingr_rels}\n",
    "\n",
    "def get_prep_flavors(g, prep):\n",
    "    return {k for k in g[prep] if g[prep][k]['edgetype'] in prep_flav_rels}\n",
    "\n",
    "def get_prep_components(g, prep):\n",
    "    prods = get_prep_products(g, prep)\n",
    "    prods = set(map(lambda x: x.replace('Producto:', ''), prods))\n",
    "    ingrs = get_prep_ingredients(g, prep)\n",
    "    flavs = get_prep_flavors(g, prep)\n",
    "    flavs = set(map(lambda x: x.replace('sabor:', ''), flavs))\n",
    "    return prods.union(ingrs).union(flavs)\n",
    "\n",
    "def get_prep_techniques(g, prep):\n",
    "    return {k for k in g[prep] if g[prep][k]['edgetype'] in prep_tech_rels}\n",
    "\n",
    "def get_recip_preparations(g, recip):\n",
    "    return [k for k in g[recip] if g[recip][k]['edgetype'] == 'elaboracion']\n",
    "\n",
    "def get_recip_products(g, recip):\n",
    "    preps = get_recip_preparations(g, recip)\n",
    "    return {k for prep in preps for k in get_prep_products(g, prep)}\n",
    "\n",
    "def get_recip_ingredients(g, recip):\n",
    "    preps = get_recip_preparations(g, recip)\n",
    "    return {k for prep in preps for k in get_prep_ingredients(g, prep)}\n",
    "\n",
    "def get_recip_flavors(g, recip):\n",
    "    preps = get_recip_preparations(g, recip)\n",
    "    return {k for prep in preps for k in get_prep_flavors(g, prep)}\n",
    "\n",
    "def get_recip_components(g, recip):\n",
    "    preps = get_recip_preparations(g, recip)\n",
    "    return {k for prep in preps for k in get_prep_components(g, prep)}\n",
    "\n",
    "def get_recip_techniques(g, recip):\n",
    "    preps = get_recip_preparations(g, recip)\n",
    "    return {k for prep in preps for k in get_prep_techniques(g, prep)}\n",
    "\n",
    "def get_nodes_by_type(g, typ):\n",
    "    return [n for n, data in g.nodes_iter(data=True) if data['nodetype'] == typ]\n",
    "\n",
    "def get_recipes(g):\n",
    "    return get_nodes_by_type(g, 'Receta')\n",
    "\n",
    "def get_preparations(g):\n",
    "    return get_nodes_by_type(g, 'Elaboracion')"
   ]
  },
  {
   "cell_type": "code",
   "execution_count": 6,
   "metadata": {},
   "outputs": [],
   "source": [
    "def all_one_value(d):\n",
    "    return all(map(lambda x: len(x) == 1, d.values()))\n",
    "\n",
    "def my_node_connected_component(g, n):\n",
    "    if n in ingredients_graph:\n",
    "        r = nx.node_connected_component(ingredients_graph, n)\n",
    "    else:\n",
    "        r = {n}\n",
    "    return r\n",
    "\n",
    "def equivalent_components(comps_dat, comps_nlg):\n",
    "    if comps_dat == comps_nlg:\n",
    "        r = True\n",
    "    else:\n",
    "        r = False\n",
    "        if len(comps_dat) == len(comps_nlg):\n",
    "            cartesian_product = product(\n",
    "                *[my_node_connected_component(ingredients_graph, c) for c in comps_dat]\n",
    "            )\n",
    "            cartesian_product = map(set, cartesian_product)\n",
    "            for comps in cartesian_product:\n",
    "                if comps == comps_nlg:\n",
    "                    r = True\n",
    "                    break\n",
    "    return r"
   ]
  },
  {
   "cell_type": "code",
   "execution_count": 7,
   "metadata": {
    "collapsed": true
   },
   "outputs": [],
   "source": [
    "n_recipes = len(get_recipes(g_dat))\n",
    "n_preparations_dat = len(get_preparations(g_dat))\n",
    "n_preparations_nlg = len(get_preparations(g_nlg))"
   ]
  },
  {
   "cell_type": "code",
   "execution_count": 8,
   "metadata": {},
   "outputs": [
    {
     "name": "stdout",
     "output_type": "stream",
     "text": [
      "Recipes: 1214\n",
      "Preparations nlg: 4636\n",
      "Preparations dat: 7052\n"
     ]
    }
   ],
   "source": [
    "print('Recipes:', n_recipes)\n",
    "print('Preparations nlg:', n_preparations_nlg)\n",
    "print('Preparations dat:', n_preparations_dat)"
   ]
  },
  {
   "cell_type": "code",
   "execution_count": 9,
   "metadata": {},
   "outputs": [],
   "source": [
    "mapped_recipes = set()\n",
    "bipartite_graph = nx.Graph()"
   ]
  },
  {
   "cell_type": "code",
   "execution_count": 11,
   "metadata": {},
   "outputs": [
    {
     "name": "stdout",
     "output_type": "stream",
     "text": [
      "Mapped recipes: 0/1214 - 0.00%\n",
      "Mapped preparations: 0/7052 - 0.00%\n"
     ]
    }
   ],
   "source": [
    "n1 = len(mapped_recipes)\n",
    "n2 = n_recipes\n",
    "print('Mapped recipes: %d/%d - %.2f%%' % (n1, n2, n1 / n2 * 100))\n",
    "m1 = len(get_nodes_by_type(bipartite_graph, 'dat'))\n",
    "m2 = len(get_preparations(g_dat))\n",
    "print('Mapped preparations: %d/%d - %.2f%%' % (m1, m2, m1 / m2 * 100))"
   ]
  },
  {
   "cell_type": "code",
   "execution_count": 12,
   "metadata": {
    "collapsed": true
   },
   "outputs": [],
   "source": [
    "# 1st iteration: recipes with same preparations and same components"
   ]
  },
  {
   "cell_type": "code",
   "execution_count": 13,
   "metadata": {},
   "outputs": [],
   "source": [
    "# 1st part: map preparations\n",
    "for n in get_recipes(g_dat):\n",
    "    if n not in mapped_recipes:\n",
    "        preps_dat = get_recip_preparations(g_dat, n)\n",
    "        preps_nlg = get_recip_preparations(g_nlg, n)\n",
    "        if len(preps_dat) == len(preps_nlg):\n",
    "            mappings = {}\n",
    "            for i in range(len(preps_dat)):\n",
    "                prep_dat = preps_dat[i]\n",
    "                comps_dat = get_prep_components(g_dat, prep_dat)\n",
    "                mappings[prep_dat] = []\n",
    "                for j in range(len(preps_nlg)):\n",
    "                    prep_nlg = preps_nlg[j]\n",
    "                    comps_nlg = get_prep_components(g_nlg, prep_nlg)\n",
    "                    if comps_dat == comps_nlg:\n",
    "                        mappings[prep_dat].append(prep_nlg)\n",
    "            if all_one_value(mappings):\n",
    "                for k in mappings:\n",
    "                    v = mappings[k][0]\n",
    "                    bipartite_graph.add_node(k, {'nodetype': 'dat'})\n",
    "                    bipartite_graph.add_node(v, {'nodetype': 'nlg'})\n",
    "                    bipartite_graph.add_edge(k, v)\n",
    "                mapped_recipes.add(n)"
   ]
  },
  {
   "cell_type": "code",
   "execution_count": 14,
   "metadata": {},
   "outputs": [
    {
     "name": "stdout",
     "output_type": "stream",
     "text": [
      "Mapped recipes: 2/1214 - 0.16%\n",
      "Mapped preparations: 2/7052 - 0.03%\n"
     ]
    }
   ],
   "source": [
    "n1 = len(mapped_recipes)\n",
    "n2 = n_recipes\n",
    "print('Mapped recipes: %d/%d - %.2f%%' % (n1, n2, n1 / n2 * 100))\n",
    "m1 = len(get_nodes_by_type(bipartite_graph, 'dat'))\n",
    "m2 = len(get_preparations(g_dat))\n",
    "print('Mapped preparations: %d/%d - %.2f%%' % (m1, m2, m1 / m2 * 100))"
   ]
  },
  {
   "cell_type": "code",
   "execution_count": 15,
   "metadata": {},
   "outputs": [],
   "source": [
    "# 2nd part: identify other recipes that contain mapped preparations\n",
    "mapped_preparations = get_nodes_by_type(bipartite_graph, 'nlg')\n",
    "for n in get_recipes(g_dat):\n",
    "    if n not in mapped_recipes:\n",
    "        preps_nlg = get_recip_preparations(g_nlg, n)\n",
    "        if set(preps_nlg).intersection(mapped_preparations):\n",
    "            print('HIT')"
   ]
  },
  {
   "cell_type": "code",
   "execution_count": 16,
   "metadata": {},
   "outputs": [
    {
     "name": "stdout",
     "output_type": "stream",
     "text": [
      "Mapped recipes: 2/1214 - 0.16%\n",
      "Mapped preparations: 2/7052 - 0.03%\n"
     ]
    }
   ],
   "source": [
    "n1 = len(mapped_recipes)\n",
    "n2 = n_recipes\n",
    "print('Mapped recipes: %d/%d - %.2f%%' % (n1, n2, n1 / n2 * 100))\n",
    "m1 = len(get_nodes_by_type(bipartite_graph, 'dat'))\n",
    "m2 = len(get_preparations(g_dat))\n",
    "print('Mapped preparations: %d/%d - %.2f%%' % (m1, m2, m1 / m2 * 100))"
   ]
  },
  {
   "cell_type": "code",
   "execution_count": 17,
   "metadata": {
    "collapsed": true
   },
   "outputs": [],
   "source": [
    "# 2nd iteration: recipes with same preparations and equivalent components"
   ]
  },
  {
   "cell_type": "code",
   "execution_count": 18,
   "metadata": {},
   "outputs": [],
   "source": [
    "# 1st part: map preparations\n",
    "for n in get_recipes(g_dat):\n",
    "    if n not in mapped_recipes:\n",
    "        preps_dat = get_recip_preparations(g_dat, n)\n",
    "        preps_nlg = get_recip_preparations(g_nlg, n)\n",
    "        if len(preps_dat) == len(preps_nlg):\n",
    "            mappings = {}\n",
    "            for i in range(len(preps_dat)):\n",
    "                prep_dat = preps_dat[i]\n",
    "                comps_dat = get_prep_components(g_dat, prep_dat)\n",
    "                mappings[prep_dat] = []\n",
    "                for j in range(len(preps_nlg)):\n",
    "                    prep_nlg = preps_nlg[j]\n",
    "                    comps_nlg = get_prep_components(g_nlg, prep_nlg)\n",
    "                    if equivalent_components(comps_dat, comps_nlg):\n",
    "                        mappings[prep_dat].append(prep_nlg)\n",
    "            if all_one_value(mappings):\n",
    "                for k in mappings:\n",
    "                    v = mappings[k][0]\n",
    "                    bipartite_graph.add_node(k, {'nodetype': 'dat'})\n",
    "                    bipartite_graph.add_node(v, {'nodetype': 'nlg'})\n",
    "                    bipartite_graph.add_edge(k, v)\n",
    "                mapped_recipes.add(n)"
   ]
  },
  {
   "cell_type": "code",
   "execution_count": 19,
   "metadata": {},
   "outputs": [
    {
     "name": "stdout",
     "output_type": "stream",
     "text": [
      "Mapped recipes: 3/1214 - 0.25%\n",
      "Mapped preparations: 3/7052 - 0.04%\n"
     ]
    }
   ],
   "source": [
    "n1 = len(mapped_recipes)\n",
    "n2 = n_recipes\n",
    "print('Mapped recipes: %d/%d - %.2f%%' % (n1, n2, n1 / n2 * 100))\n",
    "m1 = len(get_nodes_by_type(bipartite_graph, 'dat'))\n",
    "m2 = len(get_preparations(g_dat))\n",
    "print('Mapped preparations: %d/%d - %.2f%%' % (m1, m2, m1 / m2 * 100))"
   ]
  },
  {
   "cell_type": "code",
   "execution_count": 20,
   "metadata": {
    "collapsed": true
   },
   "outputs": [],
   "source": [
    "# 2nd part: identify other recipes that contain mapped preparations\n",
    "mapped_preparations = get_nodes_by_type(bipartite_graph, 'nlg')\n",
    "for n in get_recipes(g_dat):\n",
    "    if n not in mapped_recipes:\n",
    "        preps_nlg = get_recip_preparations(g_nlg, n)\n",
    "        if set(preps_nlg).intersection(mapped_preparations):\n",
    "            print('HIT')"
   ]
  },
  {
   "cell_type": "code",
   "execution_count": 21,
   "metadata": {},
   "outputs": [
    {
     "name": "stdout",
     "output_type": "stream",
     "text": [
      "Mapped recipes: 3/1214 - 0.00%\n",
      "Mapped preparations: 3/7052 - 0.00%\n"
     ]
    }
   ],
   "source": [
    "n1 = len(mapped_recipes)\n",
    "n2 = n_recipes\n",
    "print('Mapped recipes: %d/%d - %.2f%%' % (n1, n2, n1 / n2 * 100))\n",
    "m1 = len(get_nodes_by_type(bipartite_graph, 'dat'))\n",
    "m2 = len(get_preparations(g_dat))\n",
    "print('Mapped preparations: %d/%d - %.2f%%' % (m1, m2, m1 / m2 * 100))"
   ]
  },
  {
   "cell_type": "code",
   "execution_count": 22,
   "metadata": {
    "collapsed": true
   },
   "outputs": [],
   "source": [
    "# 3rd iteration: recipes with same preparations, equivalent components, and not all one value"
   ]
  },
  {
   "cell_type": "code",
   "execution_count": 23,
   "metadata": {
    "collapsed": true
   },
   "outputs": [],
   "source": [
    "# 1st part: map preparations\n",
    "for n in get_recipes(g_dat):\n",
    "    if n not in mapped_recipes:\n",
    "        preps_dat = get_recip_preparations(g_dat, n)\n",
    "        preps_nlg = get_recip_preparations(g_nlg, n)\n",
    "        if len(preps_dat) == len(preps_nlg):\n",
    "            mappings = {}\n",
    "            for i in range(len(preps_dat)):\n",
    "                prep_dat = preps_dat[i]\n",
    "                comps_dat = get_prep_components(g_dat, prep_dat)\n",
    "                mappings[prep_dat] = []\n",
    "                for j in range(len(preps_nlg)):\n",
    "                    prep_nlg = preps_nlg[j]\n",
    "                    comps_nlg = get_prep_components(g_nlg, prep_nlg)\n",
    "                    if equivalent_components(comps_dat, comps_nlg):\n",
    "                        mappings[prep_dat].append(prep_nlg)\n",
    "            for k in mappings:\n",
    "                if len(mappings[k]) == 1:\n",
    "                    v = mappings[k][0]\n",
    "                    bipartite_graph.add_node(k, {'nodetype': 'dat'})\n",
    "                    bipartite_graph.add_node(v, {'nodetype': 'nlg'})\n",
    "                    bipartite_graph.add_edge(k, v)"
   ]
  },
  {
   "cell_type": "code",
   "execution_count": 24,
   "metadata": {},
   "outputs": [
    {
     "name": "stdout",
     "output_type": "stream",
     "text": [
      "Mapped recipes: 3/1214 - 0.25%\n",
      "Mapped preparations: 71/7052 - 1.01%\n"
     ]
    }
   ],
   "source": [
    "n1 = len(mapped_recipes)\n",
    "n2 = n_recipes\n",
    "print('Mapped recipes: %d/%d - %.2f%%' % (n1, n2, n1 / n2 * 100))\n",
    "m1 = len(get_nodes_by_type(bipartite_graph, 'dat'))\n",
    "m2 = len(get_preparations(g_dat))\n",
    "print('Mapped preparations: %d/%d - %.2f%%' % (m1, m2, m1 / m2 * 100))"
   ]
  },
  {
   "cell_type": "code",
   "execution_count": 25,
   "metadata": {},
   "outputs": [
    {
     "data": {
      "text/plain": [
       "{'163-1': [],\n",
       " '163-2': [],\n",
       " '163-3': [],\n",
       " '163-4': ['Elaboracion19871997-512'],\n",
       " '163-5': []}"
      ]
     },
     "execution_count": 25,
     "metadata": {},
     "output_type": "execute_result"
    }
   ],
   "source": [
    "mappings"
   ]
  },
  {
   "cell_type": "code",
   "execution_count": 25,
   "metadata": {},
   "outputs": [
    {
     "name": "stdout",
     "output_type": "stream",
     "text": [
      "HIT\n",
      "HIT\n",
      "HIT\n",
      "HIT\n",
      "HIT\n",
      "HIT\n",
      "HIT\n",
      "HIT\n",
      "HIT\n",
      "HIT\n",
      "HIT\n",
      "HIT\n",
      "HIT\n",
      "HIT\n",
      "HIT\n",
      "HIT\n",
      "HIT\n",
      "HIT\n",
      "HIT\n",
      "HIT\n",
      "HIT\n",
      "HIT\n",
      "HIT\n",
      "HIT\n",
      "HIT\n",
      "HIT\n",
      "HIT\n",
      "HIT\n",
      "HIT\n",
      "HIT\n",
      "HIT\n",
      "HIT\n",
      "HIT\n",
      "HIT\n",
      "HIT\n",
      "HIT\n",
      "HIT\n",
      "HIT\n",
      "HIT\n",
      "HIT\n",
      "HIT\n",
      "HIT\n",
      "HIT\n",
      "HIT\n",
      "HIT\n",
      "HIT\n"
     ]
    }
   ],
   "source": [
    "# 2nd part: identify other recipes that contain mapped preparations\n",
    "mapped_preparations = get_nodes_by_type(bipartite_graph, 'nlg')\n",
    "for n in get_recipes(g_dat):\n",
    "    if n not in mapped_recipes:\n",
    "        preps_nlg = get_recip_preparations(g_nlg, n)\n",
    "        if set(preps_nlg).intersection(mapped_preparations):\n",
    "            print('HIT')"
   ]
  },
  {
   "cell_type": "code",
   "execution_count": 20,
   "metadata": {},
   "outputs": [
    {
     "name": "stdout",
     "output_type": "stream",
     "text": [
      "Mapped recipes: 3/1214 - 0.00%\n",
      "Mapped preparations: 3/7052 - 0.00%\n"
     ]
    }
   ],
   "source": [
    "n1 = len(mapped_recipes)\n",
    "n2 = n_recipes\n",
    "print('Mapped recipes: %d/%d - %.2f%%' % (n1, n2, n1 / n2 * 100))\n",
    "m1 = len(get_nodes_by_type(bipartite_graph, 'dat'))\n",
    "m2 = len(get_preparations(g_dat))\n",
    "print('Mapped preparations: %d/%d - %.2f%%' % (m1, m2, m1 / m2 * 100))"
   ]
  },
  {
   "cell_type": "code",
   "execution_count": null,
   "metadata": {
    "collapsed": true
   },
   "outputs": [],
   "source": []
  },
  {
   "cell_type": "code",
   "execution_count": 22,
   "metadata": {},
   "outputs": [
    {
     "name": "stdout",
     "output_type": "stream",
     "text": [
      "39\n",
      "543\n",
      "196\n"
     ]
    }
   ],
   "source": [
    "for r in get_recipes(g_nlg):\n",
    "    for p in get_recip_preparations(g_nlg, r):\n",
    "        if p in bipartite_graph:\n",
    "            print(r)"
   ]
  },
  {
   "cell_type": "code",
   "execution_count": null,
   "metadata": {
    "collapsed": true
   },
   "outputs": [],
   "source": []
  },
  {
   "cell_type": "code",
   "execution_count": null,
   "metadata": {
    "collapsed": true
   },
   "outputs": [],
   "source": []
  },
  {
   "cell_type": "code",
   "execution_count": 16,
   "metadata": {},
   "outputs": [
    {
     "data": {
      "text/plain": [
       "[('543-1', 'Elaboracion19982001-942'),\n",
       " ('39-1', 'Elaboracion19871997-111'),\n",
       " ('Elaboracion19871997-129', '196-1')]"
      ]
     },
     "execution_count": 16,
     "metadata": {},
     "output_type": "execute_result"
    }
   ],
   "source": [
    "bipartite_graph.edges()"
   ]
  },
  {
   "cell_type": "code",
   "execution_count": 18,
   "metadata": {},
   "outputs": [
    {
     "data": {
      "text/plain": [
       "True"
      ]
     },
     "execution_count": 18,
     "metadata": {},
     "output_type": "execute_result"
    }
   ],
   "source": [
    "bipartite_graph.has_edge('Elaboracion19982001-942', '543-1') "
   ]
  },
  {
   "cell_type": "code",
   "execution_count": 26,
   "metadata": {},
   "outputs": [
    {
     "data": {
      "text/plain": [
       "{'naranja'}"
      ]
     },
     "execution_count": 26,
     "metadata": {},
     "output_type": "execute_result"
    }
   ],
   "source": [
    "get_prep_components(g_dat, '932-8')"
   ]
  },
  {
   "cell_type": "code",
   "execution_count": 27,
   "metadata": {},
   "outputs": [
    {
     "data": {
      "text/plain": [
       "{'naranja'}"
      ]
     },
     "execution_count": 27,
     "metadata": {},
     "output_type": "execute_result"
    }
   ],
   "source": [
    "get_prep_components(g_nlg, 'Elaboracion20032004-733')"
   ]
  },
  {
   "cell_type": "code",
   "execution_count": 28,
   "metadata": {},
   "outputs": [
    {
     "data": {
      "text/plain": [
       "{'naranja'}"
      ]
     },
     "execution_count": 28,
     "metadata": {},
     "output_type": "execute_result"
    }
   ],
   "source": [
    "get_prep_components(g_nlg, 'Elaboracion20032004-736')"
   ]
  },
  {
   "cell_type": "code",
   "execution_count": 29,
   "metadata": {},
   "outputs": [
    {
     "data": {
      "text/plain": [
       "{'DULCE': {'edgetype': 'mundo', 'id': '31301'},\n",
       " 'TOQUES': {'edgetype': 'se clasifica', 'id': '15801'},\n",
       " 'sabor:naranja': {'edgetype': 'sabor', 'id': '15800'}}"
      ]
     },
     "execution_count": 29,
     "metadata": {},
     "output_type": "execute_result"
    }
   ],
   "source": [
    "g_nlg['Elaboracion20032004-736']"
   ]
  },
  {
   "cell_type": "code",
   "execution_count": 30,
   "metadata": {},
   "outputs": [
    {
     "data": {
      "text/plain": [
       "{'DULCE': {'edgetype': 'mundo', 'id': '30878'},\n",
       " 'TOQUES': {'edgetype': 'se clasifica', 'id': '21616'},\n",
       " 'sabor:naranja': {'edgetype': 'sabor', 'id': '21615'}}"
      ]
     },
     "execution_count": 30,
     "metadata": {},
     "output_type": "execute_result"
    }
   ],
   "source": [
    "g_nlg['Elaboracion20032004-733']"
   ]
  },
  {
   "cell_type": "code",
   "execution_count": 31,
   "metadata": {},
   "outputs": [
    {
     "data": {
      "text/plain": [
       "{'2003': {'edgetype': 'publicado en', 'id': '24013'},\n",
       " 'AMBIENTE': {'edgetype': 'temperatura', 'id': '21917'},\n",
       " 'Elaboracion20032004-307': {'edgetype': 'elaboracion', 'id': '21927'},\n",
       " 'Elaboracion20032004-571': {'edgetype': 'elaboracion', 'id': '21923'},\n",
       " 'Elaboracion20032004-661': {'edgetype': 'elaboracion', 'id': '21929'},\n",
       " 'Elaboracion20032004-671': {'edgetype': 'elaboracion', 'id': '21925'},\n",
       " 'Elaboracion20032004-715': {'edgetype': 'elaboracion', 'id': '21924'},\n",
       " 'Elaboracion20032004-733': {'edgetype': 'elaboracion', 'id': '21919'},\n",
       " 'Elaboracion20032004-736': {'edgetype': 'elaboracion', 'id': '21918'},\n",
       " 'Elaboracion20032004-751': {'edgetype': 'elaboracion', 'id': '21928'},\n",
       " 'Elaboracion20032004-766': {'edgetype': 'elaboracion', 'id': '21921'},\n",
       " 'Estilo20032004-14': {'edgetype': 'estilo', 'id': '21926'},\n",
       " 'Estilo20032004-9': {'edgetype': 'estilo', 'id': '21922'},\n",
       " 'POSTRES': {'edgetype': 'se clasifica', 'id': '21920'}}"
      ]
     },
     "execution_count": 31,
     "metadata": {},
     "output_type": "execute_result"
    }
   ],
   "source": [
    "g_nlg['932']"
   ]
  },
  {
   "cell_type": "code",
   "execution_count": null,
   "metadata": {
    "collapsed": true
   },
   "outputs": [],
   "source": []
  },
  {
   "cell_type": "code",
   "execution_count": null,
   "metadata": {
    "collapsed": true
   },
   "outputs": [],
   "source": []
  },
  {
   "cell_type": "code",
   "execution_count": null,
   "metadata": {
    "collapsed": true
   },
   "outputs": [],
   "source": []
  },
  {
   "cell_type": "code",
   "execution_count": 87,
   "metadata": {},
   "outputs": [
    {
     "ename": "NameError",
     "evalue": "name 'get_nlg_preparations' is not defined",
     "output_type": "error",
     "traceback": [
      "\u001b[0;31m---------------------------------------------------------------------------\u001b[0m",
      "\u001b[0;31mNameError\u001b[0m                                 Traceback (most recent call last)",
      "\u001b[0;32m<ipython-input-87-3d04db157576>\u001b[0m in \u001b[0;36m<module>\u001b[0;34m()\u001b[0m\n\u001b[1;32m      3\u001b[0m     \u001b[0;32mif\u001b[0m \u001b[0mdata\u001b[0m\u001b[0;34m[\u001b[0m\u001b[0;34m'nodetype'\u001b[0m\u001b[0;34m]\u001b[0m \u001b[0;34m==\u001b[0m \u001b[0;34m'Elaboracion'\u001b[0m\u001b[0;34m:\u001b[0m\u001b[0;34m\u001b[0m\u001b[0m\n\u001b[1;32m      4\u001b[0m         \u001b[0mcomps\u001b[0m \u001b[0;34m=\u001b[0m \u001b[0mget_prep_components\u001b[0m\u001b[0;34m(\u001b[0m\u001b[0mg_dat\u001b[0m\u001b[0;34m,\u001b[0m \u001b[0mn\u001b[0m\u001b[0;34m)\u001b[0m\u001b[0;34m\u001b[0m\u001b[0m\n\u001b[0;32m----> 5\u001b[0;31m         \u001b[0mnlg_preps\u001b[0m \u001b[0;34m=\u001b[0m \u001b[0mget_nlg_preparations\u001b[0m\u001b[0;34m(\u001b[0m\u001b[0mn\u001b[0m\u001b[0;34m)\u001b[0m\u001b[0;34m\u001b[0m\u001b[0m\n\u001b[0m\u001b[1;32m      6\u001b[0m         \u001b[0;32mfor\u001b[0m \u001b[0mnlg_prep\u001b[0m \u001b[0;32min\u001b[0m \u001b[0mnlg_preps\u001b[0m\u001b[0;34m:\u001b[0m\u001b[0;34m\u001b[0m\u001b[0m\n\u001b[1;32m      7\u001b[0m             \u001b[0mnlg_comps\u001b[0m \u001b[0;34m=\u001b[0m \u001b[0mget_prep_components\u001b[0m\u001b[0;34m(\u001b[0m\u001b[0mg_nlg\u001b[0m\u001b[0;34m,\u001b[0m \u001b[0mnlg_prep\u001b[0m\u001b[0;34m)\u001b[0m\u001b[0;34m\u001b[0m\u001b[0m\n",
      "\u001b[0;31mNameError\u001b[0m: name 'get_nlg_preparations' is not defined"
     ]
    }
   ],
   "source": [
    "preps_dat_nlg_dict = defaultdict(list)\n",
    "for n, data in g_dat.nodes(data=True):\n",
    "    if data['nodetype'] == 'Elaboracion':\n",
    "        comps = get_prep_components(g_dat, n)\n",
    "        nlg_preps = get_nlg_preparations(n)\n",
    "        for nlg_prep in nlg_preps:\n",
    "            nlg_comps = get_prep_components(g_nlg, nlg_prep)\n",
    "            nlg_comps = set(map(clean_producto_sabor, nlg_comps))\n",
    "            if nlg_comps == comps:\n",
    "                preps_dat_nlg_dict[n].append(nlg_prep)\n",
    "preps_dat_nlg_dict = dict(preps_dat_nlg_dict)"
   ]
  },
  {
   "cell_type": "code",
   "execution_count": 10,
   "metadata": {},
   "outputs": [
    {
     "data": {
      "text/plain": [
       "470"
      ]
     },
     "execution_count": 10,
     "metadata": {},
     "output_type": "execute_result"
    }
   ],
   "source": [
    "len(preps_dat_nlg_dict)"
   ]
  },
  {
   "cell_type": "code",
   "execution_count": 11,
   "metadata": {},
   "outputs": [
    {
     "data": {
      "text/plain": [
       "{'1-2': ['Elaboracion19871997-523'],\n",
       " '1-3': ['Elaboracion19871997-542'],\n",
       " '1000-6': ['Elaboracion20032004-1267'],\n",
       " '1002-1': ['Elaboracion20032004-1439'],\n",
       " '1003-5': ['Elaboracion20032004-1474'],\n",
       " '1004-1': ['Elaboracion20032004-1270'],\n",
       " '1006-1': ['Elaboracion20032004-518'],\n",
       " '1007-1': ['Elaboracion20032004-1409'],\n",
       " '1008-2': ['Elaboracion20032004-260'],\n",
       " '1008-4': ['Elaboracion20032004-1274',\n",
       "  'Elaboracion20032004-1352',\n",
       "  'Elaboracion20032004-344',\n",
       "  'Elaboracion20032004-1271',\n",
       "  'Elaboracion20032004-1272'],\n",
       " '1008-5': ['Elaboracion20032004-1274',\n",
       "  'Elaboracion20032004-1352',\n",
       "  'Elaboracion20032004-344',\n",
       "  'Elaboracion20032004-1271',\n",
       "  'Elaboracion20032004-1272'],\n",
       " '1008-6': ['Elaboracion20032004-1274',\n",
       "  'Elaboracion20032004-1352',\n",
       "  'Elaboracion20032004-344',\n",
       "  'Elaboracion20032004-1271',\n",
       "  'Elaboracion20032004-1272'],\n",
       " '1013-1': ['Elaboracion20032004-1415'],\n",
       " '1014-5': ['Elaboracion20032004-1499'],\n",
       " '1016-1': ['Elaboracion20032004-1236'],\n",
       " '1018-10': ['Elaboracion20032004-349'],\n",
       " '1018-7': ['Elaboracion20032004-1273',\n",
       "  'Elaboracion20032004-1252',\n",
       "  'Elaboracion20032004-1253',\n",
       "  'Elaboracion20032004-1276',\n",
       "  'Elaboracion20032004-1254',\n",
       "  'Elaboracion20032004-1381',\n",
       "  'Elaboracion20032004-1275',\n",
       "  'Elaboracion20032004-1513'],\n",
       " '1018-9': ['Elaboracion20032004-306'],\n",
       " '1019-2': ['Elaboracion20032004-558',\n",
       "  'Elaboracion20032004-556',\n",
       "  'Elaboracion20032004-68'],\n",
       " '1022-7': ['Elaboracion20032004-1430'],\n",
       " '1023-2': ['Elaboracion20032004-67',\n",
       "  'Elaboracion20032004-557',\n",
       "  'Elaboracion20032004-560'],\n",
       " '1023-5': ['Elaboracion20032004-1463'],\n",
       " '1025-3': ['Elaboracion20032004-92'],\n",
       " '1025-6': ['Elaboracion20032004-74'],\n",
       " '1026-1': ['Elaboracion20032004-1366'],\n",
       " '1026-2': ['Elaboracion20032004-1366'],\n",
       " '1027-1': ['Elaboracion20032004-1327',\n",
       "  'Elaboracion20032004-236',\n",
       "  'Elaboracion20032004-1380'],\n",
       " '1029-1': ['Elaboracion20032004-1419'],\n",
       " '103-2': ['Elaboracion19871997-219'],\n",
       " '1032-2': ['Elaboracion20032004-145'],\n",
       " '1033-3': ['Elaboracion20032004-1487'],\n",
       " '1034-5': ['Elaboracion20032004-359'],\n",
       " '1034-6': ['Elaboracion20032004-359'],\n",
       " '1034-7': ['Elaboracion20032004-1484'],\n",
       " '1036-1': ['Elaboracion20032004-1550'],\n",
       " '1036-5': ['Elaboracion20032004-559', 'Elaboracion20032004-69'],\n",
       " '1039-2': ['Elaboracion20032004-226'],\n",
       " '1039-5': ['Elaboracion20032004-1298'],\n",
       " '1044-1': ['Elaboracion20032004-100', 'Elaboracion20032004-1549'],\n",
       " '1044-6': ['Elaboracion20032004-1472'],\n",
       " '1045-5': ['Elaboracion20032004-641'],\n",
       " '1046-4': ['Elaboracion20032004-1324'],\n",
       " '1047-4': ['Elaboracion20032004-1277'],\n",
       " '1048-2': ['Elaboracion20032004-1400'],\n",
       " '1049-4': ['Elaboracion20032004-1399'],\n",
       " '1052-1': ['Elaboracion20032004-517'],\n",
       " '1055-2': ['Elaboracion20032004-340'],\n",
       " '1056-1': ['Elaboracion20032004-1543'],\n",
       " '1056-2': ['Elaboracion20032004-392'],\n",
       " '1057-1': ['Elaboracion20032004-1149', 'Elaboracion20032004-607'],\n",
       " '1057-5': ['Elaboracion20032004-355'],\n",
       " '1058-1': ['Elaboracion20032004-554', 'Elaboracion20032004-66'],\n",
       " '1058-10': ['Elaboracion20032004-241'],\n",
       " '1058-3': ['Elaboracion20032004-1187'],\n",
       " '1059-1': ['Elaboracion20032004-1144'],\n",
       " '1059-2': ['Elaboracion20032004-1144'],\n",
       " '1059-4': ['Elaboracion20032004-24'],\n",
       " '1059-7': ['Elaboracion20032004-36'],\n",
       " '1060-8': ['Elaboracion20032004-410'],\n",
       " '1061-1': ['Elaboracion20032004-555', 'Elaboracion20032004-71'],\n",
       " '1062-3': ['Elaboracion20032004-352'],\n",
       " '1062-4': ['Elaboracion20032004-503', 'Elaboracion20032004-504'],\n",
       " '1063-1': ['Elaboracion20032004-1153'],\n",
       " '1063-6': ['Elaboracion20032004-56'],\n",
       " '1063-7': ['Elaboracion20032004-406'],\n",
       " '1064-8': ['Elaboracion20032004-1152', 'Elaboracion20032004-1137'],\n",
       " '1065-5': ['Elaboracion20032004-348'],\n",
       " '1065-7': ['Elaboracion20032004-1136'],\n",
       " '1068-2': ['Elaboracion20032004-108', 'Elaboracion20032004-1194'],\n",
       " '1069-5': ['Elaboracion20032004-391'],\n",
       " '1072-1': ['Elaboracion20032004-321'],\n",
       " '1072-2': ['Elaboracion20032004-1212'],\n",
       " '1072-6': ['Elaboracion20032004-381'],\n",
       " '1074-2': ['Elaboracion20032004-248'],\n",
       " '1074-6': ['Elaboracion20032004-247'],\n",
       " '1085-3': ['Elaboracion20032004-1169'],\n",
       " '1098-1': ['Elaboracion2005-36'],\n",
       " '1099-7': ['Elaboracion2005-41'],\n",
       " '1100-2': ['Elaboracion2005-47'],\n",
       " '1104-2': ['Elaboracion2005-59'],\n",
       " '1104-3': ['Elaboracion2005-57'],\n",
       " '1105-2': ['Elaboracion2005-63'],\n",
       " '1107-1': ['Elaboracion2005-68', 'Elaboracion2005-67'],\n",
       " '1108-2': ['Elaboracion2005-70'],\n",
       " '1109-2': ['Elaboracion2005-73'],\n",
       " '111-6': ['Elaboracion19871997-223'],\n",
       " '1116-1': ['Elaboracion2005-98'],\n",
       " '1119-2': ['Elaboracion2005-103'],\n",
       " '1119-3': ['Elaboracion2005-105'],\n",
       " '112-5': ['Elaboracion19871997-220'],\n",
       " '1121-2': ['Elaboracion2005-112'],\n",
       " '1121-3': ['Elaboracion2005-113'],\n",
       " '1123-6': ['Elaboracion2005-118'],\n",
       " '1126-1': ['Elaboracion2005-135'],\n",
       " '1129-4': ['Elaboracion2005-146'],\n",
       " '113-3': ['Elaboracion19871997-513'],\n",
       " '1130-1': ['Elaboracion2005-153',\n",
       "  'Elaboracion2005-152',\n",
       "  'Elaboracion2005-155',\n",
       "  'Elaboracion2005-154'],\n",
       " '1131-12': ['Elaboracion2005-178'],\n",
       " '1132-5': ['Elaboracion2005-184'],\n",
       " '1134-1': ['Elaboracion2005-203'],\n",
       " '1134-4': ['Elaboracion2005-200'],\n",
       " '1134-7': ['Elaboracion2005-199'],\n",
       " '1136-1': ['Elaboracion2005-220'],\n",
       " '1136-6': ['Elaboracion2005-219'],\n",
       " '1138-1': ['Elaboracion2005-229', 'Elaboracion2005-228'],\n",
       " '1139-5': ['Elaboracion2005-234'],\n",
       " '1139-6': ['Elaboracion2005-239', 'Elaboracion2005-236'],\n",
       " '114-5': ['Elaboracion19871997-211'],\n",
       " '1141-11': ['Elaboracion2005-261', 'Elaboracion2005-254'],\n",
       " '1141-13': ['Elaboracion2005-261', 'Elaboracion2005-254'],\n",
       " '1141-15': ['Elaboracion2005-261', 'Elaboracion2005-254'],\n",
       " '1141-17': ['Elaboracion2005-253'],\n",
       " '1141-4': ['Elaboracion2005-249', 'Elaboracion2005-256'],\n",
       " '1141-8': ['Elaboracion2005-250'],\n",
       " '1142-1': ['Elaboracion2005-266'],\n",
       " '1142-3': ['Elaboracion2005-266'],\n",
       " '1143-6': ['Elaboracion2005-277'],\n",
       " '1144-1': ['Elaboracion2005-282'],\n",
       " '1146-6': ['Elaboracion2005-294'],\n",
       " '1151-6': ['Elaboracion2005-319'],\n",
       " '1152-2': ['Elaboracion2005-334'],\n",
       " '1152-5': ['Elaboracion2005-334'],\n",
       " '1153-7': ['Elaboracion2005-344'],\n",
       " '1154-5': ['Elaboracion2005-346'],\n",
       " '1155-2': ['Elaboracion2005-353', 'Elaboracion2005-352'],\n",
       " '1156-5': ['Elaboracion2005-360'],\n",
       " '1156-6': ['Elaboracion2005-357'],\n",
       " '1158-4': ['Elaboracion2005-376'],\n",
       " '1159-11': ['Elaboracion2005-385'],\n",
       " '1159-12': ['Elaboracion2005-390'],\n",
       " '1159-4': ['Elaboracion2005-397', 'Elaboracion2005-389'],\n",
       " '116-3': ['Elaboracion19871997-261'],\n",
       " '1160-1': ['Elaboracion2005-402'],\n",
       " '1161-4': ['Elaboracion2005-408'],\n",
       " '1162-6': ['Elaboracion2005-417'],\n",
       " '1164-2': ['Elaboracion2005-428'],\n",
       " '1164-5': ['Elaboracion2005-434'],\n",
       " '1166-6': ['Elaboracion2005-447'],\n",
       " '1166-8': ['Elaboracion2005-446'],\n",
       " '1167-8': ['Elaboracion2005-449', 'Elaboracion2005-450'],\n",
       " '1169-3': ['Elaboracion2005-460'],\n",
       " '117-7': ['Elaboracion19871997-263'],\n",
       " '1170-5': ['Elaboracion2005-465'],\n",
       " '1171-5': ['Elaboracion2005-471'],\n",
       " '1172-4': ['Elaboracion2005-473'],\n",
       " '1172-7': ['Elaboracion2005-475', 'Elaboracion2005-476'],\n",
       " '1173-10': ['Elaboracion2005-481'],\n",
       " '1173-11': ['Elaboracion2005-483'],\n",
       " '1174-3': ['Elaboracion2005-486'],\n",
       " '1175-1': ['Elaboracion2005-496'],\n",
       " '1175-2': ['Elaboracion2005-495'],\n",
       " '1175-5': ['Elaboracion2005-500',\n",
       "  'Elaboracion2005-493',\n",
       "  'Elaboracion2005-491',\n",
       "  'Elaboracion2005-499',\n",
       "  'Elaboracion2005-492'],\n",
       " '1176-2': ['Elaboracion2005-505', 'Elaboracion2005-503'],\n",
       " '1178-3': ['Elaboracion2005-515'],\n",
       " '1180-2': ['Elaboracion2005-530'],\n",
       " '1181-1': ['Elaboracion2005-533'],\n",
       " '1181-2': ['Elaboracion2005-533'],\n",
       " '1181-4': ['Elaboracion2005-535'],\n",
       " '1181-6': ['Elaboracion2005-537'],\n",
       " '1181-8': ['Elaboracion2005-536'],\n",
       " '1184-2': ['Elaboracion2005-545'],\n",
       " '1184-3': ['Elaboracion2005-546'],\n",
       " '1187-15': ['Elaboracion2005-560'],\n",
       " '1187-9': ['Elaboracion2005-568'],\n",
       " '1188-2': ['Elaboracion2005-577'],\n",
       " '1193-2': ['Elaboracion2005-626'],\n",
       " '1193-4': ['Elaboracion2005-629'],\n",
       " '1194-1': ['Elaboracion2005-635'],\n",
       " '1194-4': ['Elaboracion2005-641', 'Elaboracion2005-640'],\n",
       " '1194-6': ['Elaboracion2005-635'],\n",
       " '1194-8': ['Elaboracion2005-639'],\n",
       " '1197-8': ['Elaboracion2005-666'],\n",
       " '1199-8': ['Elaboracion2005-684'],\n",
       " '1203-1': ['Elaboracion2005-708',\n",
       "  'Elaboracion2005-706',\n",
       "  'Elaboracion2005-705',\n",
       "  'Elaboracion2005-707'],\n",
       " '1210-4': ['Elaboracion2005-729'],\n",
       " '1211-4': ['Elaboracion2005-734'],\n",
       " '1211-6': ['Elaboracion2005-733'],\n",
       " '126-4': ['Elaboracion19871997-230'],\n",
       " '127-15': ['Elaboracion19871997-229'],\n",
       " '127-16': ['Elaboracion19871997-372'],\n",
       " '127-20': ['Elaboracion19871997-598'],\n",
       " '127-22': ['Elaboracion19871997-585'],\n",
       " '129-3': ['Elaboracion19871997-232'],\n",
       " '134-3': ['Elaboracion19871997-213'],\n",
       " '135-5': ['Elaboracion19871997-212'],\n",
       " '136-10': ['Elaboracion19871997-215'],\n",
       " '137-6': ['Elaboracion19871997-214'],\n",
       " '138-1': ['Elaboracion19871997-565'],\n",
       " '14-3': ['Elaboracion19871997-419'],\n",
       " '143-8': ['Elaboracion19871997-186'],\n",
       " '147-3': ['Elaboracion19871997-191'],\n",
       " '150-1': ['Elaboracion19871997-51'],\n",
       " '152-3': ['Elaboracion19871997-78'],\n",
       " '154-4': ['Elaboracion19871997-156'],\n",
       " '154-5': ['Elaboracion19871997-133'],\n",
       " '16-3': ['Elaboracion19871997-324'],\n",
       " '163-4': ['Elaboracion19871997-512'],\n",
       " '164-2': ['Elaboracion19871997-195'],\n",
       " '165-2': ['Elaboracion19871997-406'],\n",
       " '169-6': ['Elaboracion19871997-166'],\n",
       " '171-6': ['Elaboracion19871997-164'],\n",
       " '18-3': ['Elaboracion19871997-179'],\n",
       " '184-3': ['Elaboracion19871997-307'],\n",
       " '19-7': ['Elaboracion19871997-180'],\n",
       " '191-4': ['Elaboracion19871997-71'],\n",
       " '196-1': ['Elaboracion19871997-129'],\n",
       " '199-3': ['Elaboracion19871997-303'],\n",
       " '206-7': ['Elaboracion19871997-281'],\n",
       " '208-2': ['Elaboracion19871997-409'],\n",
       " '212-2': ['Elaboracion19871997-464'],\n",
       " '215-6': ['Elaboracion19871997-413'],\n",
       " '216-2': ['Elaboracion19871997-333'],\n",
       " '216-4': ['Elaboracion19871997-288'],\n",
       " '230-2': ['Elaboracion19871997-606'],\n",
       " '234-1': ['Elaboracion19871997-624'],\n",
       " '235-3': ['Elaboracion19871997-626'],\n",
       " '245-3': ['Elaboracion19871997-650'],\n",
       " '251-5': ['Elaboracion19871997-676'],\n",
       " '252-1': ['Elaboracion19871997-679'],\n",
       " '254-5': ['Elaboracion19871997-684'],\n",
       " '254-6': ['Elaboracion19871997-688'],\n",
       " '259-3': ['Elaboracion19871997-702'],\n",
       " '261-4': ['Elaboracion19871997-708'],\n",
       " '262-4': ['Elaboracion19871997-711'],\n",
       " '262-7': ['Elaboracion19871997-710'],\n",
       " '268-1': ['Elaboracion19871997-736'],\n",
       " '270-1': ['Elaboracion19871997-750'],\n",
       " '277-3': ['Elaboracion19871997-766'],\n",
       " '278-1': ['Elaboracion19871997-770'],\n",
       " '280-1': ['Elaboracion19871997-772'],\n",
       " '302-3': ['Elaboracion19871997-829'],\n",
       " '303-4': ['Elaboracion19871997-833'],\n",
       " '303-5': ['Elaboracion19871997-835'],\n",
       " '304-8': ['Elaboracion19871997-841'],\n",
       " '309-2': ['Elaboracion19871997-856'],\n",
       " '309-4': ['Elaboracion19871997-850'],\n",
       " '312-5': ['Elaboracion19871997-867'],\n",
       " '326-6': ['Elaboracion19871997-916'],\n",
       " '327-3': ['Elaboracion19871997-925'],\n",
       " '328-2': ['Elaboracion19871997-930'],\n",
       " '338-1': ['Elaboracion19871997-951'],\n",
       " '34-1': ['Elaboracion19871997-570'],\n",
       " '351-5': ['Elaboracion19871997-983'],\n",
       " '353-2': ['Elaboracion19871997-991'],\n",
       " '356-2': ['Elaboracion19871997-1007'],\n",
       " '360-1': ['Elaboracion19871997-1022'],\n",
       " '363-2': ['Elaboracion19871997-1036'],\n",
       " '365-3': ['Elaboracion19871997-1045'],\n",
       " '368-7': ['Elaboracion19871997-1053'],\n",
       " '376-4': ['Elaboracion19871997-1094'],\n",
       " '378-8': ['Elaboracion19871997-1102'],\n",
       " '380-3': ['Elaboracion19871997-1111'],\n",
       " '380-5': ['Elaboracion19871997-1108'],\n",
       " '380-7': ['Elaboracion19871997-1115'],\n",
       " '387-4': ['Elaboracion19871997-1125'],\n",
       " '39-1': ['Elaboracion19871997-111'],\n",
       " '399-3': ['Elaboracion19871997-1149'],\n",
       " '40-1': ['Elaboracion19871997-114'],\n",
       " '409-5': ['Elaboracion19871997-1173'],\n",
       " '413-3': ['Elaboracion19871997-1192'],\n",
       " '415-7': ['Elaboracion19871997-1197'],\n",
       " '415-8': ['Elaboracion19871997-1200'],\n",
       " '416-4': ['Elaboracion19871997-1201'],\n",
       " '419-7': ['Elaboracion19871997-1212'],\n",
       " '42-2': ['Elaboracion19871997-504'],\n",
       " '43-8': ['Elaboracion19871997-294'],\n",
       " '438-11': ['Elaboracion19871997-1310'],\n",
       " '441-7': ['Elaboracion19871997-1339'],\n",
       " '449-2': ['Elaboracion19871997-1353'],\n",
       " '46-5': ['Elaboracion19871997-323'],\n",
       " '460-1': ['Elaboracion19982001-475'],\n",
       " '465-2': ['Elaboracion19982001-761'],\n",
       " '467-12': ['Elaboracion19982001-408', 'Elaboracion19982001-410'],\n",
       " '470-2': ['Elaboracion19982001-578'],\n",
       " '483-4': ['Elaboracion19982001-837'],\n",
       " '494-3': ['Elaboracion19982001-842'],\n",
       " '518-3': ['Elaboracion19982001-61'],\n",
       " '527-3': ['Elaboracion19982001-652'],\n",
       " '527-5': ['Elaboracion19982001-315'],\n",
       " '53-5': ['Elaboracion19871997-205'],\n",
       " '538-1': ['Elaboracion19982001-800'],\n",
       " '55-5': ['Elaboracion19871997-426'],\n",
       " '551-2': ['Elaboracion19982001-944'],\n",
       " '558-1': ['Elaboracion19982001-301'],\n",
       " '56-1': ['Elaboracion19871997-577'],\n",
       " '569-1': ['Elaboracion19982001-673'],\n",
       " '569-12': ['Elaboracion19982001-673'],\n",
       " '569-7': ['Elaboracion19982001-673'],\n",
       " '57-1': ['Elaboracion19871997-576'],\n",
       " '58-1': ['Elaboracion19871997-579'],\n",
       " '6-2': ['Elaboracion19871997-300'],\n",
       " '60-6': ['Elaboracion19871997-203'],\n",
       " '627-1': ['Elaboracion19982001-476'],\n",
       " '65-3': ['Elaboracion19871997-80'],\n",
       " '663-7': ['Elaboracion19982001-931'],\n",
       " '674-8': ['Elaboracion19982001-679'],\n",
       " '676-2': ['Elaboracion19982001-662'],\n",
       " '68-1': ['Elaboracion19871997-120'],\n",
       " '680-4': ['Elaboracion19982001-199'],\n",
       " '681-4': ['Elaboracion19982001-681'],\n",
       " '683-2': ['Elaboracion19982001-680'],\n",
       " '685-6': ['Elaboracion19982001-525'],\n",
       " '691-7': ['Elaboracion19982001-603'],\n",
       " '696-2': ['Elaboracion19982001-22'],\n",
       " '706-5': ['Elaboracion19982001-24'],\n",
       " '708-2': ['Elaboracion19982001-125'],\n",
       " '71-3': ['Elaboracion19871997-580'],\n",
       " '723-4': ['Elaboracion19982001-767'],\n",
       " '73-3': ['Elaboracion19871997-247'],\n",
       " '737-3': ['Elaboracion19982001-663'],\n",
       " '751-2': ['Elaboracion19982001-811'],\n",
       " '752-4': ['Elaboracion19982001-664'],\n",
       " '760-1': ['Elaboracion19982001-221'],\n",
       " '762-4': ['Elaboracion19982001-487'],\n",
       " '765-1': ['Elaboracion19982001-220'],\n",
       " '766-4': ['Elaboracion19982001-485'],\n",
       " '769-1': ['Elaboracion19982001-674'],\n",
       " '769-4': ['Elaboracion19982001-674'],\n",
       " '776-5': ['Elaboracion19982001-486'],\n",
       " '78-5': ['Elaboracion19871997-252'],\n",
       " '781-5': ['Elaboracion19982001-752'],\n",
       " '793-2': ['Elaboracion19982001-121'],\n",
       " '794-6': ['Elaboracion19982001-182'],\n",
       " '828-1': ['Elaboracion20032004-602'],\n",
       " '828-3': ['Elaboracion20032004-262'],\n",
       " '832-1': ['Elaboracion20032004-1052'],\n",
       " '832-2': ['Elaboracion20032004-900'],\n",
       " '833-2': ['Elaboracion20032004-523', 'Elaboracion20032004-294'],\n",
       " '835-2': ['Elaboracion20032004-295', 'Elaboracion20032004-524'],\n",
       " '84-6': ['Elaboracion19871997-317'],\n",
       " '843-2': ['Elaboracion20032004-268'],\n",
       " '844-2': ['Elaboracion20032004-296', 'Elaboracion20032004-525'],\n",
       " '844-4': ['Elaboracion20032004-216'],\n",
       " '853-1': ['Elaboracion20032004-63',\n",
       "  'Elaboracion20032004-551',\n",
       "  'Elaboracion20032004-552'],\n",
       " '855-1': ['Elaboracion20032004-930'],\n",
       " '856-2': ['Elaboracion20032004-389'],\n",
       " '856-3': ['Elaboracion20032004-390'],\n",
       " '856-4': ['Elaboracion20032004-388'],\n",
       " '856-5': ['Elaboracion20032004-0'],\n",
       " '857-1': ['Elaboracion20032004-99'],\n",
       " '859-2': ['Elaboracion20032004-624'],\n",
       " '861-3': ['Elaboracion20032004-526', 'Elaboracion20032004-293'],\n",
       " '862-2': ['Elaboracion20032004-263'],\n",
       " '863-3': ['Elaboracion20032004-1043'],\n",
       " '863-4': ['Elaboracion20032004-844', 'Elaboracion20032004-842'],\n",
       " '863-5': ['Elaboracion20032004-1091'],\n",
       " '863-7': ['Elaboracion20032004-373'],\n",
       " '866-2': ['Elaboracion20032004-1045'],\n",
       " '867-1': ['Elaboracion20032004-1090'],\n",
       " '867-2': ['Elaboracion20032004-1090'],\n",
       " '870-1': ['Elaboracion20032004-873'],\n",
       " '870-2': ['Elaboracion20032004-1054'],\n",
       " '873-4': ['Elaboracion20032004-828'],\n",
       " '874-4': ['Elaboracion20032004-932'],\n",
       " '876-3': ['Elaboracion20032004-245'],\n",
       " '876-5': ['Elaboracion20032004-1053'],\n",
       " '877-5': ['Elaboracion20032004-419'],\n",
       " '878-2': ['Elaboracion20032004-242'],\n",
       " '879-4': ['Elaboracion20032004-320'],\n",
       " '884-2': ['Elaboracion20032004-17'],\n",
       " '885-5': ['Elaboracion20032004-587'],\n",
       " '886-3': ['Elaboracion20032004-316'],\n",
       " '886-4': ['Elaboracion20032004-853'],\n",
       " '888-2': ['Elaboracion20032004-924'],\n",
       " '888-5': ['Elaboracion20032004-403'],\n",
       " '889-4': ['Elaboracion20032004-64', 'Elaboracion20032004-549'],\n",
       " '889-5': ['Elaboracion20032004-1018'],\n",
       " '890-2': ['Elaboracion20032004-18'],\n",
       " '890-6': ['Elaboracion20032004-51', 'Elaboracion20032004-867'],\n",
       " '891-3': ['Elaboracion20032004-380'],\n",
       " '892-2': ['Elaboracion20032004-550', 'Elaboracion20032004-65'],\n",
       " '892-3': ['Elaboracion20032004-1084'],\n",
       " '893-3': ['Elaboracion20032004-841'],\n",
       " '893-4': ['Elaboracion20032004-852'],\n",
       " '894-2': ['Elaboracion20032004-1027'],\n",
       " '895-4': ['Elaboracion20032004-840'],\n",
       " '897-1': ['Elaboracion20032004-931', 'Elaboracion20032004-75'],\n",
       " '898-4': ['Elaboracion20032004-815'],\n",
       " '9-4': ['Elaboracion19871997-185'],\n",
       " '9-5': ['Elaboracion19871997-185'],\n",
       " '90-5': ['Elaboracion19871997-321'],\n",
       " '900-2': ['Elaboracion20032004-98'],\n",
       " '900-6': ['Elaboracion20032004-537'],\n",
       " '904-5': ['Elaboracion20032004-983'],\n",
       " '905-2': ['Elaboracion20032004-45'],\n",
       " '905-4': ['Elaboracion20032004-1093'],\n",
       " '905-5': ['Elaboracion20032004-371'],\n",
       " '906-2': ['Elaboracion20032004-304'],\n",
       " '908-3': ['Elaboracion20032004-404'],\n",
       " '908-5': ['Elaboracion20032004-418'],\n",
       " '909-2': ['Elaboracion20032004-81', 'Elaboracion20032004-1099'],\n",
       " '910-2': ['Elaboracion20032004-1058', 'Elaboracion20032004-91'],\n",
       " '911-2': ['Elaboracion20032004-1071'],\n",
       " '913-2': ['Elaboracion20032004-256'],\n",
       " '914-3': ['Elaboracion20032004-414'],\n",
       " '914-4': ['Elaboracion20032004-415'],\n",
       " '915-2': ['Elaboracion20032004-1092'],\n",
       " '915-3': ['Elaboracion20032004-372'],\n",
       " '915-4': ['Elaboracion20032004-1070'],\n",
       " '916-1': ['Elaboracion20032004-1095'],\n",
       " '916-5': ['Elaboracion20032004-333'],\n",
       " '917-6': ['Elaboracion20032004-133'],\n",
       " '917-8': ['Elaboracion20032004-365'],\n",
       " '918-5': ['Elaboracion20032004-786'],\n",
       " '918-6': ['Elaboracion20032004-6', 'Elaboracion20032004-1073'],\n",
       " '919-2': ['Elaboracion20032004-1096'],\n",
       " '921-3': ['Elaboracion20032004-408'],\n",
       " '923-3': ['Elaboracion20032004-9'],\n",
       " '924-1': ['Elaboracion20032004-116'],\n",
       " '925-5': ['Elaboracion20032004-413'],\n",
       " '926-2': ['Elaboracion20032004-405'],\n",
       " '927-4': ['Elaboracion20032004-1075', 'Elaboracion20032004-1074'],\n",
       " '928-5': ['Elaboracion20032004-1022'],\n",
       " '929-2': ['Elaboracion20032004-1014'],\n",
       " '930-1': ['Elaboracion20032004-23'],\n",
       " '930-2': ['Elaboracion20032004-85'],\n",
       " '930-3': ['Elaboracion20032004-47'],\n",
       " '931-3': ['Elaboracion20032004-752'],\n",
       " '931-4': ['Elaboracion20032004-713'],\n",
       " '932-7': ['Elaboracion20032004-733', 'Elaboracion20032004-736'],\n",
       " '932-8': ['Elaboracion20032004-733', 'Elaboracion20032004-736'],\n",
       " '936-1': ['Elaboracion20032004-484', 'Elaboracion20032004-309'],\n",
       " '936-2': ['Elaboracion20032004-776'],\n",
       " '936-6': ['Elaboracion20032004-37'],\n",
       " '938-11': ['Elaboracion20032004-722', 'Elaboracion20032004-758'],\n",
       " '938-12': ['Elaboracion20032004-723'],\n",
       " '938-7': ['Elaboracion20032004-548', 'Elaboracion20032004-62'],\n",
       " '939-10': ['Elaboracion20032004-22'],\n",
       " '939-4': ['Elaboracion20032004-775'],\n",
       " '940-1': ['Elaboracion20032004-745'],\n",
       " '940-5': ['Elaboracion20032004-354'],\n",
       " '941-5': ['Elaboracion20032004-760'],\n",
       " '941-6': ['Elaboracion20032004-27'],\n",
       " '942-5': ['Elaboracion20032004-366'],\n",
       " '944-2': ['Elaboracion20032004-38'],\n",
       " '950-1': ['Elaboracion20032004-402'],\n",
       " '950-2': ['Elaboracion20032004-741', 'Elaboracion20032004-79'],\n",
       " '950-4': ['Elaboracion20032004-730'],\n",
       " '951-1': ['Elaboracion20032004-777'],\n",
       " '951-2': ['Elaboracion20032004-400'],\n",
       " '957-6': ['Elaboracion20032004-31'],\n",
       " '958-3': ['Elaboracion20032004-26'],\n",
       " '960-2': ['Elaboracion20032004-270'],\n",
       " '960-3': ['Elaboracion20032004-42'],\n",
       " '961-1': ['Elaboracion20032004-748'],\n",
       " '961-3': ['Elaboracion20032004-43'],\n",
       " '962-2': ['Elaboracion20032004-271'],\n",
       " '962-3': ['Elaboracion20032004-44'],\n",
       " '964-1': ['Elaboracion20032004-49'],\n",
       " '964-3': ['Elaboracion20032004-49'],\n",
       " '966-3': ['Elaboracion20032004-1259'],\n",
       " '966-5': ['Elaboracion20032004-1490'],\n",
       " '968-4': ['Elaboracion20032004-1338'],\n",
       " '969-3': ['Elaboracion20032004-1264'],\n",
       " '97-5': ['Elaboracion19871997-124'],\n",
       " '970-4': ['Elaboracion20032004-1263'],\n",
       " '970-6': ['Elaboracion20032004-546'],\n",
       " '971-6': ['Elaboracion20032004-195'],\n",
       " '975-2': ['Elaboracion20032004-563', 'Elaboracion20032004-218'],\n",
       " '979-1': ['Elaboracion20032004-328', 'Elaboracion20032004-634'],\n",
       " '980-3': ['Elaboracion20032004-297'],\n",
       " '982-2': ['Elaboracion20032004-121'],\n",
       " '983-1': ['Elaboracion20032004-1396'],\n",
       " '987-1': ['Elaboracion20032004-658'],\n",
       " '990-3': ['Elaboracion20032004-1504'],\n",
       " '995-1': ['Elaboracion20032004-104', 'Elaboracion20032004-596'],\n",
       " '995-2': ['Elaboracion20032004-10'],\n",
       " '995-3': ['Elaboracion20032004-1458'],\n",
       " '997-1': ['Elaboracion20032004-1413'],\n",
       " '998-1': ['Elaboracion20032004-1437']}"
      ]
     },
     "execution_count": 11,
     "metadata": {},
     "output_type": "execute_result"
    }
   ],
   "source": [
    "preps_dat_nlg_dict"
   ]
  },
  {
   "cell_type": "code",
   "execution_count": null,
   "metadata": {
    "collapsed": true
   },
   "outputs": [],
   "source": []
  },
  {
   "cell_type": "code",
   "execution_count": null,
   "metadata": {
    "collapsed": true
   },
   "outputs": [],
   "source": []
  },
  {
   "cell_type": "code",
   "execution_count": 12,
   "metadata": {
    "collapsed": true
   },
   "outputs": [],
   "source": [
    "ddd={'a':0,'b':0,'c':0, 'd':0, 'e':0, 'e1':0, 'f':0,     'w':0, 'x':0, 'y':0, 'z':0}\n",
    "\n",
    "\n",
    "def equals_preparations(n1, n2):\n",
    "    ddd['a']+=1\n",
    "    r = False\n",
    "    data1 = g_dat.node[n1]\n",
    "    data2 = g_dat.node[n2]\n",
    "    if data1['title'] == data2['title']:\n",
    "        ddd['b']+=1\n",
    "        comps1 = get_prep_components(g_dat, n1)\n",
    "        comps2 = get_prep_components(g_dat, n2)\n",
    "        if comps1 == comps2:\n",
    "            r = True\n",
    "            ddd['c']+=1\n",
    "        elif data1['title'] == 'Otros':\n",
    "            ddd['d']+=1\n",
    "        else:\n",
    "            ddd['e']+=1\n",
    "            \n",
    "            diff1=comps1.difference(comps2)\n",
    "            diff2=comps2.difference(comps1)\n",
    "            if len(diff1) == len(diff2) == 1:\n",
    "                ddd['e1']+=1\n",
    "            \n",
    "#             nlg_preps1 = get_nlg_preparations(n1)\n",
    "#             for nlg_prep1 in nlg_preps1:\n",
    "#                 nlg_comps1 = get_prep_components(g_nlg, nlg_prep1)\n",
    "#                 nlg_comps1 = set(map(clean_producto_sabor, nlg_comps1))\n",
    "#                 if nlg_comps1 == comps1:\n",
    "#                     ddd['w']+=1\n",
    "#                 if nlg_comps1 == comps2:\n",
    "#                     ddd['x']+=1\n",
    "            \n",
    "#             nlg_preps2 = get_nlg_preparations(n2)\n",
    "#             for nlg_prep2 in nlg_preps2:\n",
    "#                 nlg_comps2 = get_prep_components(g_nlg, nlg_prep2)\n",
    "#                 nlg_comps2 = set(map(clean_producto_sabor, nlg_comps2))\n",
    "#                 if nlg_comps2 == comps1:\n",
    "#                     ddd['y']+=1\n",
    "#                 if nlg_comps2 == comps2:\n",
    "#                     ddd['z']+=1\n",
    "                    \n",
    "#             comprobar si la nlg_prep1 es igual a la nlg_prep2\n",
    "            \n",
    "#             inters=comps1.intersection(comps2)\n",
    "#             print(1, comps1)\n",
    "#             print(2, comps2)\n",
    "#             print('INTERSECT:', inters)\n",
    "#             print('|INTERSECT|:', len(inters))\n",
    "#             diff=comps1.symmetric_difference(comps2)\n",
    "#             print('DIFF:', diff)\n",
    "#             print('|DIFF|:', len(diff))\n",
    "#             print()\n",
    "    else:\n",
    "        ddd['f']+=1\n",
    "    return r"
   ]
  },
  {
   "cell_type": "code",
   "execution_count": 11,
   "metadata": {},
   "outputs": [
    {
     "data": {
      "text/plain": [
       "{'a': 49723652,\n",
       " 'b': 909082,\n",
       " 'c': 29426,\n",
       " 'd': 873454,\n",
       " 'e': 6202,\n",
       " 'f': 48814570,\n",
       " 'w': 287,\n",
       " 'x': 116,\n",
       " 'y': 116,\n",
       " 'z': 287}"
      ]
     },
     "execution_count": 11,
     "metadata": {},
     "output_type": "execute_result"
    }
   ],
   "source": [
    "ddd"
   ]
  },
  {
   "cell_type": "code",
   "execution_count": 6,
   "metadata": {},
   "outputs": [
    {
     "data": {
      "text/plain": [
       "{'a': 0,\n",
       " 'b': 0,\n",
       " 'c': 0,\n",
       " 'd': 0,\n",
       " 'e': 0,\n",
       " 'f': 0,\n",
       " 'w': 0,\n",
       " 'x': 0,\n",
       " 'y': 0,\n",
       " 'z': 0}"
      ]
     },
     "execution_count": 6,
     "metadata": {},
     "output_type": "execute_result"
    }
   ],
   "source": [
    "ddd"
   ]
  },
  {
   "cell_type": "code",
   "execution_count": 7,
   "metadata": {},
   "outputs": [
    {
     "name": "stdout",
     "output_type": "stream",
     "text": [
      "205-6 Otros\n"
     ]
    }
   ],
   "source": [
    "for n, data in g_dat.nodes(data=True):\n",
    "    if data['nodetype'] == 'Elaboracion':\n",
    "        if data['title'] == 'Otros':\n",
    "            print(n, data['title'])\n",
    "            break"
   ]
  },
  {
   "cell_type": "code",
   "execution_count": 13,
   "metadata": {},
   "outputs": [
    {
     "name": "stdout",
     "output_type": "stream",
     "text": [
      "CPU times: user 1min 55s, sys: 44 ms, total: 1min 55s\n",
      "Wall time: 1min 55s\n"
     ]
    }
   ],
   "source": [
    "%%time\n",
    "\n",
    "preps = set()\n",
    "for n1, data1 in g_dat.nodes(data=True):\n",
    "    if data1['nodetype'] == 'Elaboracion':\n",
    "        for n2, data2 in g_dat.nodes(data=True):\n",
    "            if data2['nodetype'] == 'Elaboracion':\n",
    "                if n1 != n2:\n",
    "                    if equals_preparations(n1, n2):\n",
    "                        preps.add(tuple(sorted([n1, n2])))"
   ]
  },
  {
   "cell_type": "code",
   "execution_count": 9,
   "metadata": {
    "collapsed": true
   },
   "outputs": [],
   "source": [
    "assert(ddd['a']==ddd['b']+ddd['f'])"
   ]
  },
  {
   "cell_type": "code",
   "execution_count": 10,
   "metadata": {
    "collapsed": true
   },
   "outputs": [],
   "source": [
    "assert(ddd['b']==ddd['c']+ddd['d']+ddd['e'])"
   ]
  },
  {
   "cell_type": "code",
   "execution_count": 11,
   "metadata": {},
   "outputs": [
    {
     "data": {
      "text/plain": [
       "{'a': 49723652,\n",
       " 'b': 909082,\n",
       " 'c': 29426,\n",
       " 'd': 873454,\n",
       " 'e': 6202,\n",
       " 'f': 48814570,\n",
       " 'w': 287,\n",
       " 'x': 116,\n",
       " 'y': 116,\n",
       " 'z': 287}"
      ]
     },
     "execution_count": 11,
     "metadata": {},
     "output_type": "execute_result"
    }
   ],
   "source": [
    "ddd"
   ]
  },
  {
   "cell_type": "code",
   "execution_count": 99,
   "metadata": {},
   "outputs": [
    {
     "data": {
      "text/plain": [
       "{'a': 49723652,\n",
       " 'b': 907134,\n",
       " 'c': 29388,\n",
       " 'd': 871580,\n",
       " 'e': 6166,\n",
       " 'f': 48816518,\n",
       " 'w': 287,\n",
       " 'x': 116,\n",
       " 'y': 116,\n",
       " 'z': 287}"
      ]
     },
     "execution_count": 99,
     "metadata": {},
     "output_type": "execute_result"
    }
   ],
   "source": [
    "ddd"
   ]
  },
  {
   "cell_type": "code",
   "execution_count": 99,
   "metadata": {},
   "outputs": [
    {
     "data": {
      "text/plain": [
       "{'a': 49723652,\n",
       " 'b': 907134,\n",
       " 'c': 29388,\n",
       " 'd': 871580,\n",
       " 'e': 6166,\n",
       " 'f': 48816518,\n",
       " 'w': 287,\n",
       " 'x': 116,\n",
       " 'y': 116,\n",
       " 'z': 287}"
      ]
     },
     "execution_count": 99,
     "metadata": {},
     "output_type": "execute_result"
    }
   ],
   "source": [
    "ddd"
   ]
  },
  {
   "cell_type": "code",
   "execution_count": 99,
   "metadata": {},
   "outputs": [
    {
     "data": {
      "text/plain": [
       "{'a': 49723652,\n",
       " 'b': 907134,\n",
       " 'c': 29388,\n",
       " 'd': 871580,\n",
       " 'e': 6166,\n",
       " 'f': 48816518,\n",
       " 'w': 287,\n",
       " 'x': 116,\n",
       " 'y': 116,\n",
       " 'z': 287}"
      ]
     },
     "execution_count": 99,
     "metadata": {},
     "output_type": "execute_result"
    }
   ],
   "source": [
    "ddd"
   ]
  },
  {
   "cell_type": "code",
   "execution_count": 99,
   "metadata": {},
   "outputs": [
    {
     "data": {
      "text/plain": [
       "{'a': 49723652,\n",
       " 'b': 907134,\n",
       " 'c': 29388,\n",
       " 'd': 871580,\n",
       " 'e': 6166,\n",
       " 'f': 48816518,\n",
       " 'w': 287,\n",
       " 'x': 116,\n",
       " 'y': 116,\n",
       " 'z': 287}"
      ]
     },
     "execution_count": 99,
     "metadata": {},
     "output_type": "execute_result"
    }
   ],
   "source": [
    "ddd"
   ]
  },
  {
   "cell_type": "code",
   "execution_count": 9,
   "metadata": {},
   "outputs": [
    {
     "data": {
      "text/plain": [
       "11298"
      ]
     },
     "execution_count": 9,
     "metadata": {},
     "output_type": "execute_result"
    }
   ],
   "source": [
    "len(preps)"
   ]
  },
  {
   "cell_type": "code",
   "execution_count": 20,
   "metadata": {
    "collapsed": true
   },
   "outputs": [],
   "source": [
    "# es_test = [\n",
    "#     (1,2),(1,3),(2,3),(3,4),\n",
    "#     (5,6),(6,7),(7,8),(7,9),\n",
    "#     (10,11),(11,12),(12,13),\n",
    "# #     (1,13),\n",
    "#     (6,12),(1, 14)\n",
    "# ]"
   ]
  },
  {
   "cell_type": "code",
   "execution_count": 69,
   "metadata": {
    "collapsed": true
   },
   "outputs": [],
   "source": [
    "%%time\n",
    "\n",
    "ls=[]\n",
    "for e1, e2 in es:\n",
    "    found = False\n",
    "    first_set = None\n",
    "    to_remove=[]\n",
    "    for x in ls:\n",
    "        if (e1 in x or e2 in x) and not found:\n",
    "            x.add(e1)\n",
    "            x.add(e2)\n",
    "            found = True\n",
    "            first_set = x\n",
    "        if x != first_set and (e1 in x or e2 in x) and found:\n",
    "            x.add(e1)\n",
    "            x.add(e2)\n",
    "            for y in x:\n",
    "                first_set.add(y)\n",
    "            to_remove.append(x)\n",
    "    if not found:\n",
    "        ls.append({e1, e2})\n",
    "    for y in to_remove:\n",
    "        ls.remove(y)"
   ]
  },
  {
   "cell_type": "code",
   "execution_count": 70,
   "metadata": {},
   "outputs": [
    {
     "data": {
      "text/plain": [
       "821"
      ]
     },
     "execution_count": 70,
     "metadata": {},
     "output_type": "execute_result"
    }
   ],
   "source": [
    "len(ls)"
   ]
  },
  {
   "cell_type": "code",
   "execution_count": 71,
   "metadata": {
    "collapsed": true
   },
   "outputs": [],
   "source": [
    "for x in ls:\n",
    "    ts = set()\n",
    "    ingrs = set()\n",
    "    descs = set()\n",
    "    for y in x:\n",
    "        ts.add(graph.node[y]['title'])\n",
    "        ingrs.add(graph.node[y]['ingrs'])\n",
    "        descs.add(graph.node[y]['desc'])\n",
    "    if len(ts) != 1:\n",
    "        print('AAA')\n",
    "    break\n",
    "#     if len(ingrs) != 1:\n",
    "#         print('BBB')\n",
    "#     if len(descs) != 1:\n",
    "#         print('CCC')"
   ]
  },
  {
   "cell_type": "code",
   "execution_count": 72,
   "metadata": {},
   "outputs": [
    {
     "data": {
      "text/plain": [
       "['799-8', '1003-5', '999-6', '262-9']"
      ]
     },
     "execution_count": 72,
     "metadata": {},
     "output_type": "execute_result"
    }
   ],
   "source": [
    "list(x)[:4]"
   ]
  },
  {
   "cell_type": "code",
   "execution_count": 73,
   "metadata": {},
   "outputs": [
    {
     "name": "stdout",
     "output_type": "stream",
     "text": [
      "Otros\n",
      "          sal Maldon#          cacao en un espolvoreador#          la piel rallada de una mandarina#          la piel rallada de una lima#          la piel rallada de una naranja\n",
      "\n",
      "Otros\n",
      "     10 g de vinagre balsámico tradicional #          introducido en pipetas\n",
      "\n",
      "Otros\n",
      "   120 hojas de albahaca fresca de 0,5 cm #          de longitud#   100 g de azúcar\n",
      "\n",
      "Otros\n",
      "        4 brotes de romero fresco\n",
      "######\n"
     ]
    }
   ],
   "source": [
    "for y in list(ls[0])[:4]:\n",
    "    print(graph.node[y]['title'])\n",
    "    print(graph.node[y]['ingrs'])\n",
    "    print(graph.node[y]['desc'])"
   ]
  },
  {
   "cell_type": "code",
   "execution_count": 74,
   "metadata": {},
   "outputs": [
    {
     "data": {
      "text/plain": [
       "True"
      ]
     },
     "execution_count": 74,
     "metadata": {},
     "output_type": "execute_result"
    }
   ],
   "source": [
    "equals_preparations('799-8', '1003-5')"
   ]
  },
  {
   "cell_type": "code",
   "execution_count": 75,
   "metadata": {},
   "outputs": [
    {
     "data": {
      "text/plain": [
       "set()"
      ]
     },
     "execution_count": 75,
     "metadata": {},
     "output_type": "execute_result"
    }
   ],
   "source": [
    "get_prep_components(graph, '799-8')"
   ]
  },
  {
   "cell_type": "code",
   "execution_count": 77,
   "metadata": {},
   "outputs": [
    {
     "data": {
      "text/plain": [
       "set()"
      ]
     },
     "execution_count": 77,
     "metadata": {},
     "output_type": "execute_result"
    }
   ],
   "source": [
    "get_prep_products(graph, '799-8')"
   ]
  },
  {
   "cell_type": "code",
   "execution_count": 81,
   "metadata": {},
   "outputs": [
    {
     "data": {
      "text/plain": [
       "set()"
      ]
     },
     "execution_count": 81,
     "metadata": {},
     "output_type": "execute_result"
    }
   ],
   "source": [
    "{k for k in graph['799-8'] if graph['799-8'][k]['edgetype'] in prep_prod_rels}"
   ]
  },
  {
   "cell_type": "code",
   "execution_count": 82,
   "metadata": {
    "collapsed": true
   },
   "outputs": [],
   "source": [
    "for k in graph['799-8']:\n",
    "    print(k)"
   ]
  },
  {
   "cell_type": "code",
   "execution_count": 83,
   "metadata": {},
   "outputs": [
    {
     "data": {
      "text/plain": [
       "{'desc': '',\n",
       " 'ingrs': '          sal Maldon#          cacao en un espolvoreador#          la piel rallada de una mandarina#          la piel rallada de una lima#          la piel rallada de una naranja',\n",
       " 'label': '799-8',\n",
       " 'nodetype': 'Elaboracion',\n",
       " 'title': 'Otros'}"
      ]
     },
     "execution_count": 83,
     "metadata": {},
     "output_type": "execute_result"
    }
   ],
   "source": [
    "graph.node['799-8']"
   ]
  },
  {
   "cell_type": "code",
   "execution_count": 78,
   "metadata": {},
   "outputs": [
    {
     "data": {
      "text/plain": [
       "set()"
      ]
     },
     "execution_count": 78,
     "metadata": {},
     "output_type": "execute_result"
    }
   ],
   "source": [
    "get_prep_ingredients(graph, '799-8')"
   ]
  },
  {
   "cell_type": "code",
   "execution_count": 79,
   "metadata": {},
   "outputs": [
    {
     "data": {
      "text/plain": [
       "set()"
      ]
     },
     "execution_count": 79,
     "metadata": {},
     "output_type": "execute_result"
    }
   ],
   "source": [
    "get_prep_flavors(graph, '799-8')"
   ]
  },
  {
   "cell_type": "code",
   "execution_count": 76,
   "metadata": {},
   "outputs": [
    {
     "data": {
      "text/plain": [
       "set()"
      ]
     },
     "execution_count": 76,
     "metadata": {},
     "output_type": "execute_result"
    }
   ],
   "source": [
    "get_prep_components(graph, '1003-5')"
   ]
  },
  {
   "cell_type": "code",
   "execution_count": null,
   "metadata": {
    "collapsed": true
   },
   "outputs": [],
   "source": []
  },
  {
   "cell_type": "code",
   "execution_count": 68,
   "metadata": {
    "collapsed": true
   },
   "outputs": [],
   "source": [
    "c=d=0\n",
    "for n, data in g_nlg.nodes(data=True):\n",
    "    if data['nodetype'] == 'Elaboracion':\n",
    "        c+=1\n",
    "for n, data in graph.nodes(data=True):\n",
    "    if data['nodetype'] == 'Elaboracion':\n",
    "        d+=1"
   ]
  },
  {
   "cell_type": "code",
   "execution_count": 69,
   "metadata": {},
   "outputs": [
    {
     "data": {
      "text/plain": [
       "4636"
      ]
     },
     "execution_count": 69,
     "metadata": {},
     "output_type": "execute_result"
    }
   ],
   "source": [
    "c"
   ]
  },
  {
   "cell_type": "code",
   "execution_count": 70,
   "metadata": {},
   "outputs": [
    {
     "data": {
      "text/plain": [
       "7052"
      ]
     },
     "execution_count": 70,
     "metadata": {},
     "output_type": "execute_result"
    }
   ],
   "source": [
    "d"
   ]
  },
  {
   "cell_type": "code",
   "execution_count": null,
   "metadata": {
    "collapsed": true
   },
   "outputs": [],
   "source": []
  },
  {
   "cell_type": "code",
   "execution_count": null,
   "metadata": {
    "collapsed": true
   },
   "outputs": [],
   "source": []
  },
  {
   "cell_type": "code",
   "execution_count": null,
   "metadata": {
    "collapsed": true
   },
   "outputs": [],
   "source": []
  }
 ],
 "metadata": {
  "kernelspec": {
   "display_name": "Python 3",
   "language": "python",
   "name": "python3"
  },
  "language_info": {
   "codemirror_mode": {
    "name": "ipython",
    "version": 3
   },
   "file_extension": ".py",
   "mimetype": "text/x-python",
   "name": "python",
   "nbconvert_exporter": "python",
   "pygments_lexer": "ipython3",
   "version": "3.5.2"
  }
 },
 "nbformat": 4,
 "nbformat_minor": 1
}
