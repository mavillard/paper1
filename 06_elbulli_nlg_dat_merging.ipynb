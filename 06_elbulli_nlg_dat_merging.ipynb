{
 "cells": [
  {
   "cell_type": "code",
   "execution_count": 1,
   "metadata": {
    "collapsed": true
   },
   "outputs": [],
   "source": [
    "import networkx as nx"
   ]
  },
  {
   "cell_type": "code",
   "execution_count": 2,
   "metadata": {
    "collapsed": true
   },
   "outputs": [],
   "source": [
    "g_nlg = nx.read_gexf('out/elbulli_nlg.gexf')"
   ]
  },
  {
   "cell_type": "code",
   "execution_count": 3,
   "metadata": {
    "collapsed": true
   },
   "outputs": [],
   "source": [
    "g_dat = nx.read_gexf('out/elbulli_dat.gexf')"
   ]
  },
  {
   "cell_type": "code",
   "execution_count": 4,
   "metadata": {
    "collapsed": true
   },
   "outputs": [],
   "source": [
    "def get_Techniques_Recipe(g, r):\n",
    "    return [k for k in g[r] if g[r][k]['edgetype'] == 'tecnica']\n",
    "\n",
    "def get_TechniqueFamily_Technique(g, t):\n",
    "    return [k for k in g[t] if g[t][k]['edgetype'] == 'se clasifica']\n",
    "\n",
    "def get_TechniqueFamilies_Recipe(g, r):\n",
    "    techs = get_Techniques_Recipe(g, r)\n",
    "    return [k for t in techs for k in get_Technique_Family(g, t)]\n",
    "\n",
    "def get_RecipeFamily_Recipe(g, r):\n",
    "    return [k for k in g[r] if g[r][k]['edgetype'] == 'se clasifica']\n",
    "\n",
    "def get_Year_Recipe(g, r):\n",
    "    return [k for k in g[r] if g[r][k]['edgetype'] == 'publicado en']\n",
    "\n",
    "def get_Temperature_Recipe(g, r):\n",
    "    return [k for k in g[r] if g[r][k]['edgetype'] == 'temperatura']\n",
    "\n",
    "def get_Styles_Recipe(g, r):\n",
    "    return [k for k in g[r] if g[r][k]['edgetype'] == 'estilo']\n",
    "\n",
    "def get_StyleFamily_Style(g, s):\n",
    "    return [k for k in g[s] if g[s][k]['edgetype'] == 'se clasifica']\n",
    "\n",
    "def get_StyleFamilies_Recipe(g, r):\n",
    "    styles = get_Styles_Recipe(g, r)\n",
    "    return [k for s in styles for k in get_StyleFamily_Style(g, s)]\n",
    "\n",
    "def get_Preparations_Recipe(g, r):\n",
    "    return [k for k in g[r] if g[r][k]['edgetype'] == 'elaboracion']\n",
    "\n",
    "def get_World_Preparation(g, p):\n",
    "    return [k for k in g[p] if g[p][k]['edgetype'] == 'mundo']\n",
    "\n",
    "def get_Worlds_Recipe(g, r):\n",
    "    preps = get_Preparations_Recipe(g, r)\n",
    "    return [k for p in preps for k in get_World_Preparation(g, p)]\n",
    "\n",
    "def get_Ingredients_Preparation(g, p):\n",
    "    return [k for k in g[p] if g[p][k]['edgetype'] == 'composicion']\n",
    "\n",
    "def get_Ingredients_Recipe(g, r):\n",
    "    preps = get_Preparations(g, r)\n",
    "    return [k for p in preps for k in get_Ingredients_Preparation(g, p)]\n",
    "\n",
    "def get_Techniques_Preparation(g, p):\n",
    "    return [k for k in g[p] if g[p][k]['edgetype'] == 'tecnica']\n",
    "\n",
    "def get_Techniques_Recipe(g, r):\n",
    "    preps = get_Preparations_Recipe(g, r)\n",
    "    return [k for p in preps for k in get_Techniques_Preparation(g, p)]\n",
    "\n",
    "def get_Flavors_Preparation(g, p):\n",
    "    return [k for k in g[p] if g[p][k]['edgetype'] == 'sabor']\n",
    "\n",
    "def get_Flavors_Recipe(g, r):\n",
    "    preps = get_Preparations_Recipe(g, r)\n",
    "    return [k for p in preps for k in get_Flavor_Preparation(g, p)]\n",
    "\n",
    "def get_Products_Preparation(g, p):\n",
    "    prod_rels = ['bañado', 'alcohol', 'chocolate', 'lacteo', 'nuevaPasta', 'producto', 'relleno']\n",
    "    return [k for k in g[p] if g[p][k]['edgetype'] in prod_rels]\n",
    "\n",
    "def get_Products_Recipe(g, r):\n",
    "    preps = get_Preparations_Recipe(g, r)\n",
    "    return [k for p in preps for k in get_Products_Preparation(p)]\n",
    "\n",
    "def get_PreparationFamily_Preparation(g, p):\n",
    "    return [k for k in g[p] if g[p][k]['edgetype'] == 'se clasifica']\n",
    "\n",
    "def get_PreparationFamilies_Recipe(g, r):\n",
    "    preps = get_Preparations(g, r)\n",
    "    return [k for p in preps for k in get_PreparationFamily_Preparation(g, p)]"
   ]
  },
  {
   "cell_type": "code",
   "execution_count": 101,
   "metadata": {
    "collapsed": true
   },
   "outputs": [],
   "source": [
    "def get_components_Preparation(g, p):\n",
    "    prods = get_Products_Preparation(g, p)\n",
    "    prods = list(map(lambda x: x.replace('Producto:', ''), prods))\n",
    "    ingrs = get_Ingredients_Preparation(g, p)\n",
    "    flavs = get_Flavors_Preparation(g, p)\n",
    "    flavs = list(map(lambda x: x.replace('sabor:', ''), flavs))\n",
    "    comps = ingrs\n",
    "    comps.extend(prod for prod in prods if prod not in ingrs)\n",
    "    comps.extend(flav for flav in flavs if flav not in ingrs)\n",
    "    return comps\n",
    "\n",
    "def get_components_Recipe(g, r):\n",
    "    preps = get_Preparations_Recipe(g, r)\n",
    "    return [k for p in preps for k in get_components_Preparation(g, p)]\n",
    "\n",
    "def INGREDIENTS(r):\n",
    "    ingrs_dat = get_components_Recipe(g_dat, r)\n",
    "    ingrs_nlg = get_components_Recipe(g_nlg, r)\n",
    "    ingrs = ingrs_dat\n",
    "    ingrs.extend(ingr for ingr in ingrs_nlg if ingr not in ingrs_dat)\n",
    "    return ingrs\n",
    "\n",
    "def TECHNIQUES(r):\n",
    "    techs_dat = get_Techniques_Recipe(g_dat, r)\n",
    "    techs_nlg = get_Techniques_Recipe(g_nlg, r)\n",
    "    techs = techs_dat\n",
    "    techs.extend(tech for tech in techs_nlg if tech not in techs_dat)\n",
    "    return techs"
   ]
  },
  {
   "cell_type": "code",
   "execution_count": 102,
   "metadata": {
    "collapsed": true
   },
   "outputs": [],
   "source": [
    "def get_nodes_by_type(g, typ):\n",
    "    return [n for n, data in g.nodes_iter(data=True) if data['nodetype'] == typ]\n",
    "\n",
    "def get_recipes(g=g_dat):\n",
    "    return get_nodes_by_type(g, 'Receta')"
   ]
  },
  {
   "cell_type": "code",
   "execution_count": 103,
   "metadata": {},
   "outputs": [
    {
     "data": {
      "text/plain": [
       "{'1-1': {'edgetype': 'elaboracion', 'id': '9156'},\n",
       " '1-2': {'edgetype': 'elaboracion', 'id': '9161'},\n",
       " '1-3': {'edgetype': 'elaboracion', 'id': '9157'},\n",
       " '1-4': {'edgetype': 'elaboracion', 'id': '9160'},\n",
       " '1987': {'edgetype': 'publicado en', 'id': '9158'},\n",
       " 'FRÍA': {'edgetype': 'temperatura', 'id': '9155'},\n",
       " 'PLATOS': {'edgetype': 'se clasifica', 'id': '9159'}}"
      ]
     },
     "execution_count": 103,
     "metadata": {},
     "output_type": "execute_result"
    }
   ],
   "source": [
    "g_dat['1']"
   ]
  },
  {
   "cell_type": "code",
   "execution_count": 104,
   "metadata": {},
   "outputs": [
    {
     "data": {
      "text/plain": [
       "['melón']"
      ]
     },
     "execution_count": 104,
     "metadata": {},
     "output_type": "execute_result"
    }
   ],
   "source": [
    "get_Ingredients_Preparation(g_dat, '1-1')"
   ]
  },
  {
   "cell_type": "code",
   "execution_count": 105,
   "metadata": {},
   "outputs": [
    {
     "data": {
      "text/plain": [
       "[]"
      ]
     },
     "execution_count": 105,
     "metadata": {},
     "output_type": "execute_result"
    }
   ],
   "source": [
    "get_Products_Preparation(g_dat, '1-1')"
   ]
  },
  {
   "cell_type": "code",
   "execution_count": 106,
   "metadata": {},
   "outputs": [
    {
     "data": {
      "text/plain": [
       "[]"
      ]
     },
     "execution_count": 106,
     "metadata": {},
     "output_type": "execute_result"
    }
   ],
   "source": [
    "get_Flavors_Preparation(g_dat, '1-1')"
   ]
  },
  {
   "cell_type": "code",
   "execution_count": 109,
   "metadata": {},
   "outputs": [
    {
     "data": {
      "text/plain": [
       "['melón']"
      ]
     },
     "execution_count": 109,
     "metadata": {},
     "output_type": "execute_result"
    }
   ],
   "source": [
    "get_components_Preparation(g_dat, '1-1')"
   ]
  },
  {
   "cell_type": "code",
   "execution_count": 110,
   "metadata": {},
   "outputs": [
    {
     "data": {
      "text/plain": [
       "[]"
      ]
     },
     "execution_count": 110,
     "metadata": {},
     "output_type": "execute_result"
    }
   ],
   "source": [
    "get_Techniques_Preparation(g_dat, '1-1')"
   ]
  },
  {
   "cell_type": "code",
   "execution_count": 111,
   "metadata": {},
   "outputs": [
    {
     "data": {
      "text/plain": [
       "['hojas de gelatina', 'oporto', 'agua']"
      ]
     },
     "execution_count": 111,
     "metadata": {},
     "output_type": "execute_result"
    }
   ],
   "source": [
    "get_Ingredients_Preparation(g_dat, '1-2')"
   ]
  },
  {
   "cell_type": "code",
   "execution_count": 112,
   "metadata": {},
   "outputs": [
    {
     "data": {
      "text/plain": [
       "[]"
      ]
     },
     "execution_count": 112,
     "metadata": {},
     "output_type": "execute_result"
    }
   ],
   "source": [
    "get_Products_Preparation(g_dat, '1-2')"
   ]
  },
  {
   "cell_type": "code",
   "execution_count": 113,
   "metadata": {},
   "outputs": [
    {
     "data": {
      "text/plain": [
       "[]"
      ]
     },
     "execution_count": 113,
     "metadata": {},
     "output_type": "execute_result"
    }
   ],
   "source": [
    "get_Flavors_Preparation(g_dat, '1-2')"
   ]
  },
  {
   "cell_type": "code",
   "execution_count": 114,
   "metadata": {},
   "outputs": [
    {
     "data": {
      "text/plain": [
       "['hojas de gelatina', 'oporto', 'agua']"
      ]
     },
     "execution_count": 114,
     "metadata": {},
     "output_type": "execute_result"
    }
   ],
   "source": [
    "get_components_Preparation(g_dat, '1-2')"
   ]
  },
  {
   "cell_type": "code",
   "execution_count": 115,
   "metadata": {},
   "outputs": [
    {
     "data": {
      "text/plain": [
       "[]"
      ]
     },
     "execution_count": 115,
     "metadata": {},
     "output_type": "execute_result"
    }
   ],
   "source": [
    "get_Techniques_Preparation(g_dat, '1-2')"
   ]
  },
  {
   "cell_type": "code",
   "execution_count": 116,
   "metadata": {},
   "outputs": [
    {
     "data": {
      "text/plain": [
       "['melón', 'gelatina de oporto']"
      ]
     },
     "execution_count": 116,
     "metadata": {},
     "output_type": "execute_result"
    }
   ],
   "source": [
    "get_Ingredients_Preparation(g_dat, '1-3')"
   ]
  },
  {
   "cell_type": "code",
   "execution_count": 117,
   "metadata": {},
   "outputs": [
    {
     "data": {
      "text/plain": [
       "[]"
      ]
     },
     "execution_count": 117,
     "metadata": {},
     "output_type": "execute_result"
    }
   ],
   "source": [
    "get_Products_Preparation(g_dat, '1-3')"
   ]
  },
  {
   "cell_type": "code",
   "execution_count": 118,
   "metadata": {},
   "outputs": [
    {
     "data": {
      "text/plain": [
       "[]"
      ]
     },
     "execution_count": 118,
     "metadata": {},
     "output_type": "execute_result"
    }
   ],
   "source": [
    "get_Flavors_Preparation(g_dat, '1-3')"
   ]
  },
  {
   "cell_type": "code",
   "execution_count": 119,
   "metadata": {},
   "outputs": [
    {
     "data": {
      "text/plain": [
       "['melón', 'gelatina de oporto']"
      ]
     },
     "execution_count": 119,
     "metadata": {},
     "output_type": "execute_result"
    }
   ],
   "source": [
    "get_components_Preparation(g_dat, '1-3')"
   ]
  },
  {
   "cell_type": "code",
   "execution_count": 120,
   "metadata": {},
   "outputs": [
    {
     "data": {
      "text/plain": [
       "[]"
      ]
     },
     "execution_count": 120,
     "metadata": {},
     "output_type": "execute_result"
    }
   ],
   "source": [
    "get_Techniques_Preparation(g_dat, '1-3')"
   ]
  },
  {
   "cell_type": "code",
   "execution_count": 121,
   "metadata": {},
   "outputs": [
    {
     "data": {
      "text/plain": [
       "['pimienta blanca', 'aceite de oliva']"
      ]
     },
     "execution_count": 121,
     "metadata": {},
     "output_type": "execute_result"
    }
   ],
   "source": [
    "get_Ingredients_Preparation(g_dat, '1-4')"
   ]
  },
  {
   "cell_type": "code",
   "execution_count": 122,
   "metadata": {},
   "outputs": [
    {
     "data": {
      "text/plain": [
       "[]"
      ]
     },
     "execution_count": 122,
     "metadata": {},
     "output_type": "execute_result"
    }
   ],
   "source": [
    "get_Products_Preparation(g_dat, '1-4')"
   ]
  },
  {
   "cell_type": "code",
   "execution_count": 123,
   "metadata": {},
   "outputs": [
    {
     "data": {
      "text/plain": [
       "[]"
      ]
     },
     "execution_count": 123,
     "metadata": {},
     "output_type": "execute_result"
    }
   ],
   "source": [
    "get_Flavors_Preparation(g_dat, '1-4')"
   ]
  },
  {
   "cell_type": "code",
   "execution_count": 124,
   "metadata": {},
   "outputs": [
    {
     "data": {
      "text/plain": [
       "['pimienta blanca', 'aceite de oliva']"
      ]
     },
     "execution_count": 124,
     "metadata": {},
     "output_type": "execute_result"
    }
   ],
   "source": [
    "get_components_Preparation(g_dat, '1-4')"
   ]
  },
  {
   "cell_type": "code",
   "execution_count": 125,
   "metadata": {},
   "outputs": [
    {
     "data": {
      "text/plain": [
       "[]"
      ]
     },
     "execution_count": 125,
     "metadata": {},
     "output_type": "execute_result"
    }
   ],
   "source": [
    "get_Techniques_Preparation(g_dat, '1-4')"
   ]
  },
  {
   "cell_type": "code",
   "execution_count": 126,
   "metadata": {},
   "outputs": [
    {
     "data": {
      "text/plain": [
       "{'1987': {'edgetype': 'publicado en', 'id': '15971'},\n",
       " 'Elaboracion19871997-523': {'edgetype': 'elaboracion', 'id': '15970'},\n",
       " 'Elaboracion19871997-542': {'edgetype': 'elaboracion', 'id': '15972'},\n",
       " 'Estilo19871997-25': {'edgetype': 'estilo', 'id': '15968'},\n",
       " 'FRÍA': {'edgetype': 'temperatura', 'id': '15969'},\n",
       " 'PLATOS': {'edgetype': 'se clasifica', 'id': '15967'}}"
      ]
     },
     "execution_count": 126,
     "metadata": {},
     "output_type": "execute_result"
    }
   ],
   "source": [
    "g_nlg['1']"
   ]
  },
  {
   "cell_type": "code",
   "execution_count": 127,
   "metadata": {},
   "outputs": [
    {
     "data": {
      "text/plain": [
       "['hojas de gelatina', 'oporto', 'agua']"
      ]
     },
     "execution_count": 127,
     "metadata": {},
     "output_type": "execute_result"
    }
   ],
   "source": [
    "get_Ingredients_Preparation(g_nlg, 'Elaboracion19871997-523')"
   ]
  },
  {
   "cell_type": "code",
   "execution_count": 128,
   "metadata": {},
   "outputs": [
    {
     "data": {
      "text/plain": [
       "[]"
      ]
     },
     "execution_count": 128,
     "metadata": {},
     "output_type": "execute_result"
    }
   ],
   "source": [
    "get_Products_Preparation(g_nlg, 'Elaboracion19871997-523')"
   ]
  },
  {
   "cell_type": "code",
   "execution_count": 129,
   "metadata": {},
   "outputs": [
    {
     "data": {
      "text/plain": [
       "['sabor:oporto']"
      ]
     },
     "execution_count": 129,
     "metadata": {},
     "output_type": "execute_result"
    }
   ],
   "source": [
    "get_Flavors_Preparation(g_nlg, 'Elaboracion19871997-523')"
   ]
  },
  {
   "cell_type": "code",
   "execution_count": 130,
   "metadata": {},
   "outputs": [
    {
     "data": {
      "text/plain": [
       "['hojas de gelatina', 'oporto', 'agua']"
      ]
     },
     "execution_count": 130,
     "metadata": {},
     "output_type": "execute_result"
    }
   ],
   "source": [
    "get_components_Preparation(g_nlg, 'Elaboracion19871997-523')"
   ]
  },
  {
   "cell_type": "code",
   "execution_count": 131,
   "metadata": {},
   "outputs": [
    {
     "data": {
      "text/plain": [
       "[]"
      ]
     },
     "execution_count": 131,
     "metadata": {},
     "output_type": "execute_result"
    }
   ],
   "source": [
    "get_Techniques_Preparation(g_nlg, 'Elaboracion19871997-523')"
   ]
  },
  {
   "cell_type": "code",
   "execution_count": 132,
   "metadata": {},
   "outputs": [
    {
     "data": {
      "text/plain": [
       "['melón', 'gelatina de oporto']"
      ]
     },
     "execution_count": 132,
     "metadata": {},
     "output_type": "execute_result"
    }
   ],
   "source": [
    "get_Ingredients_Preparation(g_nlg, 'Elaboracion19871997-542')"
   ]
  },
  {
   "cell_type": "code",
   "execution_count": 133,
   "metadata": {},
   "outputs": [
    {
     "data": {
      "text/plain": [
       "[]"
      ]
     },
     "execution_count": 133,
     "metadata": {},
     "output_type": "execute_result"
    }
   ],
   "source": [
    "get_Products_Preparation(g_nlg, 'Elaboracion19871997-542')"
   ]
  },
  {
   "cell_type": "code",
   "execution_count": 134,
   "metadata": {},
   "outputs": [
    {
     "data": {
      "text/plain": [
       "[]"
      ]
     },
     "execution_count": 134,
     "metadata": {},
     "output_type": "execute_result"
    }
   ],
   "source": [
    "get_Flavors_Preparation(g_nlg, 'Elaboracion19871997-542')"
   ]
  },
  {
   "cell_type": "code",
   "execution_count": 135,
   "metadata": {},
   "outputs": [
    {
     "data": {
      "text/plain": [
       "['melón', 'gelatina de oporto']"
      ]
     },
     "execution_count": 135,
     "metadata": {},
     "output_type": "execute_result"
    }
   ],
   "source": [
    "get_components_Preparation(g_nlg, 'Elaboracion19871997-542')"
   ]
  },
  {
   "cell_type": "code",
   "execution_count": 136,
   "metadata": {},
   "outputs": [
    {
     "data": {
      "text/plain": [
       "[]"
      ]
     },
     "execution_count": 136,
     "metadata": {},
     "output_type": "execute_result"
    }
   ],
   "source": [
    "get_Techniques_Preparation(g_nlg, 'Elaboracion19871997-542')"
   ]
  },
  {
   "cell_type": "code",
   "execution_count": 137,
   "metadata": {},
   "outputs": [
    {
     "data": {
      "text/plain": [
       "['melón',\n",
       " 'hojas de gelatina',\n",
       " 'oporto',\n",
       " 'agua',\n",
       " 'melón',\n",
       " 'gelatina de oporto',\n",
       " 'pimienta blanca',\n",
       " 'aceite de oliva']"
      ]
     },
     "execution_count": 137,
     "metadata": {},
     "output_type": "execute_result"
    }
   ],
   "source": [
    "INGREDIENTS('1')"
   ]
  },
  {
   "cell_type": "code",
   "execution_count": 83,
   "metadata": {},
   "outputs": [
    {
     "data": {
      "text/plain": [
       "[]"
      ]
     },
     "execution_count": 83,
     "metadata": {},
     "output_type": "execute_result"
    }
   ],
   "source": [
    "TECHNIQUES('1')"
   ]
  },
  {
   "cell_type": "code",
   "execution_count": null,
   "metadata": {
    "collapsed": true
   },
   "outputs": [],
   "source": [
    "CONTINUAR POR HIRVIENDO-HERVIR (MIRAR QUE HICE EN LA TESIS PARA UNIFICAR - CREO Q ALGO DE REPRESENTANTE-)\n",
    "SEGUIR PROBANDO QUE LAS FUNCIONES ANTERIORES SON CORRECTAS: BUSCAR NODOS DE TODOS LOS TIPOS Y COMPROBAR\n",
    "QUE TODO ESTA CORRECTO: HAY PRODUCTOS, SABORES, TECNICAS... EN LAS PREPARACIONES, Y LOS HAY EN LA CARDINALIDAD\n",
    "CORRECTA."
   ]
  },
  {
   "cell_type": "code",
   "execution_count": null,
   "metadata": {
    "collapsed": true
   },
   "outputs": [],
   "source": []
  },
  {
   "cell_type": "code",
   "execution_count": null,
   "metadata": {
    "collapsed": true
   },
   "outputs": [],
   "source": []
  },
  {
   "cell_type": "code",
   "execution_count": 84,
   "metadata": {},
   "outputs": [
    {
     "data": {
      "text/plain": [
       "{'melón': {'edgetype': 'composicion', 'id': '20182'}}"
      ]
     },
     "execution_count": 84,
     "metadata": {},
     "output_type": "execute_result"
    }
   ],
   "source": [
    "g_dat['1-1']"
   ]
  },
  {
   "cell_type": "code",
   "execution_count": 87,
   "metadata": {},
   "outputs": [
    {
     "name": "stdout",
     "output_type": "stream",
     "text": [
      "171-3 hirviendo {'edgetype': 'tecnica', 'id': '3584'}\n"
     ]
    }
   ],
   "source": [
    "for n1, n2, data in g_dat.edges(data=True):\n",
    "    if data['edgetype'] == 'tecnica':\n",
    "        print(n1, n2, data)\n",
    "        break"
   ]
  },
  {
   "cell_type": "code",
   "execution_count": 44,
   "metadata": {
    "collapsed": true
   },
   "outputs": [],
   "source": [
    "from itertools import *"
   ]
  },
  {
   "cell_type": "code",
   "execution_count": 74,
   "metadata": {},
   "outputs": [],
   "source": [
    "xx=[]\n",
    "ll=[1, 2, 3, 4, 5]\n",
    "for i in range(0, len(ll)+1):\n",
    "    xx.extend(combinations(ll, i))"
   ]
  },
  {
   "cell_type": "code",
   "execution_count": 75,
   "metadata": {},
   "outputs": [
    {
     "data": {
      "text/plain": [
       "32"
      ]
     },
     "execution_count": 75,
     "metadata": {},
     "output_type": "execute_result"
    }
   ],
   "source": [
    "len(xx)"
   ]
  },
  {
   "cell_type": "code",
   "execution_count": 78,
   "metadata": {},
   "outputs": [],
   "source": [
    "# xx"
   ]
  },
  {
   "cell_type": "code",
   "execution_count": 28,
   "metadata": {},
   "outputs": [],
   "source": [
    "from collections import Counter"
   ]
  },
  {
   "cell_type": "code",
   "execution_count": 43,
   "metadata": {},
   "outputs": [
    {
     "data": {
      "text/plain": [
       "[(1, 139)]"
      ]
     },
     "execution_count": 43,
     "metadata": {},
     "output_type": "execute_result"
    }
   ],
   "source": [
    "merging = {}\n",
    "ll=[]\n",
    "for r in get_nodes_by_type(g_nlg, 'Tecnica'):\n",
    "    ll.append(len(get_Technique_Families(r)))\n",
    "Counter(ll).most_common()"
   ]
  },
  {
   "cell_type": "code",
   "execution_count": 77,
   "metadata": {},
   "outputs": [
    {
     "data": {
      "text/plain": [
       "[(0, 590), (1, 423), (2, 147), (3, 42), (4, 10), (5, 1), (12, 1)]"
      ]
     },
     "execution_count": 77,
     "metadata": {},
     "output_type": "execute_result"
    }
   ],
   "source": [
    "merging = {}\n",
    "ll=[]\n",
    "for r in get_recipes():\n",
    "    ll.append(len(get_Style(r)))\n",
    "Counter(ll).most_common()"
   ]
  },
  {
   "cell_type": "code",
   "execution_count": 35,
   "metadata": {},
   "outputs": [
    {
     "data": {
      "text/plain": [
       "[(1, 1214)]"
      ]
     },
     "execution_count": 35,
     "metadata": {},
     "output_type": "execute_result"
    }
   ],
   "source": [
    "merging = {}\n",
    "ll=[]\n",
    "for r in get_recipes():\n",
    "    ll.append(len(get_Year(r)))\n",
    "Counter(ll).most_common()"
   ]
  },
  {
   "cell_type": "code",
   "execution_count": 17,
   "metadata": {},
   "outputs": [
    {
     "data": {
      "text/plain": [
       "{'1987': {'edgetype': 'publicado en', 'id': '15971'},\n",
       " 'Elaboracion19871997-523': {'edgetype': 'elaboracion', 'id': '15970'},\n",
       " 'Elaboracion19871997-542': {'edgetype': 'elaboracion', 'id': '15972'},\n",
       " 'Estilo19871997-25': {'edgetype': 'estilo', 'id': '15968'},\n",
       " 'FRÍA': {'edgetype': 'temperatura', 'id': '15969'},\n",
       " 'PLATOS': {'edgetype': 'se clasifica', 'id': '15967'}}"
      ]
     },
     "execution_count": 17,
     "metadata": {},
     "output_type": "execute_result"
    }
   ],
   "source": [
    "g_nlg['1']"
   ]
  },
  {
   "cell_type": "code",
   "execution_count": null,
   "metadata": {
    "collapsed": true
   },
   "outputs": [],
   "source": []
  }
 ],
 "metadata": {
  "kernelspec": {
   "display_name": "Python 3",
   "language": "python",
   "name": "python3"
  },
  "language_info": {
   "codemirror_mode": {
    "name": "ipython",
    "version": 3
   },
   "file_extension": ".py",
   "mimetype": "text/x-python",
   "name": "python",
   "nbconvert_exporter": "python",
   "pygments_lexer": "ipython3",
   "version": "3.5.2"
  }
 },
 "nbformat": 4,
 "nbformat_minor": 1
}
