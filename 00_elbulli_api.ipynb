{
 "cells": [
  {
   "cell_type": "code",
   "execution_count": 1,
   "metadata": {
    "collapsed": true
   },
   "outputs": [],
   "source": [
    "def clean_x(prefix, x):\n",
    "    return list(map(str.strip, x[len(prefix):].split('/')))\n",
    "\n",
    "def clean_flavor(f):\n",
    "    return clean_x('sabor:', f)\n",
    "\n",
    "def clean_product(p):\n",
    "    return clean_x('Producto:', p)\n",
    "    \n",
    "def clean_ingredient(i):\n",
    "    return clean_x('', i)\n",
    "    \n",
    "def clean_technique(t):\n",
    "    return clean_x('', t)\n",
    "\n",
    "def clean_list(f, xs):\n",
    "    return [k for x in xs for k in f(x)]"
   ]
  },
  {
   "cell_type": "code",
   "execution_count": 2,
   "metadata": {
    "collapsed": true
   },
   "outputs": [],
   "source": [
    "# Preparation\n",
    "def get_PreparationFamily_Preparation(g, p):\n",
    "    return [k for k in g[p] if g[p][k]['edgetype'] == 'se clasifica']\n",
    "\n",
    "def get_Products_Preparation(g, p):\n",
    "    prod_rels = ['bañado', 'alcohol', 'chocolate', 'lacteo', 'nuevaPasta', 'producto', 'relleno']\n",
    "    prods = [k for k in g[p] if g[p][k]['edgetype'] in prod_rels]\n",
    "    return clean_list(clean_product, prods)\n",
    "\n",
    "def get_Flavors_Preparation(g, p):\n",
    "    flavs = [k for k in g[p] if g[p][k]['edgetype'] == 'sabor']\n",
    "    return clean_list(clean_flavor, flavs)\n",
    "\n",
    "def get_Techniques_Preparation(g, p):\n",
    "    techs = [k for k in g[p] if g[p][k]['edgetype'] == 'tecnica']\n",
    "    return clean_list(clean_technique, techs)\n",
    "\n",
    "def get_Ingredients_Preparation(g, p):\n",
    "    ingrs = [k for k in g[p] if g[p][k]['edgetype'] == 'composicion']\n",
    "    return clean_list(clean_ingredient, ingrs)\n",
    "\n",
    "def get_World_Preparation(g, p):\n",
    "    return [k for k in g[p] if g[p][k]['edgetype'] == 'mundo']\n",
    "\n",
    "def get_components_Preparation(g, p):\n",
    "    prods = get_Products_Preparation(g, p)\n",
    "    ingrs = get_Ingredients_Preparation(g, p)\n",
    "    flavs = get_Flavors_Preparation(g, p)\n",
    "    comps = []\n",
    "    comps.extend(ingr for ingr in ingrs if ingr not in comps)\n",
    "    comps.extend(prod for prod in prods if prod not in comps)\n",
    "    comps.extend(flav for flav in flavs if flav not in comps)\n",
    "    return comps\n",
    "\n",
    "# Style\n",
    "def get_StyleFamily_Style(g, s):\n",
    "    return [k for k in g[s] if g[s][k]['edgetype'] == 'se clasifica']\n",
    "\n",
    "# TechniqueR\n",
    "def get_TechniqueRFamily_TechniqueR(g, t):\n",
    "    return [k for k in g[t] if g[t][k]['edgetype'] == 'se clasifica']\n",
    "\n",
    "# Recipe\n",
    "def get_TechniquesR_Recipe(g, r):\n",
    "    return [k for k in g[r] if g[r][k]['edgetype'] == 'Tecnica']\n",
    "\n",
    "def get_TechniqueRFamilies_Recipe(g, r):\n",
    "    techs = get_TechniquesR_Recipe(g, r)\n",
    "    return [k for t in techs for k in get_Technique_Family(g, t)]\n",
    "\n",
    "def get_RecipeFamily_Recipe(g, r):\n",
    "    return [k for k in g[r] if g[r][k]['edgetype'] == 'se clasifica']\n",
    "\n",
    "def get_Year_Recipe(g, r):\n",
    "    return [k for k in g[r] if g[r][k]['edgetype'] == 'publicado en']\n",
    "\n",
    "def get_Temperature_Recipe(g, r):\n",
    "    return [k for k in g[r] if g[r][k]['edgetype'] == 'temperatura']\n",
    "\n",
    "def get_Styles_Recipe(g, r):\n",
    "    return [k for k in g[r] if g[r][k]['edgetype'] == 'estilo']\n",
    "\n",
    "def get_StyleFamilies_Recipe(g, r):\n",
    "    styles = get_Styles_Recipe(g, r)\n",
    "    return [k for s in styles for k in get_StyleFamily_Style(g, s)]\n",
    "\n",
    "def get_Preparations_Recipe(g, r):\n",
    "    return [k for k in g[r] if g[r][k]['edgetype'] == 'elaboracion']\n",
    "\n",
    "def get_Worlds_Recipe(g, r):\n",
    "    preps = get_Preparations_Recipe(g, r)\n",
    "    return [k for p in preps for k in get_World_Preparation(g, p)]\n",
    "\n",
    "def get_Ingredients_Recipe(g, r):\n",
    "    preps = get_Preparations_Recipe(g, r)\n",
    "    return [k for p in preps for k in get_Ingredients_Preparation(g, p)]\n",
    "\n",
    "def get_Techniques_Recipe(g, r):\n",
    "    preps = get_Preparations_Recipe(g, r)\n",
    "    return [k for p in preps for k in get_Techniques_Preparation(g, p)]\n",
    "\n",
    "def get_Flavors_Recipe(g, r):\n",
    "    preps = get_Preparations_Recipe(g, r)\n",
    "    return [k for p in preps for k in get_Flavors_Preparation(g, p)]\n",
    "\n",
    "def get_Products_Recipe(g, r):\n",
    "    preps = get_Preparations_Recipe(g, r)\n",
    "    return [k for p in preps for k in get_Products_Preparation(g, p)]\n",
    "\n",
    "def get_PreparationFamilies_Recipe(g, r):\n",
    "    preps = get_Preparations_Recipe(g, r)\n",
    "    return [k for p in preps for k in get_PreparationFamily_Preparation(g, p)]\n",
    "\n",
    "def get_components_Recipe(g, r):\n",
    "    preps = get_Preparations_Recipe(g, r)\n",
    "    return [k for p in preps for k in get_components_Preparation(g, p)]"
   ]
  },
  {
   "cell_type": "code",
   "execution_count": 3,
   "metadata": {
    "collapsed": true
   },
   "outputs": [],
   "source": [
    "def INGREDIENTS(g1, g2, r):\n",
    "    ingrs1 = get_components_Recipe(g1, r)\n",
    "    ingrs2 = get_components_Recipe(g2, r)\n",
    "    ingrs = []\n",
    "    ingrs.extend(ingr for ingr in ingrs1 if ingr not in ingrs)\n",
    "    ingrs.extend(ingr for ingr in ingrs2 if ingr not in ingrs)\n",
    "    return ingrs\n",
    "\n",
    "def TECHNIQUES(g1, g2, r):\n",
    "    techs1 = get_Techniques_Recipe(g1, r)\n",
    "    techs2 = get_Techniques_Recipe(g2, r)\n",
    "    techs = []\n",
    "    techs.extend(tech for tech in techs1 if tech not in techs)\n",
    "    techs.extend(tech for tech in techs2 if tech not in techs)\n",
    "    return techs"
   ]
  },
  {
   "cell_type": "code",
   "execution_count": 4,
   "metadata": {
    "collapsed": true
   },
   "outputs": [],
   "source": [
    "def get_nodes_by_type(g, typ):\n",
    "    return [n for n, data in g.nodes_iter(data=True) if data['nodetype'] == typ]\n",
    "\n",
    "def get_recipes(g):\n",
    "    return get_nodes_by_type(g, 'Receta')\n",
    "\n",
    "def all_ingredients(g):\n",
    "    ingrs = set()\n",
    "    for r in get_recipes(g):\n",
    "        ingrs = ingrs.union(get_components_Recipe(g, r))\n",
    "    return ingrs\n",
    "\n",
    "def all_techniques(g):\n",
    "    techs = set()\n",
    "    for r in get_recipes(g):\n",
    "        techs = techs.union(get_Techniques_Recipe(g, r))\n",
    "    return techs"
   ]
  },
  {
   "cell_type": "code",
   "execution_count": 5,
   "metadata": {
    "collapsed": true
   },
   "outputs": [],
   "source": [
    "import networkx as nx"
   ]
  },
  {
   "cell_type": "code",
   "execution_count": 6,
   "metadata": {
    "collapsed": true
   },
   "outputs": [],
   "source": [
    "g_nlg = nx.read_gexf('out/elbulli_nlg.gexf')"
   ]
  },
  {
   "cell_type": "code",
   "execution_count": 7,
   "metadata": {
    "collapsed": true
   },
   "outputs": [],
   "source": [
    "g_dat = nx.read_gexf('out/elbulli_dat.gexf')"
   ]
  },
  {
   "cell_type": "code",
   "execution_count": 8,
   "metadata": {
    "collapsed": true
   },
   "outputs": [],
   "source": [
    "for g in [g_nlg, g_dat]:\n",
    "    for p in get_nodes_by_type(g, 'Elaboracion'):\n",
    "        assert(len(get_PreparationFamily_Preparation(g, p)) <= 1)\n",
    "        prods = get_Products_Preparation(g, p)\n",
    "        flavs = get_Flavors_Preparation(g, p)\n",
    "        ingrs = get_Ingredients_Preparation(g, p)\n",
    "        comps = get_components_Preparation(g, p)\n",
    "        assert(set(comps) == set(prods + flavs + ingrs))\n",
    "        get_Techniques_Preparation(g, p)\n",
    "        assert(len(get_World_Preparation(g, p)) <= 1)"
   ]
  },
  {
   "cell_type": "code",
   "execution_count": 9,
   "metadata": {
    "collapsed": true
   },
   "outputs": [],
   "source": [
    "for g in [g_nlg, g_dat]:\n",
    "    for s in get_nodes_by_type(g, 'Estilo'):\n",
    "        assert(len(get_StyleFamily_Style(g, s)) == 1)"
   ]
  },
  {
   "cell_type": "code",
   "execution_count": 10,
   "metadata": {
    "collapsed": true
   },
   "outputs": [],
   "source": [
    "for g in [g_nlg, g_dat]:\n",
    "    for t in get_nodes_by_type(g, 'Tecnica'):\n",
    "        assert(len(get_TechniqueRFamily_TechniqueR(g, t)) == 1)"
   ]
  },
  {
   "cell_type": "code",
   "execution_count": 11,
   "metadata": {
    "collapsed": true
   },
   "outputs": [],
   "source": [
    "for g in [g_nlg, g_dat]:\n",
    "    for r in get_nodes_by_type(g, 'Receta'):\n",
    "        techsR = get_TechniquesR_Recipe(g, r)\n",
    "        techsF = get_TechniqueRFamilies_Recipe(g, r)\n",
    "        assert(len(techsR) == len(techsF))\n",
    "        assert(len(get_RecipeFamily_Recipe(g, r)) == 1)\n",
    "        assert(len(get_Year_Recipe(g, r)) == 1)\n",
    "        assert(len(get_Temperature_Recipe(g, r)) == 1)\n",
    "        stylesR = get_Styles_Recipe(g, r)\n",
    "        stylesF = get_StyleFamilies_Recipe(g, r)\n",
    "        assert(len(stylesR) == len(stylesF))\n",
    "        preps = get_Preparations_Recipe(g, r)\n",
    "        worlds = get_Worlds_Recipe(g, r)\n",
    "        assert(len(worlds) <= len(preps))\n",
    "        ingrs = get_Ingredients_Recipe(g, r)\n",
    "        flavs = get_Flavors_Recipe(g, r)\n",
    "        prods = get_Products_Recipe(g, r)\n",
    "        comps = get_components_Recipe(g, r)\n",
    "        assert(set(comps) == set(prods + flavs + ingrs))\n",
    "        get_Techniques_Recipe(g, r)\n",
    "        fams = get_PreparationFamilies_Recipe(g, r)\n",
    "        assert(len(fams) <= len(preps))"
   ]
  },
  {
   "cell_type": "code",
   "execution_count": 12,
   "metadata": {
    "collapsed": true
   },
   "outputs": [],
   "source": [
    "for r in get_nodes_by_type(g_dat, 'Receta'):\n",
    "    s11 = set(INGREDIENTS(g_dat, g_nlg, r))\n",
    "    s12 = set(INGREDIENTS(g_nlg, g_dat, r))\n",
    "    s13 = set(get_components_Recipe(g_dat, r)).union(get_components_Recipe(g_nlg, r))\n",
    "    assert(s11 == s12 == s13)\n",
    "    s21 = set(TECHNIQUES(g_dat, g_nlg, r))\n",
    "    s22 = set(TECHNIQUES(g_nlg, g_dat, r))\n",
    "    s23 = set(get_Techniques_Recipe(g_dat, r)).union(get_Techniques_Recipe(g_nlg, r))\n",
    "    assert(s21 == s22 == s23)"
   ]
  },
  {
   "cell_type": "code",
   "execution_count": null,
   "metadata": {
    "collapsed": true
   },
   "outputs": [],
   "source": []
  }
 ],
 "metadata": {
  "kernelspec": {
   "display_name": "Python 3",
   "language": "python",
   "name": "python3"
  },
  "language_info": {
   "codemirror_mode": {
    "name": "ipython",
    "version": 3
   },
   "file_extension": ".py",
   "mimetype": "text/x-python",
   "name": "python",
   "nbconvert_exporter": "python",
   "pygments_lexer": "ipython3",
   "version": "3.5.2"
  }
 },
 "nbformat": 4,
 "nbformat_minor": 1
}
