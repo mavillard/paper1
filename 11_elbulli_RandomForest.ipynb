{
 "cells": [
  {
   "cell_type": "code",
   "execution_count": 1,
   "metadata": {
    "collapsed": true
   },
   "outputs": [],
   "source": [
    "import pandas as pd\n",
    "from sklearn.ensemble import RandomForestClassifier\n",
    "from sklearn.model_selection import GridSearchCV\n",
    "from sklearn.model_selection import train_test_split"
   ]
  },
  {
   "cell_type": "code",
   "execution_count": 2,
   "metadata": {
    "collapsed": true
   },
   "outputs": [],
   "source": [
    "recipes_info_df = pd.read_csv('out/recipes_info.csv')"
   ]
  },
  {
   "cell_type": "code",
   "execution_count": 3,
   "metadata": {},
   "outputs": [
    {
     "data": {
      "text/html": [
       "<div>\n",
       "<style>\n",
       "    .dataframe thead tr:only-child th {\n",
       "        text-align: right;\n",
       "    }\n",
       "\n",
       "    .dataframe thead th {\n",
       "        text-align: left;\n",
       "    }\n",
       "\n",
       "    .dataframe tbody tr th {\n",
       "        vertical-align: top;\n",
       "    }\n",
       "</style>\n",
       "<table border=\"1\" class=\"dataframe\">\n",
       "  <thead>\n",
       "    <tr style=\"text-align: right;\">\n",
       "      <th></th>\n",
       "      <th>title</th>\n",
       "      <th>year</th>\n",
       "    </tr>\n",
       "  </thead>\n",
       "  <tbody>\n",
       "    <tr>\n",
       "      <th>0</th>\n",
       "      <td>terrina de melón con gelée de oporto</td>\n",
       "      <td>1987</td>\n",
       "    </tr>\n",
       "    <tr>\n",
       "      <th>1</th>\n",
       "      <td>mousse de trufa negra '87</td>\n",
       "      <td>1987</td>\n",
       "    </tr>\n",
       "    <tr>\n",
       "      <th>2</th>\n",
       "      <td>ensalada de pasta fresca con caviar, tempura d...</td>\n",
       "      <td>1987</td>\n",
       "    </tr>\n",
       "    <tr>\n",
       "      <th>3</th>\n",
       "      <td>raviolis de cigala, patatas y trufa negra</td>\n",
       "      <td>1987</td>\n",
       "    </tr>\n",
       "    <tr>\n",
       "      <th>4</th>\n",
       "      <td>tempura de flor de calabacín rellena de mozzar...</td>\n",
       "      <td>1987</td>\n",
       "    </tr>\n",
       "  </tbody>\n",
       "</table>\n",
       "</div>"
      ],
      "text/plain": [
       "                                               title  year\n",
       "0               terrina de melón con gelée de oporto  1987\n",
       "1                          mousse de trufa negra '87  1987\n",
       "2  ensalada de pasta fresca con caviar, tempura d...  1987\n",
       "3          raviolis de cigala, patatas y trufa negra  1987\n",
       "4  tempura de flor de calabacín rellena de mozzar...  1987"
      ]
     },
     "execution_count": 3,
     "metadata": {},
     "output_type": "execute_result"
    }
   ],
   "source": [
    "recipes_info_df.head()"
   ]
  },
  {
   "cell_type": "code",
   "execution_count": 4,
   "metadata": {
    "collapsed": true
   },
   "outputs": [],
   "source": [
    "recipes_data_df = pd.read_csv('out/recipes_data.csv')"
   ]
  },
  {
   "cell_type": "code",
   "execution_count": 5,
   "metadata": {},
   "outputs": [
    {
     "data": {
      "text/html": [
       "<div>\n",
       "<style>\n",
       "    .dataframe thead tr:only-child th {\n",
       "        text-align: right;\n",
       "    }\n",
       "\n",
       "    .dataframe thead th {\n",
       "        text-align: left;\n",
       "    }\n",
       "\n",
       "    .dataframe tbody tr th {\n",
       "        vertical-align: top;\n",
       "    }\n",
       "</style>\n",
       "<table border=\"1\" class=\"dataframe\">\n",
       "  <thead>\n",
       "    <tr style=\"text-align: right;\">\n",
       "      <th></th>\n",
       "      <th>num_ingredients</th>\n",
       "      <th>num_preparations</th>\n",
       "      <th>num_styles</th>\n",
       "      <th>num_techniques</th>\n",
       "      <th>num_techniquesR</th>\n",
       "      <th>num_worlds</th>\n",
       "      <th>i_consomé de tucuppí</th>\n",
       "      <th>i_anchoas en salazón</th>\n",
       "      <th>i_tamarindo</th>\n",
       "      <th>i_leche de nuez</th>\n",
       "      <th>...</th>\n",
       "      <th>temp_TIBIA/AMBIENTE</th>\n",
       "      <th>temp_FRÍA/AMBIENTE</th>\n",
       "      <th>temp_HELADA/FRÍA/AMBIENTE</th>\n",
       "      <th>temp_CALIENTE/TIBIA</th>\n",
       "      <th>temp_FRÍA/AMBIENTE/HELADA</th>\n",
       "      <th>temp_FRÍA</th>\n",
       "      <th>temp_CALIENTE/FRÍA</th>\n",
       "      <th>temp_FRÍA/HELADA</th>\n",
       "      <th>w_SALADO</th>\n",
       "      <th>w_DULCE</th>\n",
       "    </tr>\n",
       "  </thead>\n",
       "  <tbody>\n",
       "    <tr>\n",
       "      <th>0</th>\n",
       "      <td>7</td>\n",
       "      <td>4</td>\n",
       "      <td>1</td>\n",
       "      <td>8</td>\n",
       "      <td>0</td>\n",
       "      <td>2</td>\n",
       "      <td>0</td>\n",
       "      <td>0</td>\n",
       "      <td>0</td>\n",
       "      <td>0</td>\n",
       "      <td>...</td>\n",
       "      <td>0</td>\n",
       "      <td>0</td>\n",
       "      <td>0</td>\n",
       "      <td>0</td>\n",
       "      <td>0</td>\n",
       "      <td>1</td>\n",
       "      <td>0</td>\n",
       "      <td>0</td>\n",
       "      <td>2</td>\n",
       "      <td>0</td>\n",
       "    </tr>\n",
       "    <tr>\n",
       "      <th>1</th>\n",
       "      <td>15</td>\n",
       "      <td>5</td>\n",
       "      <td>0</td>\n",
       "      <td>12</td>\n",
       "      <td>0</td>\n",
       "      <td>2</td>\n",
       "      <td>0</td>\n",
       "      <td>0</td>\n",
       "      <td>0</td>\n",
       "      <td>0</td>\n",
       "      <td>...</td>\n",
       "      <td>0</td>\n",
       "      <td>0</td>\n",
       "      <td>0</td>\n",
       "      <td>0</td>\n",
       "      <td>0</td>\n",
       "      <td>1</td>\n",
       "      <td>0</td>\n",
       "      <td>0</td>\n",
       "      <td>2</td>\n",
       "      <td>0</td>\n",
       "    </tr>\n",
       "    <tr>\n",
       "      <th>2</th>\n",
       "      <td>21</td>\n",
       "      <td>5</td>\n",
       "      <td>0</td>\n",
       "      <td>17</td>\n",
       "      <td>0</td>\n",
       "      <td>4</td>\n",
       "      <td>0</td>\n",
       "      <td>0</td>\n",
       "      <td>0</td>\n",
       "      <td>0</td>\n",
       "      <td>...</td>\n",
       "      <td>0</td>\n",
       "      <td>0</td>\n",
       "      <td>0</td>\n",
       "      <td>0</td>\n",
       "      <td>0</td>\n",
       "      <td>0</td>\n",
       "      <td>0</td>\n",
       "      <td>0</td>\n",
       "      <td>4</td>\n",
       "      <td>0</td>\n",
       "    </tr>\n",
       "    <tr>\n",
       "      <th>3</th>\n",
       "      <td>30</td>\n",
       "      <td>10</td>\n",
       "      <td>1</td>\n",
       "      <td>38</td>\n",
       "      <td>0</td>\n",
       "      <td>3</td>\n",
       "      <td>0</td>\n",
       "      <td>0</td>\n",
       "      <td>0</td>\n",
       "      <td>0</td>\n",
       "      <td>...</td>\n",
       "      <td>0</td>\n",
       "      <td>0</td>\n",
       "      <td>0</td>\n",
       "      <td>0</td>\n",
       "      <td>0</td>\n",
       "      <td>0</td>\n",
       "      <td>0</td>\n",
       "      <td>0</td>\n",
       "      <td>3</td>\n",
       "      <td>0</td>\n",
       "    </tr>\n",
       "    <tr>\n",
       "      <th>4</th>\n",
       "      <td>25</td>\n",
       "      <td>7</td>\n",
       "      <td>1</td>\n",
       "      <td>21</td>\n",
       "      <td>0</td>\n",
       "      <td>1</td>\n",
       "      <td>0</td>\n",
       "      <td>0</td>\n",
       "      <td>0</td>\n",
       "      <td>0</td>\n",
       "      <td>...</td>\n",
       "      <td>0</td>\n",
       "      <td>0</td>\n",
       "      <td>0</td>\n",
       "      <td>0</td>\n",
       "      <td>0</td>\n",
       "      <td>0</td>\n",
       "      <td>0</td>\n",
       "      <td>0</td>\n",
       "      <td>1</td>\n",
       "      <td>0</td>\n",
       "    </tr>\n",
       "  </tbody>\n",
       "</table>\n",
       "<p>5 rows × 2643 columns</p>\n",
       "</div>"
      ],
      "text/plain": [
       "   num_ingredients  num_preparations  num_styles  num_techniques  \\\n",
       "0                7                 4           1               8   \n",
       "1               15                 5           0              12   \n",
       "2               21                 5           0              17   \n",
       "3               30                10           1              38   \n",
       "4               25                 7           1              21   \n",
       "\n",
       "   num_techniquesR  num_worlds  i_consomé de tucuppí  i_anchoas en salazón  \\\n",
       "0                0           2                     0                     0   \n",
       "1                0           2                     0                     0   \n",
       "2                0           4                     0                     0   \n",
       "3                0           3                     0                     0   \n",
       "4                0           1                     0                     0   \n",
       "\n",
       "   i_tamarindo  i_leche de nuez   ...     temp_TIBIA/AMBIENTE  \\\n",
       "0            0                0   ...                       0   \n",
       "1            0                0   ...                       0   \n",
       "2            0                0   ...                       0   \n",
       "3            0                0   ...                       0   \n",
       "4            0                0   ...                       0   \n",
       "\n",
       "   temp_FRÍA/AMBIENTE  temp_HELADA/FRÍA/AMBIENTE  temp_CALIENTE/TIBIA  \\\n",
       "0                   0                          0                    0   \n",
       "1                   0                          0                    0   \n",
       "2                   0                          0                    0   \n",
       "3                   0                          0                    0   \n",
       "4                   0                          0                    0   \n",
       "\n",
       "   temp_FRÍA/AMBIENTE/HELADA  temp_FRÍA  temp_CALIENTE/FRÍA  temp_FRÍA/HELADA  \\\n",
       "0                          0          1                   0                 0   \n",
       "1                          0          1                   0                 0   \n",
       "2                          0          0                   0                 0   \n",
       "3                          0          0                   0                 0   \n",
       "4                          0          0                   0                 0   \n",
       "\n",
       "   w_SALADO  w_DULCE  \n",
       "0         2        0  \n",
       "1         2        0  \n",
       "2         4        0  \n",
       "3         3        0  \n",
       "4         1        0  \n",
       "\n",
       "[5 rows x 2643 columns]"
      ]
     },
     "execution_count": 5,
     "metadata": {},
     "output_type": "execute_result"
    }
   ],
   "source": [
    "recipes_data_df.head()"
   ]
  },
  {
   "cell_type": "code",
   "execution_count": 6,
   "metadata": {
    "collapsed": true
   },
   "outputs": [],
   "source": [
    "X = recipes_data_df\n",
    "y = recipes_info_df.year"
   ]
  },
  {
   "cell_type": "code",
   "execution_count": 7,
   "metadata": {
    "collapsed": true
   },
   "outputs": [],
   "source": [
    "X_train, X_test, y_train, y_test = train_test_split(X, y, test_size=0.1, random_state=0, stratify=y)"
   ]
  },
  {
   "cell_type": "code",
   "execution_count": 8,
   "metadata": {
    "collapsed": true
   },
   "outputs": [],
   "source": [
    "def my_score(f, xs, ys):\n",
    "    assert(len(xs) == len(ys))\n",
    "    a = 18\n",
    "    b = sum(abs(x - y) for x, y in zip(xs, ys)) / len(xs)\n",
    "    return (f(a) - f(b)) / f(a)\n",
    "\n",
    "def my_linear_score(xs, ys):\n",
    "    return my_score(lambda x: x, xs, ys)"
   ]
  },
  {
   "cell_type": "code",
   "execution_count": 9,
   "metadata": {
    "collapsed": true
   },
   "outputs": [],
   "source": [
    "clf = RandomForestClassifier(**{\n",
    "    'class_weight': None,\n",
    "     'max_depth': None,\n",
    "     'max_features': 'auto',\n",
    "     'n_estimators': 1000,\n",
    "     'n_jobs': -1,\n",
    "     'random_state': 0\n",
    "})"
   ]
  },
  {
   "cell_type": "code",
   "execution_count": 10,
   "metadata": {},
   "outputs": [
    {
     "data": {
      "text/plain": [
       "RandomForestClassifier(bootstrap=True, class_weight=None, criterion='gini',\n",
       "            max_depth=None, max_features='auto', max_leaf_nodes=None,\n",
       "            min_impurity_decrease=0.0, min_impurity_split=None,\n",
       "            min_samples_leaf=1, min_samples_split=2,\n",
       "            min_weight_fraction_leaf=0.0, n_estimators=1000, n_jobs=-1,\n",
       "            oob_score=False, random_state=0, verbose=0, warm_start=False)"
      ]
     },
     "execution_count": 10,
     "metadata": {},
     "output_type": "execute_result"
    }
   ],
   "source": [
    "clf.fit(X_train, y_train)"
   ]
  },
  {
   "cell_type": "code",
   "execution_count": 11,
   "metadata": {
    "collapsed": true
   },
   "outputs": [],
   "source": [
    "y_pred = clf.predict(X_test)"
   ]
  },
  {
   "cell_type": "code",
   "execution_count": 12,
   "metadata": {},
   "outputs": [
    {
     "data": {
      "text/plain": [
       "0.93715846994535523"
      ]
     },
     "execution_count": 12,
     "metadata": {},
     "output_type": "execute_result"
    }
   ],
   "source": [
    "my_linear_score(y_pred, y_test)"
   ]
  },
  {
   "cell_type": "code",
   "execution_count": 13,
   "metadata": {
    "collapsed": true
   },
   "outputs": [],
   "source": [
    "features_df = pd.DataFrame(\n",
    "    [X.columns, clf.feature_importances_],\n",
    "    index=['feature', 'importance']\n",
    ").T"
   ]
  },
  {
   "cell_type": "code",
   "execution_count": 14,
   "metadata": {},
   "outputs": [
    {
     "data": {
      "text/plain": [
       "2643"
      ]
     },
     "execution_count": 14,
     "metadata": {},
     "output_type": "execute_result"
    }
   ],
   "source": [
    "len(clf.feature_importances_)"
   ]
  },
  {
   "cell_type": "code",
   "execution_count": 15,
   "metadata": {},
   "outputs": [
    {
     "data": {
      "text/html": [
       "<div>\n",
       "<style>\n",
       "    .dataframe thead tr:only-child th {\n",
       "        text-align: right;\n",
       "    }\n",
       "\n",
       "    .dataframe thead th {\n",
       "        text-align: left;\n",
       "    }\n",
       "\n",
       "    .dataframe tbody tr th {\n",
       "        vertical-align: top;\n",
       "    }\n",
       "</style>\n",
       "<table border=\"1\" class=\"dataframe\">\n",
       "  <thead>\n",
       "    <tr style=\"text-align: right;\">\n",
       "      <th></th>\n",
       "      <th>feature</th>\n",
       "      <th>importance</th>\n",
       "    </tr>\n",
       "  </thead>\n",
       "  <tbody>\n",
       "    <tr>\n",
       "      <th>0</th>\n",
       "      <td>num_ingredients</td>\n",
       "      <td>0.0151832</td>\n",
       "    </tr>\n",
       "    <tr>\n",
       "      <th>5</th>\n",
       "      <td>num_worlds</td>\n",
       "      <td>0.0146502</td>\n",
       "    </tr>\n",
       "    <tr>\n",
       "      <th>3</th>\n",
       "      <td>num_techniques</td>\n",
       "      <td>0.0145047</td>\n",
       "    </tr>\n",
       "    <tr>\n",
       "      <th>4</th>\n",
       "      <td>num_techniquesR</td>\n",
       "      <td>0.0130641</td>\n",
       "    </tr>\n",
       "    <tr>\n",
       "      <th>1</th>\n",
       "      <td>num_preparations</td>\n",
       "      <td>0.0116046</td>\n",
       "    </tr>\n",
       "    <tr>\n",
       "      <th>2641</th>\n",
       "      <td>w_SALADO</td>\n",
       "      <td>0.0112679</td>\n",
       "    </tr>\n",
       "    <tr>\n",
       "      <th>2166</th>\n",
       "      <td>pf_SALSAS</td>\n",
       "      <td>0.00794124</td>\n",
       "    </tr>\n",
       "    <tr>\n",
       "      <th>2</th>\n",
       "      <td>num_styles</td>\n",
       "      <td>0.00756563</td>\n",
       "    </tr>\n",
       "    <tr>\n",
       "      <th>2227</th>\n",
       "      <td>pf_TOQUES</td>\n",
       "      <td>0.00657253</td>\n",
       "    </tr>\n",
       "    <tr>\n",
       "      <th>2320</th>\n",
       "      <td>pf_OTRAS ELABORACIONES: Elaboraciones compradas</td>\n",
       "      <td>0.00595962</td>\n",
       "    </tr>\n",
       "    <tr>\n",
       "      <th>2349</th>\n",
       "      <td>rf_TAPAS/PLATOS</td>\n",
       "      <td>0.00561098</td>\n",
       "    </tr>\n",
       "    <tr>\n",
       "      <th>2642</th>\n",
       "      <td>w_DULCE</td>\n",
       "      <td>0.00535471</td>\n",
       "    </tr>\n",
       "    <tr>\n",
       "      <th>2339</th>\n",
       "      <td>rf_PLATOS</td>\n",
       "      <td>0.00518537</td>\n",
       "    </tr>\n",
       "    <tr>\n",
       "      <th>1711</th>\n",
       "      <td>i_agar</td>\n",
       "      <td>0.00506411</td>\n",
       "    </tr>\n",
       "    <tr>\n",
       "      <th>2342</th>\n",
       "      <td>rf_SNACKS</td>\n",
       "      <td>0.00481864</td>\n",
       "    </tr>\n",
       "    <tr>\n",
       "      <th>2564</th>\n",
       "      <td>t_hervir</td>\n",
       "      <td>0.00475798</td>\n",
       "    </tr>\n",
       "    <tr>\n",
       "      <th>2325</th>\n",
       "      <td>pf_OTRAS ELABORACIONES</td>\n",
       "      <td>0.00472129</td>\n",
       "    </tr>\n",
       "    <tr>\n",
       "      <th>314</th>\n",
       "      <td>i_agua</td>\n",
       "      <td>0.00470964</td>\n",
       "    </tr>\n",
       "    <tr>\n",
       "      <th>2340</th>\n",
       "      <td>rf_SNACKS FRESCOS</td>\n",
       "      <td>0.00468308</td>\n",
       "    </tr>\n",
       "    <tr>\n",
       "      <th>2586</th>\n",
       "      <td>t_pasar</td>\n",
       "      <td>0.00464279</td>\n",
       "    </tr>\n",
       "  </tbody>\n",
       "</table>\n",
       "</div>"
      ],
      "text/plain": [
       "                                              feature  importance\n",
       "0                                     num_ingredients   0.0151832\n",
       "5                                          num_worlds   0.0146502\n",
       "3                                      num_techniques   0.0145047\n",
       "4                                     num_techniquesR   0.0130641\n",
       "1                                    num_preparations   0.0116046\n",
       "2641                                         w_SALADO   0.0112679\n",
       "2166                                        pf_SALSAS  0.00794124\n",
       "2                                          num_styles  0.00756563\n",
       "2227                                        pf_TOQUES  0.00657253\n",
       "2320  pf_OTRAS ELABORACIONES: Elaboraciones compradas  0.00595962\n",
       "2349                                  rf_TAPAS/PLATOS  0.00561098\n",
       "2642                                          w_DULCE  0.00535471\n",
       "2339                                        rf_PLATOS  0.00518537\n",
       "1711                                           i_agar  0.00506411\n",
       "2342                                        rf_SNACKS  0.00481864\n",
       "2564                                         t_hervir  0.00475798\n",
       "2325                           pf_OTRAS ELABORACIONES  0.00472129\n",
       "314                                            i_agua  0.00470964\n",
       "2340                                rf_SNACKS FRESCOS  0.00468308\n",
       "2586                                          t_pasar  0.00464279"
      ]
     },
     "execution_count": 15,
     "metadata": {},
     "output_type": "execute_result"
    }
   ],
   "source": [
    "features_df.sort_values('importance', ascending=False).head(20)"
   ]
  },
  {
   "cell_type": "markdown",
   "metadata": {
    "collapsed": true
   },
   "source": [
    "Conclusions:<br>\n",
    "The 6 metrics (num_\\*) are in the top 10 of important features: rank 1, 2, 3, 4, 6, and 10"
   ]
  },
  {
   "cell_type": "code",
   "execution_count": 16,
   "metadata": {},
   "outputs": [],
   "source": [
    "top_ingredients = []\n",
    "for i, x in features_df.sort_values('importance', ascending=False).iterrows():\n",
    "    if x.feature.startswith('i_'):\n",
    "        top_ingredients.append(x.feature)"
   ]
  },
  {
   "cell_type": "code",
   "execution_count": 17,
   "metadata": {},
   "outputs": [
    {
     "data": {
      "text/plain": [
       "['i_agar',\n",
       " 'i_agua',\n",
       " 'i_agar-agar en polvo',\n",
       " 'i_azúcar',\n",
       " 'i_sal',\n",
       " 'i_hoja de gelatina',\n",
       " 'i_perifollo',\n",
       " 'i_aceite de oliva',\n",
       " 'i_sal maldon',\n",
       " 'i_glucosa',\n",
       " 'i_nata líquida',\n",
       " 'i_mantequilla',\n",
       " 'i_aceite',\n",
       " 'i_cebollino fresco',\n",
       " 'i_aceite de girasol',\n",
       " 'i_nata',\n",
       " 'i_harina de trigo',\n",
       " 'i_limón',\n",
       " 'i_claras de huevo',\n",
       " 'i_isomalt']"
      ]
     },
     "execution_count": 17,
     "metadata": {},
     "output_type": "execute_result"
    }
   ],
   "source": [
    "top_ingredients[:20]"
   ]
  },
  {
   "cell_type": "code",
   "execution_count": 18,
   "metadata": {},
   "outputs": [],
   "source": [
    "top_techniques = []\n",
    "for i, x in features_df.sort_values('importance', ascending=False).iterrows():\n",
    "    if x.feature.startswith('t_'):\n",
    "        top_techniques.append(x.feature)"
   ]
  },
  {
   "cell_type": "code",
   "execution_count": 19,
   "metadata": {},
   "outputs": [
    {
     "data": {
      "text/plain": [
       "['t_hervir',\n",
       " 't_pasar',\n",
       " 't_cocer',\n",
       " 't_horno',\n",
       " 't_triturar',\n",
       " 't_mezclar',\n",
       " 't_estirar',\n",
       " 't_reposar',\n",
       " 't_pelar',\n",
       " 't_colar',\n",
       " 't_secar',\n",
       " 't_escurrir',\n",
       " 't_disolver',\n",
       " 't_escaldar',\n",
       " 't_sal',\n",
       " 't_puré',\n",
       " 't_agua',\n",
       " 't_sartén',\n",
       " 't_espuma',\n",
       " 't_montar']"
      ]
     },
     "execution_count": 19,
     "metadata": {},
     "output_type": "execute_result"
    }
   ],
   "source": [
    "top_techniques[:20]"
   ]
  },
  {
   "cell_type": "code",
   "execution_count": null,
   "metadata": {
    "collapsed": true
   },
   "outputs": [],
   "source": []
  }
 ],
 "metadata": {
  "kernelspec": {
   "display_name": "Python 3",
   "language": "python",
   "name": "python3"
  },
  "language_info": {
   "codemirror_mode": {
    "name": "ipython",
    "version": 3
   },
   "file_extension": ".py",
   "mimetype": "text/x-python",
   "name": "python",
   "nbconvert_exporter": "python",
   "pygments_lexer": "ipython3",
   "version": "3.5.2"
  }
 },
 "nbformat": 4,
 "nbformat_minor": 1
}
