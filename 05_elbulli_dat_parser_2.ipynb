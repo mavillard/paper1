{
 "cells": [
  {
   "cell_type": "code",
   "execution_count": 1,
   "metadata": {
    "collapsed": true
   },
   "outputs": [],
   "source": [
    "import os\n",
    "import pickle\n",
    "import string\n",
    "\n",
    "import networkx as nx\n",
    "import nltk\n",
    "from nltk.util import ngrams"
   ]
  },
  {
   "cell_type": "code",
   "execution_count": 2,
   "metadata": {
    "collapsed": true
   },
   "outputs": [],
   "source": [
    "g_nlg = nx.read_gexf('out/elbulli_nlg.gexf')"
   ]
  },
  {
   "cell_type": "code",
   "execution_count": 3,
   "metadata": {
    "collapsed": true
   },
   "outputs": [],
   "source": [
    "g_dat = nx.read_gexf('out/elbulli_dat.gexf')"
   ]
  },
  {
   "cell_type": "code",
   "execution_count": 4,
   "metadata": {
    "collapsed": true
   },
   "outputs": [],
   "source": [
    "with open('out/ingredients.pickle', 'rb') as f:\n",
    "    ingredients = pickle.load(f)"
   ]
  },
  {
   "cell_type": "code",
   "execution_count": 5,
   "metadata": {},
   "outputs": [
    {
     "data": {
      "text/plain": [
       "26927"
      ]
     },
     "execution_count": 5,
     "metadata": {},
     "output_type": "execute_result"
    }
   ],
   "source": [
    "len(ingredients)"
   ]
  },
  {
   "cell_type": "code",
   "execution_count": 6,
   "metadata": {},
   "outputs": [
    {
     "data": {
      "text/plain": [
       "['3d',\n",
       " 'aabalone',\n",
       " 'aabalones',\n",
       " 'abacate',\n",
       " 'abacates',\n",
       " 'abadejo',\n",
       " 'abadejo desalado',\n",
       " 'abadejo desalados',\n",
       " 'abadejo fresco',\n",
       " 'abadejo frescos']"
      ]
     },
     "execution_count": 6,
     "metadata": {},
     "output_type": "execute_result"
    }
   ],
   "source": [
    "sorted(ingredients)[:10]"
   ]
  },
  {
   "cell_type": "code",
   "execution_count": 7,
   "metadata": {
    "collapsed": true
   },
   "outputs": [],
   "source": [
    "with open('out/techniques.pickle', 'rb') as f:\n",
    "    techniques = pickle.load(f)"
   ]
  },
  {
   "cell_type": "code",
   "execution_count": 8,
   "metadata": {},
   "outputs": [
    {
     "data": {
      "text/plain": [
       "4383"
      ]
     },
     "execution_count": 8,
     "metadata": {},
     "output_type": "execute_result"
    }
   ],
   "source": [
    "len(techniques)"
   ]
  },
  {
   "cell_type": "code",
   "execution_count": 9,
   "metadata": {},
   "outputs": [
    {
     "data": {
      "text/plain": [
       "['a baja temperatura',\n",
       " 'a bajado temperatura',\n",
       " 'a bajamos temperatura',\n",
       " 'a bajando temperatura',\n",
       " 'a bajar temperatura',\n",
       " 'a baje temperatura',\n",
       " 'a fuego lento',\n",
       " 'a la brasa',\n",
       " 'a la brasa rui',\n",
       " 'a la cazuela']"
      ]
     },
     "execution_count": 9,
     "metadata": {},
     "output_type": "execute_result"
    }
   ],
   "source": [
    "sorted(techniques)[:10]"
   ]
  },
  {
   "cell_type": "code",
   "execution_count": 10,
   "metadata": {
    "collapsed": true
   },
   "outputs": [],
   "source": [
    "def my_split(s):\n",
    "    if '#' in s:\n",
    "        r = s.split('#')\n",
    "    else:\n",
    "        r = s.split('<br>')\n",
    "    return r\n",
    "\n",
    "def my_trim(s):\n",
    "    return ' '.join(s.split())\n",
    "\n",
    "def my_ngrams(technique):\n",
    "    ngrms = []\n",
    "    tokens = nltk.word_tokenize(technique)\n",
    "    for i in range(1, len(tokens) + 1):\n",
    "        ngrms.extend(ngrams(tokens, i))\n",
    "    return list(map(lambda x: ' '.join(x), ngrms))\n",
    "\n",
    "def in_any(e, es):\n",
    "    return any(map(lambda x: e in x, es))"
   ]
  },
  {
   "cell_type": "code",
   "execution_count": 11,
   "metadata": {
    "scrolled": true
   },
   "outputs": [
    {
     "name": "stdout",
     "output_type": "stream",
     "text": [
      "CPU times: user 4min 22s, sys: 36 ms, total: 4min 22s\n",
      "Wall time: 4min 22s\n"
     ]
    }
   ],
   "source": [
    "%%time\n",
    "\n",
    "for n, data in g_dat.nodes(data=True):\n",
    "    if data['nodetype'] == 'Elaboracion':\n",
    "        ingrs_str = data['ingrs']\n",
    "        ingreds = set()\n",
    "        elems = my_split(ingrs_str)\n",
    "        ingrs = map(my_trim, elems)\n",
    "        for ingr in ingrs:\n",
    "            ngrms = my_ngrams(ingr)\n",
    "            ngrms.reverse()\n",
    "            for ngrm in ngrms:\n",
    "                if ngrm in ingredients:\n",
    "                    v = ngrm\n",
    "                    g_dat.add_node(v, {'label': v, 'nodetype': 'ingrediente'})\n",
    "                    g_dat.add_edge(n, v, {'edgetype': 'composicion'})\n",
    "                    break # I assume one ingredient only per split\n",
    "#         del(data['ingrs'])\n",
    "        desc = data['desc']\n",
    "        techns = set()\n",
    "        elems = my_split(desc)\n",
    "        steps = map(my_trim, elems)\n",
    "        for step in steps:\n",
    "            used_ngrams = set()\n",
    "            ngrms = my_ngrams(step)\n",
    "            ngrms.reverse()\n",
    "            for ngrm in ngrms:\n",
    "                if ngrm in techniques and not in_any(ngrm, used_ngrams):\n",
    "                    v = ngrm\n",
    "                    g_dat.add_node(v, {'label': v, 'nodetype': 'tecnica'})\n",
    "                    g_dat.add_edge(n, v, {'edgetype': 'tecnica'})\n",
    "                    used_ngrams.add(ngrm) # I assume one or more techniques per split\n",
    "#         del(data['desc'])"
   ]
  },
  {
   "cell_type": "code",
   "execution_count": 12,
   "metadata": {
    "collapsed": true
   },
   "outputs": [],
   "source": [
    "nx.write_gexf(g_dat, 'out/elbulli_dat.gexf')"
   ]
  },
  {
   "cell_type": "code",
   "execution_count": null,
   "metadata": {
    "collapsed": true
   },
   "outputs": [],
   "source": []
  }
 ],
 "metadata": {
  "kernelspec": {
   "display_name": "Python 3",
   "language": "python",
   "name": "python3"
  },
  "language_info": {
   "codemirror_mode": {
    "name": "ipython",
    "version": 3
   },
   "file_extension": ".py",
   "mimetype": "text/x-python",
   "name": "python",
   "nbconvert_exporter": "python",
   "pygments_lexer": "ipython3",
   "version": "3.5.2"
  }
 },
 "nbformat": 4,
 "nbformat_minor": 1
}
