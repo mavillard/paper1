{
 "cells": [
  {
   "cell_type": "code",
   "execution_count": 12,
   "metadata": {
    "collapsed": true
   },
   "outputs": [],
   "source": [
    "import os\n",
    "import string\n",
    "from collections import defaultdict\n",
    "\n",
    "import networkx as nx\n",
    "import nltk\n",
    "from nltk.util import ngrams"
   ]
  },
  {
   "cell_type": "code",
   "execution_count": 2,
   "metadata": {
    "collapsed": true
   },
   "outputs": [],
   "source": [
    "g_nlg = nx.read_gexf('out/elbulli_nlg.gexf')"
   ]
  },
  {
   "cell_type": "code",
   "execution_count": 3,
   "metadata": {
    "collapsed": true
   },
   "outputs": [],
   "source": [
    "g_dat = nx.read_gexf('out/elbulli_dat.gexf')"
   ]
  },
  {
   "cell_type": "code",
   "execution_count": 4,
   "metadata": {
    "collapsed": true
   },
   "outputs": [],
   "source": [
    "prep_prod_rels = ['bañado', 'alcohol', 'chocolate', 'lacteo', 'nuevaPasta', 'producto', 'relleno']\n",
    "prep_ingr_rels = ['composicion']\n",
    "prep_flav_rels = ['sabor']\n",
    "prep_tech_rels = ['tecnica']\n",
    "\n",
    "def get_prep_products(g, prep):\n",
    "    return {k for k in g[prep] if g[prep][k]['edgetype'] in prep_prod_rels}\n",
    "\n",
    "def get_prep_ingredients(g, prep):\n",
    "    return {k for k in g[prep] if g[prep][k]['edgetype'] in prep_ingr_rels}\n",
    "\n",
    "def get_prep_flavors(g, prep):\n",
    "    return {k for k in g[prep] if g[prep][k]['edgetype'] in prep_flav_rels}\n",
    "\n",
    "def get_prep_components(g, prep):\n",
    "    prods = get_prep_products(g, prep)\n",
    "    ingrs = get_prep_ingredients(g, prep)\n",
    "    flavs = get_prep_flavors(g, prep)\n",
    "    return prods.union(ingrs).union(flavs)\n",
    "\n",
    "def get_prep_techniques(g, prep):\n",
    "    return {k for k in g[prep] if g[prep][k]['edgetype'] in prep_tech_rels}\n",
    "\n",
    "def get_recip_preparations(g, recip):\n",
    "    return [k for k in g[recip] if g[recip][k]['edgetype'] == 'elaboracion']\n",
    "\n",
    "def get_recip_products(g, recip):\n",
    "    preps = get_recip_preparations(g, recip)\n",
    "    return {k for prep in preps for k in get_prep_products(g, prep)}\n",
    "\n",
    "def get_recip_ingredients(g, recip):\n",
    "    preps = get_recip_preparations(g, recip)\n",
    "    return {k for prep in preps for k in get_prep_ingredients(g, prep)}\n",
    "\n",
    "def get_recip_flavors(g, recip):\n",
    "    preps = get_recip_preparations(g, recip)\n",
    "    return {k for prep in preps for k in get_prep_flavors(g, prep)}\n",
    "\n",
    "def get_recip_components(g, recip):\n",
    "    preps = get_recip_preparations(g, recip)\n",
    "    return {k for prep in preps for k in get_prep_components(g, prep)}\n",
    "\n",
    "def get_recip_techniques(g, recip):\n",
    "    preps = get_recip_preparations(g, recip)\n",
    "    return {k for prep in preps for k in get_prep_techniques(g, prep)}"
   ]
  },
  {
   "cell_type": "code",
   "execution_count": null,
   "metadata": {
    "collapsed": true
   },
   "outputs": [],
   "source": [
    "def get_nlg_preparations(n):\n",
    "    m = n.split('-')[0]\n",
    "    return get_recip_preparations(g_nlg, m)\n",
    "\n",
    "def clean_producto_sabor(i):\n",
    "    return i.replace('Producto:', '').replace('sabor:', '')"
   ]
  },
  {
   "cell_type": "code",
   "execution_count": null,
   "metadata": {
    "collapsed": true
   },
   "outputs": [],
   "source": [
    "preps_dat_nlg_dict = defaultdict(list)\n",
    "for n, data in g_dat.nodes(data=True):\n",
    "    if data['nodetype'] == 'Elaboracion':\n",
    "        "
   ]
  },
  {
   "cell_type": "code",
   "execution_count": null,
   "metadata": {
    "collapsed": true
   },
   "outputs": [],
   "source": []
  },
  {
   "cell_type": "code",
   "execution_count": null,
   "metadata": {
    "collapsed": true
   },
   "outputs": [],
   "source": []
  },
  {
   "cell_type": "code",
   "execution_count": null,
   "metadata": {
    "collapsed": true
   },
   "outputs": [],
   "source": []
  },
  {
   "cell_type": "code",
   "execution_count": null,
   "metadata": {
    "collapsed": true
   },
   "outputs": [],
   "source": []
  },
  {
   "cell_type": "code",
   "execution_count": 5,
   "metadata": {
    "collapsed": true
   },
   "outputs": [],
   "source": [
    "ddd={'a':0,'b':0,'c':0, 'd':0, 'e':0, 'f':0,     'w':0, 'x':0, 'y':0, 'z':0}\n",
    "\n",
    "\n",
    "def equals_preparations(n1, n2):\n",
    "    ddd['a']+=1\n",
    "    r = False\n",
    "    data1 = g_dat.node[n1]\n",
    "    data2 = g_dat.node[n2]\n",
    "    if data1['title'] == data2['title']:\n",
    "        ddd['b']+=1\n",
    "        comps1 = get_prep_components(g_dat, n1)\n",
    "        comps2 = get_prep_components(g_dat, n2)\n",
    "        if comps1 == comps2:\n",
    "            r = True\n",
    "            ddd['c']+=1\n",
    "        elif data1['title'] == 'Otros':\n",
    "            ddd['d']+=1\n",
    "        else:\n",
    "            ddd['e']+=1\n",
    "            \n",
    "            nlg_preps1 = get_nlg_preparations(n1)\n",
    "            for nlg_prep1 in nlg_preps1:\n",
    "                nlg_comps1 = get_prep_components(g_nlg, nlg_prep1)\n",
    "                nlg_comps1 = set(map(clean_producto_sabor, nlg_comps1))\n",
    "                if nlg_comps1 == comps1:\n",
    "                    ddd['w']+=1\n",
    "                if nlg_comps1 == comps2:\n",
    "                    ddd['x']+=1\n",
    "            \n",
    "            nlg_preps2 = get_nlg_preparations(n2)\n",
    "            for nlg_prep2 in nlg_preps2:\n",
    "                nlg_comps2 = get_prep_components(g_nlg, nlg_prep2)\n",
    "                nlg_comps2 = set(map(clean_producto_sabor, nlg_comps2))\n",
    "                if nlg_comps2 == comps1:\n",
    "                    ddd['y']+=1\n",
    "                if nlg_comps2 == comps2:\n",
    "                    ddd['z']+=1\n",
    "            \n",
    "#             inters=comps1.intersection(comps2)\n",
    "#             print(1, comps1)\n",
    "#             print(2, comps2)\n",
    "#             print('INTERSECT:', inters)\n",
    "#             print('|INTERSECT|:', len(inters))\n",
    "#             diff=comps1.symmetric_difference(comps2)\n",
    "#             print('DIFF:', diff)\n",
    "#             print('|DIFF|:', len(diff))\n",
    "#             print()\n",
    "    else:\n",
    "        ddd['f']+=1\n",
    "    return r"
   ]
  },
  {
   "cell_type": "code",
   "execution_count": 11,
   "metadata": {},
   "outputs": [
    {
     "data": {
      "text/plain": [
       "{'a': 49723652,\n",
       " 'b': 909082,\n",
       " 'c': 29426,\n",
       " 'd': 873454,\n",
       " 'e': 6202,\n",
       " 'f': 48814570,\n",
       " 'w': 287,\n",
       " 'x': 116,\n",
       " 'y': 116,\n",
       " 'z': 287}"
      ]
     },
     "execution_count": 11,
     "metadata": {},
     "output_type": "execute_result"
    }
   ],
   "source": [
    "ddd"
   ]
  },
  {
   "cell_type": "code",
   "execution_count": 6,
   "metadata": {},
   "outputs": [
    {
     "data": {
      "text/plain": [
       "{'a': 0,\n",
       " 'b': 0,\n",
       " 'c': 0,\n",
       " 'd': 0,\n",
       " 'e': 0,\n",
       " 'f': 0,\n",
       " 'w': 0,\n",
       " 'x': 0,\n",
       " 'y': 0,\n",
       " 'z': 0}"
      ]
     },
     "execution_count": 6,
     "metadata": {},
     "output_type": "execute_result"
    }
   ],
   "source": [
    "ddd"
   ]
  },
  {
   "cell_type": "code",
   "execution_count": 7,
   "metadata": {},
   "outputs": [
    {
     "name": "stdout",
     "output_type": "stream",
     "text": [
      "205-6 Otros\n"
     ]
    }
   ],
   "source": [
    "for n, data in g_dat.nodes(data=True):\n",
    "    if data['nodetype'] == 'Elaboracion':\n",
    "        if data['title'] == 'Otros':\n",
    "            print(n, data['title'])\n",
    "            break"
   ]
  },
  {
   "cell_type": "code",
   "execution_count": 8,
   "metadata": {},
   "outputs": [
    {
     "name": "stdout",
     "output_type": "stream",
     "text": [
      "CPU times: user 2min, sys: 104 ms, total: 2min\n",
      "Wall time: 2min\n"
     ]
    }
   ],
   "source": [
    "%%time\n",
    "\n",
    "preps = set()\n",
    "for n1, data1 in g_dat.nodes(data=True):\n",
    "    if data1['nodetype'] == 'Elaboracion':\n",
    "        for n2, data2 in g_dat.nodes(data=True):\n",
    "            if data2['nodetype'] == 'Elaboracion':\n",
    "                if n1 != n2:\n",
    "                    if equals_preparations(n1, n2):\n",
    "                        preps.add(tuple(sorted([n1, n2])))"
   ]
  },
  {
   "cell_type": "code",
   "execution_count": 9,
   "metadata": {},
   "outputs": [],
   "source": [
    "assert(ddd['a']==ddd['b']+ddd['f'])"
   ]
  },
  {
   "cell_type": "code",
   "execution_count": 10,
   "metadata": {},
   "outputs": [],
   "source": [
    "assert(ddd['b']==ddd['c']+ddd['d']+ddd['e'])"
   ]
  },
  {
   "cell_type": "code",
   "execution_count": 11,
   "metadata": {},
   "outputs": [
    {
     "data": {
      "text/plain": [
       "{'a': 49723652,\n",
       " 'b': 909082,\n",
       " 'c': 29426,\n",
       " 'd': 873454,\n",
       " 'e': 6202,\n",
       " 'f': 48814570,\n",
       " 'w': 287,\n",
       " 'x': 116,\n",
       " 'y': 116,\n",
       " 'z': 287}"
      ]
     },
     "execution_count": 11,
     "metadata": {},
     "output_type": "execute_result"
    }
   ],
   "source": [
    "ddd"
   ]
  },
  {
   "cell_type": "code",
   "execution_count": 99,
   "metadata": {},
   "outputs": [
    {
     "data": {
      "text/plain": [
       "{'a': 49723652,\n",
       " 'b': 907134,\n",
       " 'c': 29388,\n",
       " 'd': 871580,\n",
       " 'e': 6166,\n",
       " 'f': 48816518,\n",
       " 'w': 287,\n",
       " 'x': 116,\n",
       " 'y': 116,\n",
       " 'z': 287}"
      ]
     },
     "execution_count": 99,
     "metadata": {},
     "output_type": "execute_result"
    }
   ],
   "source": [
    "ddd"
   ]
  },
  {
   "cell_type": "code",
   "execution_count": 99,
   "metadata": {},
   "outputs": [
    {
     "data": {
      "text/plain": [
       "{'a': 49723652,\n",
       " 'b': 907134,\n",
       " 'c': 29388,\n",
       " 'd': 871580,\n",
       " 'e': 6166,\n",
       " 'f': 48816518,\n",
       " 'w': 287,\n",
       " 'x': 116,\n",
       " 'y': 116,\n",
       " 'z': 287}"
      ]
     },
     "execution_count": 99,
     "metadata": {},
     "output_type": "execute_result"
    }
   ],
   "source": [
    "ddd"
   ]
  },
  {
   "cell_type": "code",
   "execution_count": 99,
   "metadata": {},
   "outputs": [
    {
     "data": {
      "text/plain": [
       "{'a': 49723652,\n",
       " 'b': 907134,\n",
       " 'c': 29388,\n",
       " 'd': 871580,\n",
       " 'e': 6166,\n",
       " 'f': 48816518,\n",
       " 'w': 287,\n",
       " 'x': 116,\n",
       " 'y': 116,\n",
       " 'z': 287}"
      ]
     },
     "execution_count": 99,
     "metadata": {},
     "output_type": "execute_result"
    }
   ],
   "source": [
    "ddd"
   ]
  },
  {
   "cell_type": "code",
   "execution_count": 99,
   "metadata": {},
   "outputs": [
    {
     "data": {
      "text/plain": [
       "{'a': 49723652,\n",
       " 'b': 907134,\n",
       " 'c': 29388,\n",
       " 'd': 871580,\n",
       " 'e': 6166,\n",
       " 'f': 48816518,\n",
       " 'w': 287,\n",
       " 'x': 116,\n",
       " 'y': 116,\n",
       " 'z': 287}"
      ]
     },
     "execution_count": 99,
     "metadata": {},
     "output_type": "execute_result"
    }
   ],
   "source": [
    "ddd"
   ]
  },
  {
   "cell_type": "code",
   "execution_count": 9,
   "metadata": {},
   "outputs": [
    {
     "data": {
      "text/plain": [
       "11298"
      ]
     },
     "execution_count": 9,
     "metadata": {},
     "output_type": "execute_result"
    }
   ],
   "source": [
    "len(preps)"
   ]
  },
  {
   "cell_type": "code",
   "execution_count": 20,
   "metadata": {
    "collapsed": true
   },
   "outputs": [],
   "source": [
    "# es_test = [\n",
    "#     (1,2),(1,3),(2,3),(3,4),\n",
    "#     (5,6),(6,7),(7,8),(7,9),\n",
    "#     (10,11),(11,12),(12,13),\n",
    "# #     (1,13),\n",
    "#     (6,12),(1, 14)\n",
    "# ]"
   ]
  },
  {
   "cell_type": "code",
   "execution_count": 69,
   "metadata": {
    "collapsed": true
   },
   "outputs": [],
   "source": [
    "%%time\n",
    "\n",
    "ls=[]\n",
    "for e1, e2 in es:\n",
    "    found = False\n",
    "    first_set = None\n",
    "    to_remove=[]\n",
    "    for x in ls:\n",
    "        if (e1 in x or e2 in x) and not found:\n",
    "            x.add(e1)\n",
    "            x.add(e2)\n",
    "            found = True\n",
    "            first_set = x\n",
    "        if x != first_set and (e1 in x or e2 in x) and found:\n",
    "            x.add(e1)\n",
    "            x.add(e2)\n",
    "            for y in x:\n",
    "                first_set.add(y)\n",
    "            to_remove.append(x)\n",
    "    if not found:\n",
    "        ls.append({e1, e2})\n",
    "    for y in to_remove:\n",
    "        ls.remove(y)"
   ]
  },
  {
   "cell_type": "code",
   "execution_count": 70,
   "metadata": {},
   "outputs": [
    {
     "data": {
      "text/plain": [
       "821"
      ]
     },
     "execution_count": 70,
     "metadata": {},
     "output_type": "execute_result"
    }
   ],
   "source": [
    "len(ls)"
   ]
  },
  {
   "cell_type": "code",
   "execution_count": 71,
   "metadata": {
    "collapsed": true
   },
   "outputs": [],
   "source": [
    "for x in ls:\n",
    "    ts = set()\n",
    "    ingrs = set()\n",
    "    descs = set()\n",
    "    for y in x:\n",
    "        ts.add(graph.node[y]['title'])\n",
    "        ingrs.add(graph.node[y]['ingrs'])\n",
    "        descs.add(graph.node[y]['desc'])\n",
    "    if len(ts) != 1:\n",
    "        print('AAA')\n",
    "    break\n",
    "#     if len(ingrs) != 1:\n",
    "#         print('BBB')\n",
    "#     if len(descs) != 1:\n",
    "#         print('CCC')"
   ]
  },
  {
   "cell_type": "code",
   "execution_count": 72,
   "metadata": {},
   "outputs": [
    {
     "data": {
      "text/plain": [
       "['799-8', '1003-5', '999-6', '262-9']"
      ]
     },
     "execution_count": 72,
     "metadata": {},
     "output_type": "execute_result"
    }
   ],
   "source": [
    "list(x)[:4]"
   ]
  },
  {
   "cell_type": "code",
   "execution_count": 73,
   "metadata": {},
   "outputs": [
    {
     "name": "stdout",
     "output_type": "stream",
     "text": [
      "Otros\n",
      "          sal Maldon#          cacao en un espolvoreador#          la piel rallada de una mandarina#          la piel rallada de una lima#          la piel rallada de una naranja\n",
      "\n",
      "Otros\n",
      "     10 g de vinagre balsámico tradicional #          introducido en pipetas\n",
      "\n",
      "Otros\n",
      "   120 hojas de albahaca fresca de 0,5 cm #          de longitud#   100 g de azúcar\n",
      "\n",
      "Otros\n",
      "        4 brotes de romero fresco\n",
      "######\n"
     ]
    }
   ],
   "source": [
    "for y in list(ls[0])[:4]:\n",
    "    print(graph.node[y]['title'])\n",
    "    print(graph.node[y]['ingrs'])\n",
    "    print(graph.node[y]['desc'])"
   ]
  },
  {
   "cell_type": "code",
   "execution_count": 74,
   "metadata": {},
   "outputs": [
    {
     "data": {
      "text/plain": [
       "True"
      ]
     },
     "execution_count": 74,
     "metadata": {},
     "output_type": "execute_result"
    }
   ],
   "source": [
    "equals_preparations('799-8', '1003-5')"
   ]
  },
  {
   "cell_type": "code",
   "execution_count": 75,
   "metadata": {},
   "outputs": [
    {
     "data": {
      "text/plain": [
       "set()"
      ]
     },
     "execution_count": 75,
     "metadata": {},
     "output_type": "execute_result"
    }
   ],
   "source": [
    "get_prep_components(graph, '799-8')"
   ]
  },
  {
   "cell_type": "code",
   "execution_count": 77,
   "metadata": {},
   "outputs": [
    {
     "data": {
      "text/plain": [
       "set()"
      ]
     },
     "execution_count": 77,
     "metadata": {},
     "output_type": "execute_result"
    }
   ],
   "source": [
    "get_prep_products(graph, '799-8')"
   ]
  },
  {
   "cell_type": "code",
   "execution_count": 81,
   "metadata": {},
   "outputs": [
    {
     "data": {
      "text/plain": [
       "set()"
      ]
     },
     "execution_count": 81,
     "metadata": {},
     "output_type": "execute_result"
    }
   ],
   "source": [
    "{k for k in graph['799-8'] if graph['799-8'][k]['edgetype'] in prep_prod_rels}"
   ]
  },
  {
   "cell_type": "code",
   "execution_count": 82,
   "metadata": {
    "collapsed": true
   },
   "outputs": [],
   "source": [
    "for k in graph['799-8']:\n",
    "    print(k)"
   ]
  },
  {
   "cell_type": "code",
   "execution_count": 83,
   "metadata": {},
   "outputs": [
    {
     "data": {
      "text/plain": [
       "{'desc': '',\n",
       " 'ingrs': '          sal Maldon#          cacao en un espolvoreador#          la piel rallada de una mandarina#          la piel rallada de una lima#          la piel rallada de una naranja',\n",
       " 'label': '799-8',\n",
       " 'nodetype': 'Elaboracion',\n",
       " 'title': 'Otros'}"
      ]
     },
     "execution_count": 83,
     "metadata": {},
     "output_type": "execute_result"
    }
   ],
   "source": [
    "graph.node['799-8']"
   ]
  },
  {
   "cell_type": "code",
   "execution_count": 78,
   "metadata": {},
   "outputs": [
    {
     "data": {
      "text/plain": [
       "set()"
      ]
     },
     "execution_count": 78,
     "metadata": {},
     "output_type": "execute_result"
    }
   ],
   "source": [
    "get_prep_ingredients(graph, '799-8')"
   ]
  },
  {
   "cell_type": "code",
   "execution_count": 79,
   "metadata": {},
   "outputs": [
    {
     "data": {
      "text/plain": [
       "set()"
      ]
     },
     "execution_count": 79,
     "metadata": {},
     "output_type": "execute_result"
    }
   ],
   "source": [
    "get_prep_flavors(graph, '799-8')"
   ]
  },
  {
   "cell_type": "code",
   "execution_count": 76,
   "metadata": {},
   "outputs": [
    {
     "data": {
      "text/plain": [
       "set()"
      ]
     },
     "execution_count": 76,
     "metadata": {},
     "output_type": "execute_result"
    }
   ],
   "source": [
    "get_prep_components(graph, '1003-5')"
   ]
  },
  {
   "cell_type": "code",
   "execution_count": null,
   "metadata": {
    "collapsed": true
   },
   "outputs": [],
   "source": []
  },
  {
   "cell_type": "code",
   "execution_count": 68,
   "metadata": {
    "collapsed": true
   },
   "outputs": [],
   "source": [
    "c=d=0\n",
    "for n, data in g_nlg.nodes(data=True):\n",
    "    if data['nodetype'] == 'Elaboracion':\n",
    "        c+=1\n",
    "for n, data in graph.nodes(data=True):\n",
    "    if data['nodetype'] == 'Elaboracion':\n",
    "        d+=1"
   ]
  },
  {
   "cell_type": "code",
   "execution_count": 69,
   "metadata": {},
   "outputs": [
    {
     "data": {
      "text/plain": [
       "4636"
      ]
     },
     "execution_count": 69,
     "metadata": {},
     "output_type": "execute_result"
    }
   ],
   "source": [
    "c"
   ]
  },
  {
   "cell_type": "code",
   "execution_count": 70,
   "metadata": {},
   "outputs": [
    {
     "data": {
      "text/plain": [
       "7052"
      ]
     },
     "execution_count": 70,
     "metadata": {},
     "output_type": "execute_result"
    }
   ],
   "source": [
    "d"
   ]
  },
  {
   "cell_type": "code",
   "execution_count": null,
   "metadata": {
    "collapsed": true
   },
   "outputs": [],
   "source": []
  },
  {
   "cell_type": "code",
   "execution_count": null,
   "metadata": {
    "collapsed": true
   },
   "outputs": [],
   "source": []
  },
  {
   "cell_type": "code",
   "execution_count": null,
   "metadata": {
    "collapsed": true
   },
   "outputs": [],
   "source": []
  }
 ],
 "metadata": {
  "kernelspec": {
   "display_name": "Python 3",
   "language": "python",
   "name": "python3"
  },
  "language_info": {
   "codemirror_mode": {
    "name": "ipython",
    "version": 3
   },
   "file_extension": ".py",
   "mimetype": "text/x-python",
   "name": "python",
   "nbconvert_exporter": "python",
   "pygments_lexer": "ipython3",
   "version": "3.5.2"
  }
 },
 "nbformat": 4,
 "nbformat_minor": 1
}
