{
 "cells": [
  {
   "cell_type": "code",
   "execution_count": 1,
   "metadata": {
    "collapsed": true
   },
   "outputs": [],
   "source": [
    "# import math\n",
    "import pickle\n",
    "\n",
    "import pandas as pd\n",
    "from sklearn.ensemble import RandomForestClassifier\n",
    "from sklearn.metrics import make_scorer\n",
    "from sklearn.model_selection import GridSearchCV\n",
    "from sklearn.model_selection import StratifiedKFold\n",
    "from sklearn.model_selection import train_test_split\n",
    "from sklearn.neighbors import KNeighborsClassifier\n",
    "from sklearn.neural_network import MLPClassifier\n",
    "from sklearn.preprocessing import StandardScaler  \n",
    "from sklearn.svm import LinearSVC\n",
    "from sklearn.svm import SVC"
   ]
  },
  {
   "cell_type": "code",
   "execution_count": 2,
   "metadata": {
    "collapsed": true
   },
   "outputs": [],
   "source": [
    "recipes_data_df = pd.read_csv('out/recipes_data.csv')"
   ]
  },
  {
   "cell_type": "code",
   "execution_count": 3,
   "metadata": {},
   "outputs": [
    {
     "data": {
      "text/html": [
       "<div>\n",
       "<style>\n",
       "    .dataframe thead tr:only-child th {\n",
       "        text-align: right;\n",
       "    }\n",
       "\n",
       "    .dataframe thead th {\n",
       "        text-align: left;\n",
       "    }\n",
       "\n",
       "    .dataframe tbody tr th {\n",
       "        vertical-align: top;\n",
       "    }\n",
       "</style>\n",
       "<table border=\"1\" class=\"dataframe\">\n",
       "  <thead>\n",
       "    <tr style=\"text-align: right;\">\n",
       "      <th></th>\n",
       "      <th>title</th>\n",
       "      <th>year</th>\n",
       "    </tr>\n",
       "  </thead>\n",
       "  <tbody>\n",
       "    <tr>\n",
       "      <th>0</th>\n",
       "      <td>terrina de melón con gelée de oporto</td>\n",
       "      <td>1987</td>\n",
       "    </tr>\n",
       "    <tr>\n",
       "      <th>1</th>\n",
       "      <td>mousse de trufa negra '87</td>\n",
       "      <td>1987</td>\n",
       "    </tr>\n",
       "    <tr>\n",
       "      <th>2</th>\n",
       "      <td>ensalada de pasta fresca con caviar, tempura d...</td>\n",
       "      <td>1987</td>\n",
       "    </tr>\n",
       "    <tr>\n",
       "      <th>3</th>\n",
       "      <td>raviolis de cigala, patatas y trufa negra</td>\n",
       "      <td>1987</td>\n",
       "    </tr>\n",
       "    <tr>\n",
       "      <th>4</th>\n",
       "      <td>tempura de flor de calabacín rellena de mozzar...</td>\n",
       "      <td>1987</td>\n",
       "    </tr>\n",
       "  </tbody>\n",
       "</table>\n",
       "</div>"
      ],
      "text/plain": [
       "                                               title  year\n",
       "0               terrina de melón con gelée de oporto  1987\n",
       "1                          mousse de trufa negra '87  1987\n",
       "2  ensalada de pasta fresca con caviar, tempura d...  1987\n",
       "3          raviolis de cigala, patatas y trufa negra  1987\n",
       "4  tempura de flor de calabacín rellena de mozzar...  1987"
      ]
     },
     "execution_count": 3,
     "metadata": {},
     "output_type": "execute_result"
    }
   ],
   "source": [
    "recipes_data_df.head()"
   ]
  },
  {
   "cell_type": "code",
   "execution_count": 4,
   "metadata": {
    "collapsed": true
   },
   "outputs": [],
   "source": [
    "recipes_ml_df = pd.read_csv('out/recipes_ml.csv')"
   ]
  },
  {
   "cell_type": "code",
   "execution_count": 5,
   "metadata": {},
   "outputs": [
    {
     "data": {
      "text/html": [
       "<div>\n",
       "<style>\n",
       "    .dataframe thead tr:only-child th {\n",
       "        text-align: right;\n",
       "    }\n",
       "\n",
       "    .dataframe thead th {\n",
       "        text-align: left;\n",
       "    }\n",
       "\n",
       "    .dataframe tbody tr th {\n",
       "        vertical-align: top;\n",
       "    }\n",
       "</style>\n",
       "<table border=\"1\" class=\"dataframe\">\n",
       "  <thead>\n",
       "    <tr style=\"text-align: right;\">\n",
       "      <th></th>\n",
       "      <th>num_ingredients</th>\n",
       "      <th>num_preparations</th>\n",
       "      <th>num_styles</th>\n",
       "      <th>num_techniques</th>\n",
       "      <th>num_techniquesR</th>\n",
       "      <th>num_worlds</th>\n",
       "      <th>i_chocolate troceado</th>\n",
       "      <th>i_pizza</th>\n",
       "      <th>i_jugo de trufa negra</th>\n",
       "      <th>i_fresitas liofilizadas</th>\n",
       "      <th>...</th>\n",
       "      <th>temp_CALIENTE/FRÍA</th>\n",
       "      <th>temp_HELADA/FRÍA</th>\n",
       "      <th>temp_TIBIA/CALIENTE</th>\n",
       "      <th>temp_FRÍA/HELADA</th>\n",
       "      <th>temp_CALIENTE/HELADA</th>\n",
       "      <th>temp_TIBIA</th>\n",
       "      <th>temp_HELADA/FRÍA/AMBIENTE</th>\n",
       "      <th>temp_TIBIA/AMBIENTE</th>\n",
       "      <th>w_DULCE</th>\n",
       "      <th>w_SALADO</th>\n",
       "    </tr>\n",
       "  </thead>\n",
       "  <tbody>\n",
       "    <tr>\n",
       "      <th>0</th>\n",
       "      <td>7</td>\n",
       "      <td>4</td>\n",
       "      <td>1</td>\n",
       "      <td>17</td>\n",
       "      <td>0</td>\n",
       "      <td>2</td>\n",
       "      <td>0</td>\n",
       "      <td>0</td>\n",
       "      <td>0</td>\n",
       "      <td>0</td>\n",
       "      <td>...</td>\n",
       "      <td>0</td>\n",
       "      <td>0</td>\n",
       "      <td>0</td>\n",
       "      <td>0</td>\n",
       "      <td>0</td>\n",
       "      <td>0</td>\n",
       "      <td>0</td>\n",
       "      <td>0</td>\n",
       "      <td>0</td>\n",
       "      <td>2</td>\n",
       "    </tr>\n",
       "    <tr>\n",
       "      <th>1</th>\n",
       "      <td>15</td>\n",
       "      <td>5</td>\n",
       "      <td>0</td>\n",
       "      <td>22</td>\n",
       "      <td>0</td>\n",
       "      <td>2</td>\n",
       "      <td>0</td>\n",
       "      <td>0</td>\n",
       "      <td>1</td>\n",
       "      <td>0</td>\n",
       "      <td>...</td>\n",
       "      <td>0</td>\n",
       "      <td>0</td>\n",
       "      <td>0</td>\n",
       "      <td>0</td>\n",
       "      <td>0</td>\n",
       "      <td>0</td>\n",
       "      <td>0</td>\n",
       "      <td>0</td>\n",
       "      <td>0</td>\n",
       "      <td>2</td>\n",
       "    </tr>\n",
       "    <tr>\n",
       "      <th>2</th>\n",
       "      <td>21</td>\n",
       "      <td>5</td>\n",
       "      <td>0</td>\n",
       "      <td>29</td>\n",
       "      <td>0</td>\n",
       "      <td>4</td>\n",
       "      <td>0</td>\n",
       "      <td>0</td>\n",
       "      <td>0</td>\n",
       "      <td>0</td>\n",
       "      <td>...</td>\n",
       "      <td>0</td>\n",
       "      <td>0</td>\n",
       "      <td>0</td>\n",
       "      <td>0</td>\n",
       "      <td>0</td>\n",
       "      <td>0</td>\n",
       "      <td>0</td>\n",
       "      <td>0</td>\n",
       "      <td>0</td>\n",
       "      <td>4</td>\n",
       "    </tr>\n",
       "    <tr>\n",
       "      <th>3</th>\n",
       "      <td>30</td>\n",
       "      <td>10</td>\n",
       "      <td>1</td>\n",
       "      <td>56</td>\n",
       "      <td>0</td>\n",
       "      <td>3</td>\n",
       "      <td>0</td>\n",
       "      <td>0</td>\n",
       "      <td>1</td>\n",
       "      <td>0</td>\n",
       "      <td>...</td>\n",
       "      <td>0</td>\n",
       "      <td>0</td>\n",
       "      <td>0</td>\n",
       "      <td>0</td>\n",
       "      <td>0</td>\n",
       "      <td>0</td>\n",
       "      <td>0</td>\n",
       "      <td>0</td>\n",
       "      <td>0</td>\n",
       "      <td>3</td>\n",
       "    </tr>\n",
       "    <tr>\n",
       "      <th>4</th>\n",
       "      <td>25</td>\n",
       "      <td>7</td>\n",
       "      <td>1</td>\n",
       "      <td>37</td>\n",
       "      <td>0</td>\n",
       "      <td>1</td>\n",
       "      <td>0</td>\n",
       "      <td>0</td>\n",
       "      <td>0</td>\n",
       "      <td>0</td>\n",
       "      <td>...</td>\n",
       "      <td>0</td>\n",
       "      <td>0</td>\n",
       "      <td>0</td>\n",
       "      <td>0</td>\n",
       "      <td>0</td>\n",
       "      <td>0</td>\n",
       "      <td>0</td>\n",
       "      <td>0</td>\n",
       "      <td>0</td>\n",
       "      <td>1</td>\n",
       "    </tr>\n",
       "  </tbody>\n",
       "</table>\n",
       "<p>5 rows × 2737 columns</p>\n",
       "</div>"
      ],
      "text/plain": [
       "   num_ingredients  num_preparations  num_styles  num_techniques  \\\n",
       "0                7                 4           1              17   \n",
       "1               15                 5           0              22   \n",
       "2               21                 5           0              29   \n",
       "3               30                10           1              56   \n",
       "4               25                 7           1              37   \n",
       "\n",
       "   num_techniquesR  num_worlds  i_chocolate troceado  i_pizza  \\\n",
       "0                0           2                     0        0   \n",
       "1                0           2                     0        0   \n",
       "2                0           4                     0        0   \n",
       "3                0           3                     0        0   \n",
       "4                0           1                     0        0   \n",
       "\n",
       "   i_jugo de trufa negra  i_fresitas liofilizadas    ...     \\\n",
       "0                      0                        0    ...      \n",
       "1                      1                        0    ...      \n",
       "2                      0                        0    ...      \n",
       "3                      1                        0    ...      \n",
       "4                      0                        0    ...      \n",
       "\n",
       "   temp_CALIENTE/FRÍA  temp_HELADA/FRÍA  temp_TIBIA/CALIENTE  \\\n",
       "0                   0                 0                    0   \n",
       "1                   0                 0                    0   \n",
       "2                   0                 0                    0   \n",
       "3                   0                 0                    0   \n",
       "4                   0                 0                    0   \n",
       "\n",
       "   temp_FRÍA/HELADA  temp_CALIENTE/HELADA  temp_TIBIA  \\\n",
       "0                 0                     0           0   \n",
       "1                 0                     0           0   \n",
       "2                 0                     0           0   \n",
       "3                 0                     0           0   \n",
       "4                 0                     0           0   \n",
       "\n",
       "   temp_HELADA/FRÍA/AMBIENTE  temp_TIBIA/AMBIENTE  w_DULCE  w_SALADO  \n",
       "0                          0                    0        0         2  \n",
       "1                          0                    0        0         2  \n",
       "2                          0                    0        0         4  \n",
       "3                          0                    0        0         3  \n",
       "4                          0                    0        0         1  \n",
       "\n",
       "[5 rows x 2737 columns]"
      ]
     },
     "execution_count": 5,
     "metadata": {},
     "output_type": "execute_result"
    }
   ],
   "source": [
    "recipes_ml_df.head()"
   ]
  },
  {
   "cell_type": "code",
   "execution_count": 6,
   "metadata": {
    "collapsed": true
   },
   "outputs": [],
   "source": [
    "X = recipes_ml_df\n",
    "y = recipes_data_df.year"
   ]
  },
  {
   "cell_type": "code",
   "execution_count": 7,
   "metadata": {},
   "outputs": [
    {
     "data": {
      "text/plain": [
       "1987     15\n",
       "1988     26\n",
       "1989     28\n",
       "1990     32\n",
       "1991     57\n",
       "1992     38\n",
       "1993     30\n",
       "1994     60\n",
       "1995     51\n",
       "1996     56\n",
       "1997     61\n",
       "1998     73\n",
       "1999     88\n",
       "2000    101\n",
       "2001    109\n",
       "2003    138\n",
       "2004    126\n",
       "2005    125\n",
       "Name: year, dtype: int64"
      ]
     },
     "execution_count": 7,
     "metadata": {},
     "output_type": "execute_result"
    }
   ],
   "source": [
    "y.value_counts().sort_index()"
   ]
  },
  {
   "cell_type": "code",
   "execution_count": 8,
   "metadata": {
    "collapsed": true
   },
   "outputs": [],
   "source": [
    "X_train, X_test, y_train, y_test = train_test_split(X, y, random_state=0, stratify=y)"
   ]
  },
  {
   "cell_type": "code",
   "execution_count": 9,
   "metadata": {
    "collapsed": true
   },
   "outputs": [],
   "source": [
    "scaler = StandardScaler()\n",
    "scaler.fit(X_train) # fit only on training data\n",
    "X_train_norm = scaler.transform(X_train) # transform training data\n",
    "X_test_norm = scaler.transform(X_test) # apply same transformation to test data\n",
    "X_train_dict = {\n",
    "    'MLPClassifier': X_train_norm,\n",
    "}\n",
    "X_test_dict = {\n",
    "    'MLPClassifier': X_test_norm,\n",
    "}"
   ]
  },
  {
   "cell_type": "code",
   "execution_count": 10,
   "metadata": {},
   "outputs": [
    {
     "data": {
      "text/plain": [
       "1987     11\n",
       "1988     20\n",
       "1989     21\n",
       "1990     24\n",
       "1991     43\n",
       "1992     28\n",
       "1993     22\n",
       "1994     45\n",
       "1995     38\n",
       "1996     42\n",
       "1997     46\n",
       "1998     55\n",
       "1999     66\n",
       "2000     76\n",
       "2001     82\n",
       "2003    103\n",
       "2004     94\n",
       "2005     94\n",
       "Name: year, dtype: int64"
      ]
     },
     "execution_count": 10,
     "metadata": {},
     "output_type": "execute_result"
    }
   ],
   "source": [
    "y_train.value_counts().sort_index()"
   ]
  },
  {
   "cell_type": "code",
   "execution_count": 11,
   "metadata": {
    "collapsed": true
   },
   "outputs": [],
   "source": [
    "class_weights = dict((i, c / y_train.count()) for i, c in y_train.value_counts().iteritems())"
   ]
  },
  {
   "cell_type": "code",
   "execution_count": 12,
   "metadata": {
    "collapsed": true
   },
   "outputs": [],
   "source": [
    "clfs_params = [\n",
    "    (RandomForestClassifier, {\n",
    "        'n_estimators': (10, 100, 1000),\n",
    "        'max_features': (10, 'auto', None),\n",
    "        'max_depth': (10, 20, None),\n",
    "        'n_jobs': (-1,),\n",
    "        'random_state': (0,),\n",
    "        'warm_start': (True, False),\n",
    "        'class_weight': (class_weights, None),\n",
    "    }),\n",
    "    (KNeighborsClassifier, {\n",
    "        'n_neighbors': (5, 10, 20),\n",
    "        'weights': ('uniform', 'distance'),\n",
    "        'leaf_size': (10, 30, 60),\n",
    "        'n_jobs': (-1,),\n",
    "    }),\n",
    "    (MLPClassifier, {\n",
    "#         'hidden_layer_sizes': ((100,),),\n",
    "        'activation': ('identity', 'logistic', 'tanh', 'relu'),\n",
    "        'solver': ('lbfgs', 'sgd', 'adam'),\n",
    "        'max_iter': (2000,),\n",
    "        'random_state': (0,),\n",
    "        'warm_start': (True, False),\n",
    "    }),\n",
    "    (LinearSVC, {\n",
    "        'loss': ('hinge', 'squared_hinge'),\n",
    "        'class_weight': (class_weights, None),\n",
    "        'random_state': (0,),\n",
    "    }),\n",
    "    (SVC, {\n",
    "        'kernel': ('linear', 'poly', 'rbf', 'sigmoid'),\n",
    "        'shrinking': (True, False),\n",
    "        'class_weight': (class_weights, None),\n",
    "        'decision_function_shape': ('ovr', 'ovo'),\n",
    "        'random_state': (0,),\n",
    "    }),\n",
    "]"
   ]
  },
  {
   "cell_type": "code",
   "execution_count": 13,
   "metadata": {
    "collapsed": true
   },
   "outputs": [],
   "source": [
    "def my_score(f, xs, ys):\n",
    "    assert(len(xs) == len(ys))\n",
    "    a = 18\n",
    "    b = sum(abs(x - y) for x, y in zip(xs, ys)) / len(xs)\n",
    "    return (f(a) - f(b)) / f(a)\n",
    "\n",
    "def my_linear_score(xs, ys):\n",
    "    return my_score(lambda x: x, xs, ys)\n",
    "\n",
    "# def my_squared_score(xs, ys):\n",
    "#     return my_score(math.sqrt, xs, ys)"
   ]
  },
  {
   "cell_type": "code",
   "execution_count": 14,
   "metadata": {
    "scrolled": true
   },
   "outputs": [
    {
     "name": "stdout",
     "output_type": "stream",
     "text": [
      "RandomForestClassifier done.\n",
      "KNeighborsClassifier done.\n",
      "MLPClassifier done.\n",
      "LinearSVC done.\n",
      "SVC done.\n",
      "CPU times: user 10min 45s, sys: 12min 2s, total: 22min 47s\n",
      "Wall time: 44min 26s\n"
     ]
    }
   ],
   "source": [
    "%%time\n",
    "\n",
    "results = {}\n",
    "for clf, params in clfs_params:\n",
    "    grid_search_cv = GridSearchCV(clf(), params, scoring=make_scorer(my_linear_score), error_score=0, n_jobs=-1)\n",
    "    X_train_ = X_train_dict.get(clf.__name__, X_train)\n",
    "    y_train_ = y_train\n",
    "    grid_search_cv.fit(X_train_, y_train_)\n",
    "    results[clf.__name__] = grid_search_cv\n",
    "    \n",
    "    print(clf.__name__, 'done.')"
   ]
  },
  {
   "cell_type": "code",
   "execution_count": 15,
   "metadata": {},
   "outputs": [
    {
     "name": "stdout",
     "output_type": "stream",
     "text": [
      "MLPClassifier\n",
      "0.936752136752\n",
      "0.941520467836\n",
      "\n",
      "LinearSVC\n",
      "0.926556776557\n",
      "0.93567251462\n",
      "\n",
      "RandomForestClassifier\n",
      "0.939865689866\n",
      "0.946271929825\n",
      "\n",
      "KNeighborsClassifier\n",
      "0.847130647131\n",
      "0.85014619883\n",
      "\n",
      "SVC\n",
      "0.929487179487\n",
      "0.928362573099\n",
      "\n"
     ]
    }
   ],
   "source": [
    "for clf_name in results:\n",
    "    grid_search_cv = results[clf_name]\n",
    "    X_test_ = X_test_dict.get(clf_name, X_test)\n",
    "    y_pred = grid_search_cv.predict(X_test_)\n",
    "    score = my_linear_score(y_test, y_pred)\n",
    "    \n",
    "    print(clf_name)\n",
    "    print(grid_search_cv.best_score_)\n",
    "    print(score)\n",
    "    print()"
   ]
  },
  {
   "cell_type": "code",
   "execution_count": 16,
   "metadata": {
    "collapsed": true
   },
   "outputs": [],
   "source": [
    "with open('out/clf_results.pickle', 'wb') as f:\n",
    "    pickle.dump(results, f)"
   ]
  },
  {
   "cell_type": "code",
   "execution_count": null,
   "metadata": {
    "collapsed": true
   },
   "outputs": [],
   "source": []
  }
 ],
 "metadata": {
  "kernelspec": {
   "display_name": "Python 3",
   "language": "python",
   "name": "python3"
  },
  "language_info": {
   "codemirror_mode": {
    "name": "ipython",
    "version": 3
   },
   "file_extension": ".py",
   "mimetype": "text/x-python",
   "name": "python",
   "nbconvert_exporter": "python",
   "pygments_lexer": "ipython3",
   "version": "3.5.2"
  }
 },
 "nbformat": 4,
 "nbformat_minor": 1
}
