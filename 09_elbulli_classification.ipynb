{
 "cells": [
  {
   "cell_type": "code",
   "execution_count": 88,
   "metadata": {},
   "outputs": [],
   "source": [
    "import pandas as pd\n",
    "from sklearn.ensemble import RandomForestClassifier\n",
    "from sklearn.metrics import make_scorer\n",
    "from sklearn.model_selection import GridSearchCV\n",
    "from sklearn.model_selection import StratifiedKFold\n",
    "from sklearn.model_selection import train_test_split\n",
    "from sklearn.neighbors import KNeighborsClassifier\n",
    "from sklearn.neural_network import MLPClassifier\n",
    "from sklearn.svm import LinearSVC\n",
    "from sklearn.svm import SVC"
   ]
  },
  {
   "cell_type": "code",
   "execution_count": 2,
   "metadata": {
    "collapsed": true
   },
   "outputs": [],
   "source": [
    "recipes_data_df = pd.read_csv('out/recipes_data.csv')"
   ]
  },
  {
   "cell_type": "code",
   "execution_count": 3,
   "metadata": {},
   "outputs": [
    {
     "data": {
      "text/html": [
       "<div>\n",
       "<style>\n",
       "    .dataframe thead tr:only-child th {\n",
       "        text-align: right;\n",
       "    }\n",
       "\n",
       "    .dataframe thead th {\n",
       "        text-align: left;\n",
       "    }\n",
       "\n",
       "    .dataframe tbody tr th {\n",
       "        vertical-align: top;\n",
       "    }\n",
       "</style>\n",
       "<table border=\"1\" class=\"dataframe\">\n",
       "  <thead>\n",
       "    <tr style=\"text-align: right;\">\n",
       "      <th></th>\n",
       "      <th>title</th>\n",
       "      <th>year</th>\n",
       "    </tr>\n",
       "  </thead>\n",
       "  <tbody>\n",
       "    <tr>\n",
       "      <th>0</th>\n",
       "      <td>terrina de melón con gelée de oporto</td>\n",
       "      <td>1987</td>\n",
       "    </tr>\n",
       "    <tr>\n",
       "      <th>1</th>\n",
       "      <td>mousse de trufa negra '87</td>\n",
       "      <td>1987</td>\n",
       "    </tr>\n",
       "    <tr>\n",
       "      <th>2</th>\n",
       "      <td>ensalada de pasta fresca con caviar, tempura d...</td>\n",
       "      <td>1987</td>\n",
       "    </tr>\n",
       "    <tr>\n",
       "      <th>3</th>\n",
       "      <td>raviolis de cigala, patatas y trufa negra</td>\n",
       "      <td>1987</td>\n",
       "    </tr>\n",
       "    <tr>\n",
       "      <th>4</th>\n",
       "      <td>tempura de flor de calabacín rellena de mozzar...</td>\n",
       "      <td>1987</td>\n",
       "    </tr>\n",
       "    <tr>\n",
       "      <th>5</th>\n",
       "      <td>muslitos de codorniz a la salsa de soja</td>\n",
       "      <td>1987</td>\n",
       "    </tr>\n",
       "    <tr>\n",
       "      <th>6</th>\n",
       "      <td>gourmandise de salmón y patata confitada a la ...</td>\n",
       "      <td>1987</td>\n",
       "    </tr>\n",
       "    <tr>\n",
       "      <th>7</th>\n",
       "      <td>nido de judías verdes con pinzas de bogavante ...</td>\n",
       "      <td>1987</td>\n",
       "    </tr>\n",
       "    <tr>\n",
       "      <th>8</th>\n",
       "      <td>canapé de patata, salmonete y puré de trufa de...</td>\n",
       "      <td>1987</td>\n",
       "    </tr>\n",
       "    <tr>\n",
       "      <th>9</th>\n",
       "      <td>salmonetes Gaudí</td>\n",
       "      <td>1987</td>\n",
       "    </tr>\n",
       "    <tr>\n",
       "      <th>10</th>\n",
       "      <td>suquet de dorada</td>\n",
       "      <td>1987</td>\n",
       "    </tr>\n",
       "    <tr>\n",
       "      <th>11</th>\n",
       "      <td>pequeñas escórporas a la mantequilla de romesco</td>\n",
       "      <td>1987</td>\n",
       "    </tr>\n",
       "    <tr>\n",
       "      <th>12</th>\n",
       "      <td>llucets con habitas y esencia de cigala</td>\n",
       "      <td>1987</td>\n",
       "    </tr>\n",
       "    <tr>\n",
       "      <th>13</th>\n",
       "      <td>llucets con involtini y vinagreta de ceps</td>\n",
       "      <td>1987</td>\n",
       "    </tr>\n",
       "    <tr>\n",
       "      <th>14</th>\n",
       "      <td>terrina caliente de pularda y foie-gras de pato</td>\n",
       "      <td>1987</td>\n",
       "    </tr>\n",
       "    <tr>\n",
       "      <th>15</th>\n",
       "      <td>carpaccio de atún a la anchoa</td>\n",
       "      <td>1988</td>\n",
       "    </tr>\n",
       "    <tr>\n",
       "      <th>16</th>\n",
       "      <td>erizo gratinados</td>\n",
       "      <td>1988</td>\n",
       "    </tr>\n",
       "    <tr>\n",
       "      <th>17</th>\n",
       "      <td>ostras confitadas con caviar y vinagreta helad...</td>\n",
       "      <td>1988</td>\n",
       "    </tr>\n",
       "    <tr>\n",
       "      <th>18</th>\n",
       "      <td>almejas con puerros al cava</td>\n",
       "      <td>1988</td>\n",
       "    </tr>\n",
       "    <tr>\n",
       "      <th>19</th>\n",
       "      <td>ceps con cañaíllas y cebolla tierna</td>\n",
       "      <td>1988</td>\n",
       "    </tr>\n",
       "    <tr>\n",
       "      <th>20</th>\n",
       "      <td>croquetas de langosta con ensalada de arroz y ...</td>\n",
       "      <td>1988</td>\n",
       "    </tr>\n",
       "    <tr>\n",
       "      <th>21</th>\n",
       "      <td>milhojas de patata y cigala con salsa choron f...</td>\n",
       "      <td>1988</td>\n",
       "    </tr>\n",
       "    <tr>\n",
       "      <th>22</th>\n",
       "      <td>espárragos silvestres con espardenyes y rebozu...</td>\n",
       "      <td>1988</td>\n",
       "    </tr>\n",
       "    <tr>\n",
       "      <th>23</th>\n",
       "      <td>cigala con kokotxas de llucet y nido de patata...</td>\n",
       "      <td>1988</td>\n",
       "    </tr>\n",
       "    <tr>\n",
       "      <th>24</th>\n",
       "      <td>ensalada de salmonetes con morralets, raviolis...</td>\n",
       "      <td>1988</td>\n",
       "    </tr>\n",
       "    <tr>\n",
       "      <th>25</th>\n",
       "      <td>pequeñas escórporas con macarrones negros y sa...</td>\n",
       "      <td>1988</td>\n",
       "    </tr>\n",
       "    <tr>\n",
       "      <th>26</th>\n",
       "      <td>bogavante con bacalao, morillas, habitas y mol...</td>\n",
       "      <td>1988</td>\n",
       "    </tr>\n",
       "    <tr>\n",
       "      <th>27</th>\n",
       "      <td>suquet de gambas</td>\n",
       "      <td>1988</td>\n",
       "    </tr>\n",
       "    <tr>\n",
       "      <th>28</th>\n",
       "      <td>bacalao confitado con alubias, morro y oreja d...</td>\n",
       "      <td>1988</td>\n",
       "    </tr>\n",
       "    <tr>\n",
       "      <th>29</th>\n",
       "      <td>bogavante con trinxat y oreja de cerdo</td>\n",
       "      <td>1988</td>\n",
       "    </tr>\n",
       "    <tr>\n",
       "      <th>...</th>\n",
       "      <td>...</td>\n",
       "      <td>...</td>\n",
       "    </tr>\n",
       "    <tr>\n",
       "      <th>1184</th>\n",
       "      <td>marshmallow caliente de fruta de la pasión, le...</td>\n",
       "      <td>2005</td>\n",
       "    </tr>\n",
       "    <tr>\n",
       "      <th>1185</th>\n",
       "      <td>coulant/suflé de granadilla al toffee y cardamomo</td>\n",
       "      <td>2005</td>\n",
       "    </tr>\n",
       "    <tr>\n",
       "      <th>1186</th>\n",
       "      <td>melocotón-CRU al amaretto con helado eléctrico</td>\n",
       "      <td>2005</td>\n",
       "    </tr>\n",
       "    <tr>\n",
       "      <th>1187</th>\n",
       "      <td>mango-puzzle con gajos helados de saúco y espu...</td>\n",
       "      <td>2005</td>\n",
       "    </tr>\n",
       "    <tr>\n",
       "      <th>1188</th>\n",
       "      <td>variación roja</td>\n",
       "      <td>2005</td>\n",
       "    </tr>\n",
       "    <tr>\n",
       "      <th>1189</th>\n",
       "      <td>¿fresas o rosas?</td>\n",
       "      <td>2005</td>\n",
       "    </tr>\n",
       "    <tr>\n",
       "      <th>1190</th>\n",
       "      <td>mont-blanc</td>\n",
       "      <td>2005</td>\n",
       "    </tr>\n",
       "    <tr>\n",
       "      <th>1191</th>\n",
       "      <td>gelatina de guisantes con plátano y helado de ...</td>\n",
       "      <td>2005</td>\n",
       "    </tr>\n",
       "    <tr>\n",
       "      <th>1192</th>\n",
       "      <td>niguiri de helado thai con marshmallow de lima</td>\n",
       "      <td>2005</td>\n",
       "    </tr>\n",
       "    <tr>\n",
       "      <th>1193</th>\n",
       "      <td>higos con polvo de merengue ligero de rosas y ...</td>\n",
       "      <td>2005</td>\n",
       "    </tr>\n",
       "    <tr>\n",
       "      <th>1194</th>\n",
       "      <td>merengue ligero de miel con manzana-CRU y hela...</td>\n",
       "      <td>2005</td>\n",
       "    </tr>\n",
       "    <tr>\n",
       "      <th>1195</th>\n",
       "      <td>aire-LYO de chocolate con sorbete crispy de fr...</td>\n",
       "      <td>2005</td>\n",
       "    </tr>\n",
       "    <tr>\n",
       "      <th>1196</th>\n",
       "      <td>palet de albaricoque con helado de chocolate c...</td>\n",
       "      <td>2005</td>\n",
       "    </tr>\n",
       "    <tr>\n",
       "      <th>1197</th>\n",
       "      <td>migas heladas de chocolate y praliné de avella...</td>\n",
       "      <td>2005</td>\n",
       "    </tr>\n",
       "    <tr>\n",
       "      <th>1198</th>\n",
       "      <td>des/sert</td>\n",
       "      <td>2005</td>\n",
       "    </tr>\n",
       "    <tr>\n",
       "      <th>1199</th>\n",
       "      <td>piña/hinojo</td>\n",
       "      <td>2005</td>\n",
       "    </tr>\n",
       "    <tr>\n",
       "      <th>1200</th>\n",
       "      <td>cereza sféricas-I al yogur y saúco</td>\n",
       "      <td>2005</td>\n",
       "    </tr>\n",
       "    <tr>\n",
       "      <th>1201</th>\n",
       "      <td>niguiri de daikiri, café y caramelo</td>\n",
       "      <td>2005</td>\n",
       "    </tr>\n",
       "    <tr>\n",
       "      <th>1202</th>\n",
       "      <td>moshi: de yogur y frambuesa / de fruta de la p...</td>\n",
       "      <td>2005</td>\n",
       "    </tr>\n",
       "    <tr>\n",
       "      <th>1203</th>\n",
       "      <td>corte de merengue ligero de café y chocolate</td>\n",
       "      <td>2005</td>\n",
       "    </tr>\n",
       "    <tr>\n",
       "      <th>1204</th>\n",
       "      <td>filipinos de miel</td>\n",
       "      <td>2005</td>\n",
       "    </tr>\n",
       "    <tr>\n",
       "      <th>1205</th>\n",
       "      <td>ninyoyaki de castaña</td>\n",
       "      <td>2005</td>\n",
       "    </tr>\n",
       "    <tr>\n",
       "      <th>1206</th>\n",
       "      <td>árbol de fruta de la pasión</td>\n",
       "      <td>2005</td>\n",
       "    </tr>\n",
       "    <tr>\n",
       "      <th>1207</th>\n",
       "      <td>marshmallow after-eight</td>\n",
       "      <td>2005</td>\n",
       "    </tr>\n",
       "    <tr>\n",
       "      <th>1208</th>\n",
       "      <td>palet-crocant: de fruta de la pasión, chocolat...</td>\n",
       "      <td>2005</td>\n",
       "    </tr>\n",
       "    <tr>\n",
       "      <th>1209</th>\n",
       "      <td>polo de fresa con Peta Zetas al eucalipto</td>\n",
       "      <td>2005</td>\n",
       "    </tr>\n",
       "    <tr>\n",
       "      <th>1210</th>\n",
       "      <td>trufas heladas: de frambuesa / de fruta de la ...</td>\n",
       "      <td>2005</td>\n",
       "    </tr>\n",
       "    <tr>\n",
       "      <th>1211</th>\n",
       "      <td>coral de chocolate</td>\n",
       "      <td>2005</td>\n",
       "    </tr>\n",
       "    <tr>\n",
       "      <th>1212</th>\n",
       "      <td>crispy-LYO de frutas en chocolate</td>\n",
       "      <td>2005</td>\n",
       "    </tr>\n",
       "    <tr>\n",
       "      <th>1213</th>\n",
       "      <td>frutas-LYO en chocolate</td>\n",
       "      <td>2005</td>\n",
       "    </tr>\n",
       "  </tbody>\n",
       "</table>\n",
       "<p>1214 rows × 2 columns</p>\n",
       "</div>"
      ],
      "text/plain": [
       "                                                  title  year\n",
       "0                  terrina de melón con gelée de oporto  1987\n",
       "1                             mousse de trufa negra '87  1987\n",
       "2     ensalada de pasta fresca con caviar, tempura d...  1987\n",
       "3             raviolis de cigala, patatas y trufa negra  1987\n",
       "4     tempura de flor de calabacín rellena de mozzar...  1987\n",
       "5               muslitos de codorniz a la salsa de soja  1987\n",
       "6     gourmandise de salmón y patata confitada a la ...  1987\n",
       "7     nido de judías verdes con pinzas de bogavante ...  1987\n",
       "8     canapé de patata, salmonete y puré de trufa de...  1987\n",
       "9                                      salmonetes Gaudí  1987\n",
       "10                                     suquet de dorada  1987\n",
       "11      pequeñas escórporas a la mantequilla de romesco  1987\n",
       "12              llucets con habitas y esencia de cigala  1987\n",
       "13            llucets con involtini y vinagreta de ceps  1987\n",
       "14      terrina caliente de pularda y foie-gras de pato  1987\n",
       "15                        carpaccio de atún a la anchoa  1988\n",
       "16                                     erizo gratinados  1988\n",
       "17    ostras confitadas con caviar y vinagreta helad...  1988\n",
       "18                          almejas con puerros al cava  1988\n",
       "19                  ceps con cañaíllas y cebolla tierna  1988\n",
       "20    croquetas de langosta con ensalada de arroz y ...  1988\n",
       "21    milhojas de patata y cigala con salsa choron f...  1988\n",
       "22    espárragos silvestres con espardenyes y rebozu...  1988\n",
       "23    cigala con kokotxas de llucet y nido de patata...  1988\n",
       "24    ensalada de salmonetes con morralets, raviolis...  1988\n",
       "25    pequeñas escórporas con macarrones negros y sa...  1988\n",
       "26    bogavante con bacalao, morillas, habitas y mol...  1988\n",
       "27                                     suquet de gambas  1988\n",
       "28    bacalao confitado con alubias, morro y oreja d...  1988\n",
       "29               bogavante con trinxat y oreja de cerdo  1988\n",
       "...                                                 ...   ...\n",
       "1184  marshmallow caliente de fruta de la pasión, le...  2005\n",
       "1185  coulant/suflé de granadilla al toffee y cardamomo  2005\n",
       "1186     melocotón-CRU al amaretto con helado eléctrico  2005\n",
       "1187  mango-puzzle con gajos helados de saúco y espu...  2005\n",
       "1188                                     variación roja  2005\n",
       "1189                                   ¿fresas o rosas?  2005\n",
       "1190                                         mont-blanc  2005\n",
       "1191  gelatina de guisantes con plátano y helado de ...  2005\n",
       "1192     niguiri de helado thai con marshmallow de lima  2005\n",
       "1193  higos con polvo de merengue ligero de rosas y ...  2005\n",
       "1194  merengue ligero de miel con manzana-CRU y hela...  2005\n",
       "1195  aire-LYO de chocolate con sorbete crispy de fr...  2005\n",
       "1196  palet de albaricoque con helado de chocolate c...  2005\n",
       "1197  migas heladas de chocolate y praliné de avella...  2005\n",
       "1198                                           des/sert  2005\n",
       "1199                                        piña/hinojo  2005\n",
       "1200                 cereza sféricas-I al yogur y saúco  2005\n",
       "1201                niguiri de daikiri, café y caramelo  2005\n",
       "1202  moshi: de yogur y frambuesa / de fruta de la p...  2005\n",
       "1203       corte de merengue ligero de café y chocolate  2005\n",
       "1204                                  filipinos de miel  2005\n",
       "1205                               ninyoyaki de castaña  2005\n",
       "1206                        árbol de fruta de la pasión  2005\n",
       "1207                            marshmallow after-eight  2005\n",
       "1208  palet-crocant: de fruta de la pasión, chocolat...  2005\n",
       "1209          polo de fresa con Peta Zetas al eucalipto  2005\n",
       "1210  trufas heladas: de frambuesa / de fruta de la ...  2005\n",
       "1211                                 coral de chocolate  2005\n",
       "1212                  crispy-LYO de frutas en chocolate  2005\n",
       "1213                            frutas-LYO en chocolate  2005\n",
       "\n",
       "[1214 rows x 2 columns]"
      ]
     },
     "execution_count": 3,
     "metadata": {},
     "output_type": "execute_result"
    }
   ],
   "source": [
    "recipes_data_df"
   ]
  },
  {
   "cell_type": "code",
   "execution_count": 4,
   "metadata": {
    "collapsed": true
   },
   "outputs": [],
   "source": [
    "recipes_ml_df = pd.read_csv('out/recipes_ml.csv')"
   ]
  },
  {
   "cell_type": "code",
   "execution_count": 5,
   "metadata": {},
   "outputs": [
    {
     "data": {
      "text/html": [
       "<div>\n",
       "<style>\n",
       "    .dataframe thead tr:only-child th {\n",
       "        text-align: right;\n",
       "    }\n",
       "\n",
       "    .dataframe thead th {\n",
       "        text-align: left;\n",
       "    }\n",
       "\n",
       "    .dataframe tbody tr th {\n",
       "        vertical-align: top;\n",
       "    }\n",
       "</style>\n",
       "<table border=\"1\" class=\"dataframe\">\n",
       "  <thead>\n",
       "    <tr style=\"text-align: right;\">\n",
       "      <th></th>\n",
       "      <th>num_ingredients</th>\n",
       "      <th>num_preparations</th>\n",
       "      <th>num_styles</th>\n",
       "      <th>num_techniques</th>\n",
       "      <th>num_techniquesR</th>\n",
       "      <th>num_worlds</th>\n",
       "      <th>i_chocolate troceado</th>\n",
       "      <th>i_pizza</th>\n",
       "      <th>i_jugo de trufa negra</th>\n",
       "      <th>i_fresitas liofilizadas</th>\n",
       "      <th>...</th>\n",
       "      <th>temp_CALIENTE/FRÍA</th>\n",
       "      <th>temp_HELADA/FRÍA</th>\n",
       "      <th>temp_TIBIA/CALIENTE</th>\n",
       "      <th>temp_FRÍA/HELADA</th>\n",
       "      <th>temp_CALIENTE/HELADA</th>\n",
       "      <th>temp_TIBIA</th>\n",
       "      <th>temp_HELADA/FRÍA/AMBIENTE</th>\n",
       "      <th>temp_TIBIA/AMBIENTE</th>\n",
       "      <th>w_DULCE</th>\n",
       "      <th>w_SALADO</th>\n",
       "    </tr>\n",
       "  </thead>\n",
       "  <tbody>\n",
       "    <tr>\n",
       "      <th>0</th>\n",
       "      <td>7</td>\n",
       "      <td>4</td>\n",
       "      <td>1</td>\n",
       "      <td>17</td>\n",
       "      <td>0</td>\n",
       "      <td>2</td>\n",
       "      <td>0</td>\n",
       "      <td>0</td>\n",
       "      <td>0</td>\n",
       "      <td>0</td>\n",
       "      <td>...</td>\n",
       "      <td>0</td>\n",
       "      <td>0</td>\n",
       "      <td>0</td>\n",
       "      <td>0</td>\n",
       "      <td>0</td>\n",
       "      <td>0</td>\n",
       "      <td>0</td>\n",
       "      <td>0</td>\n",
       "      <td>0</td>\n",
       "      <td>2</td>\n",
       "    </tr>\n",
       "    <tr>\n",
       "      <th>1</th>\n",
       "      <td>15</td>\n",
       "      <td>5</td>\n",
       "      <td>0</td>\n",
       "      <td>22</td>\n",
       "      <td>0</td>\n",
       "      <td>2</td>\n",
       "      <td>0</td>\n",
       "      <td>0</td>\n",
       "      <td>1</td>\n",
       "      <td>0</td>\n",
       "      <td>...</td>\n",
       "      <td>0</td>\n",
       "      <td>0</td>\n",
       "      <td>0</td>\n",
       "      <td>0</td>\n",
       "      <td>0</td>\n",
       "      <td>0</td>\n",
       "      <td>0</td>\n",
       "      <td>0</td>\n",
       "      <td>0</td>\n",
       "      <td>2</td>\n",
       "    </tr>\n",
       "    <tr>\n",
       "      <th>2</th>\n",
       "      <td>21</td>\n",
       "      <td>5</td>\n",
       "      <td>0</td>\n",
       "      <td>29</td>\n",
       "      <td>0</td>\n",
       "      <td>4</td>\n",
       "      <td>0</td>\n",
       "      <td>0</td>\n",
       "      <td>0</td>\n",
       "      <td>0</td>\n",
       "      <td>...</td>\n",
       "      <td>0</td>\n",
       "      <td>0</td>\n",
       "      <td>0</td>\n",
       "      <td>0</td>\n",
       "      <td>0</td>\n",
       "      <td>0</td>\n",
       "      <td>0</td>\n",
       "      <td>0</td>\n",
       "      <td>0</td>\n",
       "      <td>4</td>\n",
       "    </tr>\n",
       "    <tr>\n",
       "      <th>3</th>\n",
       "      <td>30</td>\n",
       "      <td>10</td>\n",
       "      <td>1</td>\n",
       "      <td>56</td>\n",
       "      <td>0</td>\n",
       "      <td>3</td>\n",
       "      <td>0</td>\n",
       "      <td>0</td>\n",
       "      <td>1</td>\n",
       "      <td>0</td>\n",
       "      <td>...</td>\n",
       "      <td>0</td>\n",
       "      <td>0</td>\n",
       "      <td>0</td>\n",
       "      <td>0</td>\n",
       "      <td>0</td>\n",
       "      <td>0</td>\n",
       "      <td>0</td>\n",
       "      <td>0</td>\n",
       "      <td>0</td>\n",
       "      <td>3</td>\n",
       "    </tr>\n",
       "    <tr>\n",
       "      <th>4</th>\n",
       "      <td>25</td>\n",
       "      <td>7</td>\n",
       "      <td>1</td>\n",
       "      <td>37</td>\n",
       "      <td>0</td>\n",
       "      <td>1</td>\n",
       "      <td>0</td>\n",
       "      <td>0</td>\n",
       "      <td>0</td>\n",
       "      <td>0</td>\n",
       "      <td>...</td>\n",
       "      <td>0</td>\n",
       "      <td>0</td>\n",
       "      <td>0</td>\n",
       "      <td>0</td>\n",
       "      <td>0</td>\n",
       "      <td>0</td>\n",
       "      <td>0</td>\n",
       "      <td>0</td>\n",
       "      <td>0</td>\n",
       "      <td>1</td>\n",
       "    </tr>\n",
       "  </tbody>\n",
       "</table>\n",
       "<p>5 rows × 2737 columns</p>\n",
       "</div>"
      ],
      "text/plain": [
       "   num_ingredients  num_preparations  num_styles  num_techniques  \\\n",
       "0                7                 4           1              17   \n",
       "1               15                 5           0              22   \n",
       "2               21                 5           0              29   \n",
       "3               30                10           1              56   \n",
       "4               25                 7           1              37   \n",
       "\n",
       "   num_techniquesR  num_worlds  i_chocolate troceado  i_pizza  \\\n",
       "0                0           2                     0        0   \n",
       "1                0           2                     0        0   \n",
       "2                0           4                     0        0   \n",
       "3                0           3                     0        0   \n",
       "4                0           1                     0        0   \n",
       "\n",
       "   i_jugo de trufa negra  i_fresitas liofilizadas    ...     \\\n",
       "0                      0                        0    ...      \n",
       "1                      1                        0    ...      \n",
       "2                      0                        0    ...      \n",
       "3                      1                        0    ...      \n",
       "4                      0                        0    ...      \n",
       "\n",
       "   temp_CALIENTE/FRÍA  temp_HELADA/FRÍA  temp_TIBIA/CALIENTE  \\\n",
       "0                   0                 0                    0   \n",
       "1                   0                 0                    0   \n",
       "2                   0                 0                    0   \n",
       "3                   0                 0                    0   \n",
       "4                   0                 0                    0   \n",
       "\n",
       "   temp_FRÍA/HELADA  temp_CALIENTE/HELADA  temp_TIBIA  \\\n",
       "0                 0                     0           0   \n",
       "1                 0                     0           0   \n",
       "2                 0                     0           0   \n",
       "3                 0                     0           0   \n",
       "4                 0                     0           0   \n",
       "\n",
       "   temp_HELADA/FRÍA/AMBIENTE  temp_TIBIA/AMBIENTE  w_DULCE  w_SALADO  \n",
       "0                          0                    0        0         2  \n",
       "1                          0                    0        0         2  \n",
       "2                          0                    0        0         4  \n",
       "3                          0                    0        0         3  \n",
       "4                          0                    0        0         1  \n",
       "\n",
       "[5 rows x 2737 columns]"
      ]
     },
     "execution_count": 5,
     "metadata": {},
     "output_type": "execute_result"
    }
   ],
   "source": [
    "recipes_ml_df.head()"
   ]
  },
  {
   "cell_type": "code",
   "execution_count": 126,
   "metadata": {},
   "outputs": [],
   "source": [
    "X = recipes_ml_df\n",
    "y = recipes_data_df.year"
   ]
  },
  {
   "cell_type": "code",
   "execution_count": 127,
   "metadata": {},
   "outputs": [
    {
     "data": {
      "text/plain": [
       "1987     15\n",
       "1988     26\n",
       "1989     28\n",
       "1990     32\n",
       "1991     57\n",
       "1992     38\n",
       "1993     30\n",
       "1994     60\n",
       "1995     51\n",
       "1996     56\n",
       "1997     61\n",
       "1998     73\n",
       "1999     88\n",
       "2000    101\n",
       "2001    109\n",
       "2003    138\n",
       "2004    126\n",
       "2005    125\n",
       "Name: year, dtype: int64"
      ]
     },
     "execution_count": 127,
     "metadata": {},
     "output_type": "execute_result"
    }
   ],
   "source": [
    "y.value_counts().sort_index()"
   ]
  },
  {
   "cell_type": "code",
   "execution_count": 131,
   "metadata": {},
   "outputs": [],
   "source": [
    "X_train, X_test, y_train, y_test = train_test_split(X, y, random_state=0, stratify=y)"
   ]
  },
  {
   "cell_type": "code",
   "execution_count": 129,
   "metadata": {},
   "outputs": [
    {
     "ename": "SyntaxError",
     "evalue": "invalid syntax (<ipython-input-129-aa14cc3d444a>, line 1)",
     "output_type": "error",
     "traceback": [
      "\u001b[0;36m  File \u001b[0;32m\"<ipython-input-129-aa14cc3d444a>\"\u001b[0;36m, line \u001b[0;32m1\u001b[0m\n\u001b[0;31m    Separar train y test. EL CV usara la CV para separar entre train y validation, pero mi propio test sera la prueba final.\u001b[0m\n\u001b[0m                ^\u001b[0m\n\u001b[0;31mSyntaxError\u001b[0m\u001b[0;31m:\u001b[0m invalid syntax\n"
     ]
    }
   ],
   "source": [
    "Separar train y test. EL CV usara la CV para separar entre train y validation, pero mi propio test sera la prueba final.\n",
    "Normalizar datos para la red neuronal. Buscar la version euclidea de my_score."
   ]
  },
  {
   "cell_type": "code",
   "execution_count": 133,
   "metadata": {},
   "outputs": [
    {
     "data": {
      "text/plain": [
       "1987     11\n",
       "1988     20\n",
       "1989     21\n",
       "1990     24\n",
       "1991     43\n",
       "1992     28\n",
       "1993     22\n",
       "1994     45\n",
       "1995     38\n",
       "1996     42\n",
       "1997     46\n",
       "1998     55\n",
       "1999     66\n",
       "2000     76\n",
       "2001     82\n",
       "2003    103\n",
       "2004     94\n",
       "2005     94\n",
       "Name: year, dtype: int64"
      ]
     },
     "execution_count": 133,
     "metadata": {},
     "output_type": "execute_result"
    }
   ],
   "source": [
    "y_train.value_counts().sort_index()"
   ]
  },
  {
   "cell_type": "code",
   "execution_count": 134,
   "metadata": {},
   "outputs": [],
   "source": [
    "class_weights = dict((i, c / y_train.count()) for i, c in y_train.value_counts().iteritems())"
   ]
  },
  {
   "cell_type": "code",
   "execution_count": 8,
   "metadata": {},
   "outputs": [],
   "source": [
    "clfs_params = [\n",
    "    ('RandomForestClassifier', RandomForestClassifier, {\n",
    "        'n_estimators': (10, 100, 1000),\n",
    "        'max_features': (10, 'auto', None),\n",
    "        'max_depth': (10, 20, None),\n",
    "        'n_jobs': (-1,),\n",
    "        'random_state': (0,),\n",
    "        'warm_start': (True, False),\n",
    "        'class_weight': (class_weights, None),\n",
    "    }),\n",
    "    ('KNeighborsClassifier', KNeighborsClassifier, {\n",
    "        'n_neighbors': (5, 10, 20),\n",
    "        'weights': ('uniform', 'distance'),\n",
    "        'leaf_size': (10, 30, 60),\n",
    "        'n_jobs': (-1,),\n",
    "    }),\n",
    "    ('MLPClassifier', MLPClassifier, {\n",
    "        'hidden_layer_sizes': ((100,), (1000, 100)),\n",
    "        'activation': ('identity', 'logistic', 'tanh', 'relu'),\n",
    "        'solver': ('lbfgs', 'sgd', 'adam'),\n",
    "        'random_state': (0,),\n",
    "        'warm_start': (True, False),\n",
    "    }),\n",
    "    ('LinearSVC', LinearSVC, {\n",
    "        'loss': ('hinge', 'squared_hinge'),\n",
    "        'class_weight': (class_weights, None),\n",
    "        'random_state': (0,),\n",
    "    }),\n",
    "    ('SVC', SVC, {\n",
    "        'kernel': ('linear', 'poly', 'rbf', 'sigmoid'),\n",
    "        'shrinking': (True, False),\n",
    "        'class_weight': (class_weights, None),\n",
    "        'decision_function_shape': ('ovr', 'ovo'),\n",
    "        'random_state': (0,),\n",
    "    }),\n",
    "]"
   ]
  },
  {
   "cell_type": "code",
   "execution_count": 9,
   "metadata": {},
   "outputs": [],
   "source": [
    "def my_score(xs, ys):\n",
    "    return (18 - sum([abs(x - y) for x, y in zip(xs, ys)]) / len(xs)) / 18"
   ]
  },
  {
   "cell_type": "code",
   "execution_count": 82,
   "metadata": {},
   "outputs": [
    {
     "name": "stdout",
     "output_type": "stream",
     "text": [
      "LinearSVC  done.\n",
      "SVC  done.\n",
      "CPU times: user 12 s, sys: 0 ns, total: 12 s\n",
      "Wall time: 1min 5s\n"
     ]
    }
   ],
   "source": [
    "%%time\n",
    "\n",
    "results = {}\n",
    "for name, clf, params in clfs_params:\n",
    "    grid_search_cv = GridSearchCV(clf(), params, scoring=make_scorer(my_score), error_score=0, n_jobs=-1)\n",
    "    grid_search_cv.fit(X, y)\n",
    "    results[name] = grid_search_cv\n",
    "    print(name, ' done.')"
   ]
  },
  {
   "cell_type": "code",
   "execution_count": 74,
   "metadata": {},
   "outputs": [
    {
     "data": {
      "text/plain": [
       "{'LinearSVC': GridSearchCV(cv=None, error_score=0,\n",
       "        estimator=LinearSVC(C=1.0, class_weight=None, dual=True, fit_intercept=True,\n",
       "      intercept_scaling=1, loss='squared_hinge', max_iter=1000,\n",
       "      multi_class='ovr', penalty='l2', random_state=None, tol=0.0001,\n",
       "      verbose=0),\n",
       "        fit_params=None, iid=True, n_jobs=-1,\n",
       "        param_grid={'class_weight': ({1987: 0.012355848434925865, 1988: 0.021416803953871501, 1989: 0.023064250411861616, 1990: 0.026359143327841845, 1991: 0.046952224052718289, 1992: 0.03130148270181219, 1993: 0.024711696869851731, 1994: 0.049423393739703461, 1995: 0.042009884678747944, 1996: 0.04612850082...337727, 2005: 0.10296540362438221}, None), 'loss': ('hinge', 'squared_hinge'), 'random_state': (0,)},\n",
       "        pre_dispatch='2*n_jobs', refit=True, return_train_score=True,\n",
       "        scoring=make_scorer(my_score), verbose=0),\n",
       " 'SVC': GridSearchCV(cv=None, error_score=0,\n",
       "        estimator=SVC(C=1.0, cache_size=200, class_weight=None, coef0=0.0,\n",
       "   decision_function_shape='ovr', degree=3, gamma='auto', kernel='rbf',\n",
       "   max_iter=-1, probability=False, random_state=None, shrinking=True,\n",
       "   tol=0.001, verbose=False),\n",
       "        fit_params=None, iid=True, n_jobs=-1,\n",
       "        param_grid={'decision_function_shape': ('ovr', 'ovo'), 'random_state': (0,), 'class_weight': ({1987: 0.012355848434925865, 1988: 0.021416803953871501, 1989: 0.023064250411861616, 1990: 0.026359143327841845, 1991: 0.046952224052718289, 1992: 0.03130148270181219, 1993: 0.024711696869851731, 1994: 0.04...296540362438221}, None), 'shrinking': (True, False), 'kernel': ('linear', 'poly', 'rbf', 'sigmoid')},\n",
       "        pre_dispatch='2*n_jobs', refit=True, return_train_score=True,\n",
       "        scoring=make_scorer(my_score), verbose=0)}"
      ]
     },
     "execution_count": 74,
     "metadata": {},
     "output_type": "execute_result"
    }
   ],
   "source": [
    "results"
   ]
  },
  {
   "cell_type": "code",
   "execution_count": 83,
   "metadata": {},
   "outputs": [
    {
     "data": {
      "text/plain": [
       "LinearSVC(C=1.0,\n",
       "     class_weight={1987: 0.012355848434925865, 1988: 0.021416803953871501, 1989: 0.023064250411861616, 1990: 0.026359143327841845, 1991: 0.046952224052718289, 1992: 0.03130148270181219, 1993: 0.024711696869851731, 1994: 0.049423393739703461, 1995: 0.042009884678747944, 1996: 0.046128500823723231, 1997: 0....08978583196046129, 2003: 0.11367380560131796, 2004: 0.10378912685337727, 2005: 0.10296540362438221},\n",
       "     dual=True, fit_intercept=True, intercept_scaling=1,\n",
       "     loss='squared_hinge', max_iter=1000, multi_class='ovr', penalty='l2',\n",
       "     random_state=0, tol=0.0001, verbose=0)"
      ]
     },
     "execution_count": 83,
     "metadata": {},
     "output_type": "execute_result"
    }
   ],
   "source": [
    "results['LinearSVC'].best_estimator_"
   ]
  },
  {
   "cell_type": "code",
   "execution_count": 84,
   "metadata": {},
   "outputs": [
    {
     "data": {
      "text/plain": [
       "0.88477027274391362"
      ]
     },
     "execution_count": 84,
     "metadata": {},
     "output_type": "execute_result"
    }
   ],
   "source": [
    "results['LinearSVC'].best_score_"
   ]
  },
  {
   "cell_type": "code",
   "execution_count": 85,
   "metadata": {},
   "outputs": [
    {
     "data": {
      "text/plain": [
       "SVC(C=1.0, cache_size=200, class_weight=None, coef0=0.0,\n",
       "  decision_function_shape='ovr', degree=3, gamma='auto', kernel='rbf',\n",
       "  max_iter=-1, probability=False, random_state=0, shrinking=True,\n",
       "  tol=0.001, verbose=False)"
      ]
     },
     "execution_count": 85,
     "metadata": {},
     "output_type": "execute_result"
    }
   ],
   "source": [
    "results['SVC'].best_estimator_"
   ]
  },
  {
   "cell_type": "code",
   "execution_count": 86,
   "metadata": {},
   "outputs": [
    {
     "data": {
      "text/plain": [
       "0.73476112026359131"
      ]
     },
     "execution_count": 86,
     "metadata": {},
     "output_type": "execute_result"
    }
   ],
   "source": [
    "results['SVC'].best_score_"
   ]
  },
  {
   "cell_type": "code",
   "execution_count": null,
   "metadata": {
    "collapsed": true
   },
   "outputs": [],
   "source": []
  },
  {
   "cell_type": "code",
   "execution_count": null,
   "metadata": {
    "collapsed": true
   },
   "outputs": [],
   "source": []
  },
  {
   "cell_type": "code",
   "execution_count": null,
   "metadata": {
    "collapsed": true
   },
   "outputs": [],
   "source": []
  },
  {
   "cell_type": "code",
   "execution_count": 70,
   "metadata": {
    "collapsed": true
   },
   "outputs": [],
   "source": [
    "rr=results['LinearSVC']"
   ]
  },
  {
   "cell_type": "code",
   "execution_count": 71,
   "metadata": {},
   "outputs": [
    {
     "data": {
      "text/plain": [
       "LinearSVC(C=1.0,\n",
       "     class_weight={1987: 0.012355848434925865, 1988: 0.021416803953871501, 1989: 0.023064250411861616, 1990: 0.026359143327841845, 1991: 0.046952224052718289, 1992: 0.03130148270181219, 1993: 0.024711696869851731, 1994: 0.049423393739703461, 1995: 0.042009884678747944, 1996: 0.046128500823723231, 1997: 0....08978583196046129, 2003: 0.11367380560131796, 2004: 0.10378912685337727, 2005: 0.10296540362438221},\n",
       "     dual=True, fit_intercept=True, intercept_scaling=1,\n",
       "     loss='squared_hinge', max_iter=1000, multi_class='ovr', penalty='l2',\n",
       "     random_state=0, tol=0.0001, verbose=0)"
      ]
     },
     "execution_count": 71,
     "metadata": {},
     "output_type": "execute_result"
    }
   ],
   "source": [
    "rr.best_estimator_"
   ]
  },
  {
   "cell_type": "code",
   "execution_count": 72,
   "metadata": {},
   "outputs": [
    {
     "data": {
      "text/plain": [
       "0.88477027274391362"
      ]
     },
     "execution_count": 72,
     "metadata": {},
     "output_type": "execute_result"
    }
   ],
   "source": [
    "rr.best_score_"
   ]
  },
  {
   "cell_type": "code",
   "execution_count": 40,
   "metadata": {},
   "outputs": [],
   "source": [
    "ee=results['MLPClassifier']"
   ]
  },
  {
   "cell_type": "code",
   "execution_count": 41,
   "metadata": {},
   "outputs": [
    {
     "data": {
      "text/plain": [
       "MLPClassifier(activation='logistic', alpha=0.0001, batch_size='auto',\n",
       "       beta_1=0.9, beta_2=0.999, early_stopping=False, epsilon=1e-08,\n",
       "       hidden_layer_sizes=(100,), learning_rate='constant',\n",
       "       learning_rate_init=0.001, max_iter=1000, momentum=0.9,\n",
       "       nesterovs_momentum=True, power_t=0.5, random_state=0, shuffle=True,\n",
       "       solver='adam', tol=0.0001, validation_fraction=0.1, verbose=False,\n",
       "       warm_start=True)"
      ]
     },
     "execution_count": 41,
     "metadata": {},
     "output_type": "execute_result"
    }
   ],
   "source": [
    "ee.best_estimator_"
   ]
  },
  {
   "cell_type": "code",
   "execution_count": 42,
   "metadata": {},
   "outputs": [
    {
     "data": {
      "text/plain": [
       "0.9136921105619622"
      ]
     },
     "execution_count": 42,
     "metadata": {},
     "output_type": "execute_result"
    }
   ],
   "source": [
    "ee.best_score_"
   ]
  },
  {
   "cell_type": "code",
   "execution_count": 44,
   "metadata": {
    "collapsed": true
   },
   "outputs": [],
   "source": [
    "import pickle"
   ]
  },
  {
   "cell_type": "code",
   "execution_count": 45,
   "metadata": {},
   "outputs": [],
   "source": [
    "with open('out/results12.pickle', 'wb') as f:\n",
    "    pickle.dump(results2, f)"
   ]
  },
  {
   "cell_type": "code",
   "execution_count": 46,
   "metadata": {
    "collapsed": true
   },
   "outputs": [],
   "source": [
    "with open('out/results3.pickle', 'wb') as f:\n",
    "    pickle.dump(results, f)"
   ]
  },
  {
   "cell_type": "code",
   "execution_count": null,
   "metadata": {
    "collapsed": true
   },
   "outputs": [],
   "source": []
  },
  {
   "cell_type": "code",
   "execution_count": null,
   "metadata": {
    "collapsed": true
   },
   "outputs": [],
   "source": []
  },
  {
   "cell_type": "code",
   "execution_count": 249,
   "metadata": {},
   "outputs": [
    {
     "data": {
      "text/plain": [
       "RandomForestClassifier(bootstrap=True, class_weight=None, criterion='gini',\n",
       "            max_depth=20, max_features='auto', max_leaf_nodes=None,\n",
       "            min_impurity_decrease=0.0, min_impurity_split=None,\n",
       "            min_samples_leaf=1, min_samples_split=2,\n",
       "            min_weight_fraction_leaf=0.0, n_estimators=800, n_jobs=6,\n",
       "            oob_score=False, random_state=0, verbose=0, warm_start=False)"
      ]
     },
     "execution_count": 249,
     "metadata": {},
     "output_type": "execute_result"
    }
   ],
   "source": [
    "clf.fit(X, y)"
   ]
  },
  {
   "cell_type": "code",
   "execution_count": 250,
   "metadata": {},
   "outputs": [
    {
     "data": {
      "text/plain": [
       "array([1995, 1994, 1996, 1997, 1996, 1994, 1996, 1996, 1997, 1994, 1996,\n",
       "       1996, 1996, 1994, 1996, 1994, 1996, 1997, 1994, 1996, 1994, 1996,\n",
       "       1997, 1996, 1996, 1994, 1997, 1996, 1996, 1994, 1994, 1994, 1994,\n",
       "       1994, 1995, 1997, 1994, 1994, 1997, 1997, 1997, 1996, 1994, 1997,\n",
       "       1997, 1996, 1997, 1994, 1996, 1997, 1994, 1997, 1997, 1997, 1994,\n",
       "       1997, 1997, 1994, 1994, 1994, 1997, 1997, 1994, 1997, 1995, 1997,\n",
       "       1995, 1996, 1997, 1997, 1995, 1995, 1997, 1997, 1997, 1994, 1997,\n",
       "       1997, 1994, 1997, 1992, 1992, 1997, 1996, 1997, 1992, 1991, 1992,\n",
       "       1992, 1992, 1994, 1994, 1994, 1994, 1994, 1994, 1997, 1997, 1997,\n",
       "       1996, 1996, 1997, 1996, 1997, 1997, 1996, 1997, 1997, 1995, 1996,\n",
       "       1991, 1996, 1997, 1997, 1994, 1994, 1995, 1994, 1995, 1995, 1995,\n",
       "       1997, 1994, 1994, 1994])"
      ]
     },
     "execution_count": 250,
     "metadata": {},
     "output_type": "execute_result"
    }
   ],
   "source": [
    "clf.predict(recipes_ml_df.iloc[1089:])"
   ]
  },
  {
   "cell_type": "code",
   "execution_count": 243,
   "metadata": {},
   "outputs": [
    {
     "data": {
      "text/plain": [
       "array([2003, 2003, 2004, 2003, 2004, 2004, 2001, 2000, 2003, 2003, 2003,\n",
       "       2004, 2003, 2004, 2003, 2004, 2004, 2003, 2003, 2003, 2001, 2003,\n",
       "       2004, 2004, 2003, 2004, 2003, 2003, 2003, 2003, 2004, 2004, 2003,\n",
       "       2003, 2003, 2003, 2003, 2003, 2001, 2003, 2004, 2003, 2003, 2003,\n",
       "       2003, 2004, 2004, 2003, 2004, 2004, 2004, 2004, 2004, 2004, 2003,\n",
       "       2003, 2004, 2003, 2003, 2003, 2004, 2004, 2004, 2004, 2004, 2003,\n",
       "       2004, 2004, 2003, 2004, 2004, 2004, 2004, 2004, 2004, 2003, 2003,\n",
       "       2003, 2004, 2004, 2004, 2003, 2004, 2003, 2003, 2003, 2003, 2003,\n",
       "       2004, 2003, 2004, 2003, 2001, 2004, 2004, 2003, 2003, 2004, 2004,\n",
       "       2004, 2004, 2004, 2004, 2004, 2004, 2004, 2004, 2004, 2003, 2003,\n",
       "       2003, 2003, 2003, 2004, 2004, 2004, 2003, 2004, 2003, 2003, 2003,\n",
       "       2004, 2004, 2004, 2003])"
      ]
     },
     "execution_count": 243,
     "metadata": {},
     "output_type": "execute_result"
    }
   ],
   "source": [
    "clf.predict(recipes_ml_df.iloc[1089:])"
   ]
  },
  {
   "cell_type": "code",
   "execution_count": 244,
   "metadata": {},
   "outputs": [
    {
     "data": {
      "text/plain": [
       "array([ 2.19354839,  1.41666667,  1.5       ,  1.33333333,  1.48333333,\n",
       "        1.28333333,  1.20689655,  0.98275862,  1.32142857,  1.01818182,\n",
       "        0.87037037,  1.0754717 ,  0.98076923,  1.        ,  0.90196078,\n",
       "        1.62      ,  1.28571429,  1.52083333,  1.7173913 ,  1.2826087 ])"
      ]
     },
     "execution_count": 244,
     "metadata": {},
     "output_type": "execute_result"
    }
   ],
   "source": [
    "scores"
   ]
  },
  {
   "cell_type": "code",
   "execution_count": null,
   "metadata": {
    "collapsed": true
   },
   "outputs": [],
   "source": []
  },
  {
   "cell_type": "code",
   "execution_count": 146,
   "metadata": {},
   "outputs": [
    {
     "data": {
      "text/plain": [
       "array([2003, 2003, 2004, 2003, 2004, 2004, 2001, 2000, 2003, 2003, 2003,\n",
       "       2004, 2003, 2004, 2003, 2004, 2004, 2003, 2003, 2003, 2001, 2003,\n",
       "       2004, 2004, 2003, 2004, 2003, 2003, 2003, 2003, 2004, 2004, 2003,\n",
       "       2003, 2003, 2003, 2003, 2003, 2001, 2003, 2004, 2003, 2003, 2003,\n",
       "       2003, 2004, 2004, 2003, 2004, 2004, 2004, 2004, 2004, 2004, 2003,\n",
       "       2003, 2004, 2003, 2003, 2003, 2004, 2004, 2004, 2004, 2004, 2003,\n",
       "       2004, 2004, 2003, 2004, 2004, 2004, 2004, 2004, 2004, 2003, 2003,\n",
       "       2003, 2004, 2004, 2004, 2003, 2004, 2003, 2003, 2003, 2003, 2003,\n",
       "       2004, 2003, 2004, 2003, 2001, 2004, 2004, 2003, 2003, 2004, 2004,\n",
       "       2004, 2004, 2004, 2004, 2004, 2004, 2004, 2004, 2004, 2003, 2003,\n",
       "       2003, 2003, 2003, 2004, 2004, 2004, 2003, 2004, 2003, 2003, 2003,\n",
       "       2004, 2004, 2004, 2003])"
      ]
     },
     "execution_count": 146,
     "metadata": {},
     "output_type": "execute_result"
    }
   ],
   "source": [
    "clf.predict(recipes_ml_df.iloc[1089:])"
   ]
  },
  {
   "cell_type": "code",
   "execution_count": 42,
   "metadata": {
    "collapsed": true
   },
   "outputs": [],
   "source": [
    "from sklearn.metrics import make_scorer\n",
    "from sklearn.metrics import euclidean_distances, accuracy_score\n",
    "from scipy.spatial.distance import euclidean"
   ]
  },
  {
   "cell_type": "code",
   "execution_count": 158,
   "metadata": {},
   "outputs": [
    {
     "data": {
      "text/plain": [
       "0.66666666666666663"
      ]
     },
     "execution_count": 158,
     "metadata": {},
     "output_type": "execute_result"
    }
   ],
   "source": [
    "accuracy_score([0,0,1],[10,0,1])"
   ]
  },
  {
   "cell_type": "code",
   "execution_count": 165,
   "metadata": {},
   "outputs": [
    {
     "data": {
      "text/plain": [
       "array([[ 0.        ,  8.06225775],\n",
       "       [ 8.06225775,  0.        ]])"
      ]
     },
     "execution_count": 165,
     "metadata": {},
     "output_type": "execute_result"
    }
   ],
   "source": [
    "euclidean_distances([[0,0,1,2,3],[8,0,2,2,3]])"
   ]
  },
  {
   "cell_type": "code",
   "execution_count": 168,
   "metadata": {},
   "outputs": [
    {
     "data": {
      "text/plain": [
       "8.0622577482985491"
      ]
     },
     "execution_count": 168,
     "metadata": {},
     "output_type": "execute_result"
    }
   ],
   "source": [
    "euclidean([0,0,1,2,3],[8,0,2,2,3])"
   ]
  },
  {
   "cell_type": "code",
   "execution_count": 182,
   "metadata": {},
   "outputs": [
    {
     "data": {
      "text/plain": [
       "4.5825756949558398"
      ]
     },
     "execution_count": 182,
     "metadata": {},
     "output_type": "execute_result"
    }
   ],
   "source": [
    "euclidean([2002, 2003, 2004, 2005], [2003, 2001, 2000, 2005])"
   ]
  },
  {
   "cell_type": "code",
   "execution_count": 185,
   "metadata": {},
   "outputs": [
    {
     "data": {
      "text/plain": [
       "36.0"
      ]
     },
     "execution_count": 185,
     "metadata": {},
     "output_type": "execute_result"
    }
   ],
   "source": [
    "euclidean([1987, 1987, 1987, 1987], [2005, 2005, 2005, 2005])"
   ]
  },
  {
   "cell_type": "code",
   "execution_count": 194,
   "metadata": {},
   "outputs": [
    {
     "data": {
      "text/plain": [
       "10.392304845413264"
      ]
     },
     "execution_count": 194,
     "metadata": {},
     "output_type": "execute_result"
    }
   ],
   "source": [
    "euclidean([1987, 1987, 1987], [2005, 2005, 2005])/3"
   ]
  },
  {
   "cell_type": "code",
   "execution_count": 195,
   "metadata": {},
   "outputs": [
    {
     "data": {
      "text/plain": [
       "18.0"
      ]
     },
     "execution_count": 195,
     "metadata": {},
     "output_type": "execute_result"
    }
   ],
   "source": [
    "my_diff([1987, 1987, 1987], [2005, 2005, 2005])/3"
   ]
  },
  {
   "cell_type": "code",
   "execution_count": 64,
   "metadata": {},
   "outputs": [
    {
     "data": {
      "text/plain": [
       "36.0"
      ]
     },
     "execution_count": 64,
     "metadata": {},
     "output_type": "execute_result"
    }
   ],
   "source": [
    "n=4\n",
    "aa=[1987]*n\n",
    "bb=[2005]*n\n",
    "euclidean(aa, bb)"
   ]
  },
  {
   "cell_type": "code",
   "execution_count": 191,
   "metadata": {},
   "outputs": [
    {
     "data": {
      "text/plain": [
       "36"
      ]
     },
     "execution_count": 191,
     "metadata": {},
     "output_type": "execute_result"
    }
   ],
   "source": [
    "my_diff([1987, 1987], [2005, 2005])"
   ]
  },
  {
   "cell_type": "code",
   "execution_count": 186,
   "metadata": {},
   "outputs": [
    {
     "data": {
      "text/plain": [
       "18.0"
      ]
     },
     "execution_count": 186,
     "metadata": {},
     "output_type": "execute_result"
    }
   ],
   "source": [
    "euclidean([1987], [2005])"
   ]
  },
  {
   "cell_type": "code",
   "execution_count": 207,
   "metadata": {},
   "outputs": [
    {
     "data": {
      "text/plain": [
       "-1.0"
      ]
     },
     "execution_count": 207,
     "metadata": {},
     "output_type": "execute_result"
    }
   ],
   "source": [
    "my_diff([1987], [2005])"
   ]
  },
  {
   "cell_type": "code",
   "execution_count": 187,
   "metadata": {},
   "outputs": [
    {
     "ename": "TypeError",
     "evalue": "unsupported operand type(s) for -: 'list' and 'list'",
     "output_type": "error",
     "traceback": [
      "\u001b[0;31m---------------------------------------------------------------------------\u001b[0m",
      "\u001b[0;31mTypeError\u001b[0m                                 Traceback (most recent call last)",
      "\u001b[0;32m<ipython-input-187-d2689c36b32e>\u001b[0m in \u001b[0;36m<module>\u001b[0;34m()\u001b[0m\n\u001b[0;32m----> 1\u001b[0;31m \u001b[0;34m[\u001b[0m\u001b[0;36m2\u001b[0m\u001b[0;34m,\u001b[0m\u001b[0;36m2\u001b[0m\u001b[0;34m,\u001b[0m\u001b[0;36m2\u001b[0m\u001b[0;34m]\u001b[0m\u001b[0;34m-\u001b[0m\u001b[0;34m[\u001b[0m\u001b[0;36m1\u001b[0m\u001b[0;34m,\u001b[0m\u001b[0;36m0\u001b[0m\u001b[0;34m,\u001b[0m\u001b[0;36m1\u001b[0m\u001b[0;34m]\u001b[0m\u001b[0;34m\u001b[0m\u001b[0m\n\u001b[0m",
      "\u001b[0;31mTypeError\u001b[0m: unsupported operand type(s) for -: 'list' and 'list'"
     ]
    }
   ],
   "source": [
    "[2,2,2]-[1,0,1]"
   ]
  },
  {
   "cell_type": "code",
   "execution_count": 232,
   "metadata": {
    "collapsed": true
   },
   "outputs": [],
   "source": [
    "def my_diff(a,b):\n",
    "    return (18-sum([abs(x-y) for x,y in zip(a,b)])/len(a))/18"
   ]
  },
  {
   "cell_type": "code",
   "execution_count": 240,
   "metadata": {
    "collapsed": true
   },
   "outputs": [],
   "source": [
    "def my_diff(a,b):\n",
    "    return sum([abs(x-y) for x,y in zip(a,b)])/len(a)"
   ]
  },
  {
   "cell_type": "code",
   "execution_count": 233,
   "metadata": {},
   "outputs": [
    {
     "data": {
      "text/plain": [
       "0.0"
      ]
     },
     "execution_count": 233,
     "metadata": {},
     "output_type": "execute_result"
    }
   ],
   "source": [
    "my_diff([1987], [2005])"
   ]
  },
  {
   "cell_type": "code",
   "execution_count": 234,
   "metadata": {},
   "outputs": [
    {
     "data": {
      "text/plain": [
       "0.4444444444444444"
      ]
     },
     "execution_count": 234,
     "metadata": {},
     "output_type": "execute_result"
    }
   ],
   "source": [
    "my_diff([1995], [2005])"
   ]
  },
  {
   "cell_type": "code",
   "execution_count": 235,
   "metadata": {},
   "outputs": [
    {
     "data": {
      "text/plain": [
       "0.9444444444444444"
      ]
     },
     "execution_count": 235,
     "metadata": {},
     "output_type": "execute_result"
    }
   ],
   "source": [
    "my_diff([2004], [2005])"
   ]
  },
  {
   "cell_type": "code",
   "execution_count": 236,
   "metadata": {},
   "outputs": [
    {
     "data": {
      "text/plain": [
       "0.8333333333333334"
      ]
     },
     "execution_count": 236,
     "metadata": {},
     "output_type": "execute_result"
    }
   ],
   "source": [
    "my_diff([2000, 2004], [2005, 2005])"
   ]
  },
  {
   "cell_type": "code",
   "execution_count": 237,
   "metadata": {},
   "outputs": [
    {
     "data": {
      "text/plain": [
       "1.0"
      ]
     },
     "execution_count": 237,
     "metadata": {},
     "output_type": "execute_result"
    }
   ],
   "source": [
    "my_diff([2005, 2005], [2005, 2005])"
   ]
  },
  {
   "cell_type": "code",
   "execution_count": 239,
   "metadata": {},
   "outputs": [
    {
     "data": {
      "text/plain": [
       "17.0"
      ]
     },
     "execution_count": 239,
     "metadata": {},
     "output_type": "execute_result"
    }
   ],
   "source": [
    "my_diff([1987, 1989], [2005, 2005])"
   ]
  },
  {
   "cell_type": "code",
   "execution_count": null,
   "metadata": {
    "collapsed": true
   },
   "outputs": [],
   "source": []
  },
  {
   "cell_type": "code",
   "execution_count": 180,
   "metadata": {},
   "outputs": [
    {
     "data": {
      "text/plain": [
       "array([-24.69817807, -16.2788206 , -17.54992877, -15.93737745,\n",
       "       -18.24828759, -15.19868415, -14.28285686, -10.72380529,\n",
       "       -16.91153453, -13.7113092 , -10.14889157, -13.07669683,\n",
       "       -11.61895004, -15.45962483, -11.40175425, -18.46618531,\n",
       "       -16.52271164, -19.        , -20.22374842, -16.40121947])"
      ]
     },
     "execution_count": 180,
     "metadata": {},
     "output_type": "execute_result"
    }
   ],
   "source": [
    "scores"
   ]
  },
  {
   "cell_type": "code",
   "execution_count": 135,
   "metadata": {},
   "outputs": [
    {
     "data": {
      "text/plain": [
       "array([ 0.33333333,  0.40298507,  0.3880597 ,  0.40298507,  0.41791045,\n",
       "        0.37878788,  0.375     ,  0.484375  ,  0.41935484,  0.47540984,\n",
       "        0.53333333,  0.50847458,  0.53448276,  0.49122807,  0.45614035,\n",
       "        0.51785714,  0.50909091,  0.48148148,  0.42307692,  0.51923077])"
      ]
     },
     "execution_count": 135,
     "metadata": {},
     "output_type": "execute_result"
    }
   ],
   "source": [
    "scores"
   ]
  },
  {
   "cell_type": "code",
   "execution_count": 135,
   "metadata": {},
   "outputs": [
    {
     "data": {
      "text/plain": [
       "array([ 0.33333333,  0.40298507,  0.3880597 ,  0.40298507,  0.41791045,\n",
       "        0.37878788,  0.375     ,  0.484375  ,  0.41935484,  0.47540984,\n",
       "        0.53333333,  0.50847458,  0.53448276,  0.49122807,  0.45614035,\n",
       "        0.51785714,  0.50909091,  0.48148148,  0.42307692,  0.51923077])"
      ]
     },
     "execution_count": 135,
     "metadata": {},
     "output_type": "execute_result"
    }
   ],
   "source": [
    "scores"
   ]
  },
  {
   "cell_type": "code",
   "execution_count": 133,
   "metadata": {},
   "outputs": [
    {
     "data": {
      "text/plain": [
       "array([ 0.28985507,  0.43283582,  0.37313433,  0.3880597 ,  0.41791045,\n",
       "        0.40909091,  0.34375   ,  0.453125  ,  0.43548387,  0.45901639,\n",
       "        0.51666667,  0.47457627,  0.51724138,  0.47368421,  0.45614035,\n",
       "        0.51785714,  0.47272727,  0.46296296,  0.36538462,  0.51923077])"
      ]
     },
     "execution_count": 133,
     "metadata": {},
     "output_type": "execute_result"
    }
   ],
   "source": [
    "scores"
   ]
  },
  {
   "cell_type": "code",
   "execution_count": 129,
   "metadata": {},
   "outputs": [
    {
     "data": {
      "text/plain": [
       "array([ 0.31007752,  0.34126984,  0.368     ,  0.46774194,  0.44354839,\n",
       "        0.39344262,  0.43697479,  0.38135593,  0.37719298,  0.34513274])"
      ]
     },
     "execution_count": 129,
     "metadata": {},
     "output_type": "execute_result"
    }
   ],
   "source": [
    "scores"
   ]
  },
  {
   "cell_type": "code",
   "execution_count": 121,
   "metadata": {},
   "outputs": [
    {
     "data": {
      "text/plain": [
       "array([ 0.30232558,  0.35714286,  0.28      ,  0.2983871 ,  0.30645161,\n",
       "        0.36065574,  0.42016807,  0.30508475,  0.42105263,  0.27433628])"
      ]
     },
     "execution_count": 121,
     "metadata": {},
     "output_type": "execute_result"
    }
   ],
   "source": [
    "scores"
   ]
  },
  {
   "cell_type": "code",
   "execution_count": 126,
   "metadata": {},
   "outputs": [
    {
     "data": {
      "text/plain": [
       "array([ 0.86178862,  0.94262295,  0.90163934,  0.89344262,  0.95867769,\n",
       "        0.96694215,  0.92561983,  0.8677686 ,  0.89256198,  0.96666667])"
      ]
     },
     "execution_count": 126,
     "metadata": {},
     "output_type": "execute_result"
    }
   ],
   "source": [
    "scores"
   ]
  },
  {
   "cell_type": "code",
   "execution_count": 118,
   "metadata": {},
   "outputs": [
    {
     "data": {
      "text/plain": [
       "0.99423393739703458"
      ]
     },
     "execution_count": 118,
     "metadata": {},
     "output_type": "execute_result"
    }
   ],
   "source": [
    "clf.score(X, y)"
   ]
  },
  {
   "cell_type": "code",
   "execution_count": 119,
   "metadata": {},
   "outputs": [
    {
     "data": {
      "text/plain": [
       "array([ 0.01401683,  0.00841437,  0.00500775, ...,  0.        ,\n",
       "        0.00670966,  0.01149703])"
      ]
     },
     "execution_count": 119,
     "metadata": {},
     "output_type": "execute_result"
    }
   ],
   "source": [
    "clf.feature_importances_"
   ]
  },
  {
   "cell_type": "code",
   "execution_count": null,
   "metadata": {
    "collapsed": true
   },
   "outputs": [],
   "source": []
  }
 ],
 "metadata": {
  "kernelspec": {
   "display_name": "Python 3",
   "language": "python",
   "name": "python3"
  },
  "language_info": {
   "codemirror_mode": {
    "name": "ipython",
    "version": 3
   },
   "file_extension": ".py",
   "mimetype": "text/x-python",
   "name": "python",
   "nbconvert_exporter": "python",
   "pygments_lexer": "ipython3",
   "version": "3.5.2"
  }
 },
 "nbformat": 4,
 "nbformat_minor": 1
}
