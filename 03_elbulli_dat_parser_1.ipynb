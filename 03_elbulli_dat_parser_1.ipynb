{
 "cells": [
  {
   "cell_type": "code",
   "execution_count": 1,
   "metadata": {
    "collapsed": true
   },
   "outputs": [],
   "source": [
    "import os\n",
    "import string\n",
    "\n",
    "import networkx as nx"
   ]
  },
  {
   "cell_type": "code",
   "execution_count": 2,
   "metadata": {
    "collapsed": true,
    "scrolled": true
   },
   "outputs": [],
   "source": [
    "fields = set()\n",
    "\n",
    "path = 'data/recipes/elbulli/'\n",
    "for folder in os.listdir(path):\n",
    "    for filename_number in sorted(map(lambda x: int(x[:-4]), os.listdir(path + folder))):\n",
    "        filename = str(filename_number) + '.dat'\n",
    "        with open(path + folder + '/' + filename) as f:\n",
    "            for line in f:\n",
    "                field = line.split('=')[0]\n",
    "                while field[-1].isdecimal():\n",
    "                    field = field[:-1]\n",
    "                fields.add(field)"
   ]
  },
  {
   "cell_type": "code",
   "execution_count": 3,
   "metadata": {},
   "outputs": [
    {
     "data": {
      "text/plain": [
       "{'&acabatipresentacio',\n",
       " '&any',\n",
       " '&cubiertos',\n",
       " '&descripcioelaboracio',\n",
       " '&familia',\n",
       " '&ingredientselaboracio',\n",
       " '&maneraDegustar',\n",
       " '&pers',\n",
       " '&temperatura',\n",
       " '&temporada',\n",
       " '&titol',\n",
       " '&titolelaboracio',\n",
       " 'num'}"
      ]
     },
     "execution_count": 3,
     "metadata": {},
     "output_type": "execute_result"
    }
   ],
   "source": [
    "fields"
   ]
  },
  {
   "cell_type": "code",
   "execution_count": 4,
   "metadata": {
    "collapsed": true,
    "scrolled": true
   },
   "outputs": [],
   "source": [
    "g_dat = nx.DiGraph()\n",
    "\n",
    "path = 'data/recipes/elbulli/'\n",
    "for folder in os.listdir(path):\n",
    "    for filename_number in sorted(map(lambda x: int(x[:-4]), os.listdir(path + folder))):\n",
    "        filename = str(filename_number) + '.dat'\n",
    "        with open(path + folder + '/' + filename) as f:\n",
    "            ide = str(filename_number)\n",
    "            g_dat.add_node(ide, {'nodetype': 'Receta'})\n",
    "            preps_count = 0\n",
    "            for line in f:\n",
    "                line = line.strip()\n",
    "                if line.startswith('num'):\n",
    "                    v = line.split('=')[1]\n",
    "                    g_dat.node[ide]['label'] = v\n",
    "                elif line.startswith('&titol='):\n",
    "                    v = line.split('=')[1]\n",
    "                    g_dat.node[ide]['titulo'] = v\n",
    "                elif line.startswith('&any'):\n",
    "                    v = line.split('=')[1]\n",
    "                    g_dat.add_node(v, {'label': v, 'nodetype': 'Año'})\n",
    "                    g_dat.add_edge(ide, v, {'edgetype': 'publicado en'})\n",
    "                elif line.startswith('&familia'):\n",
    "                    v = line.split('=')[1]\n",
    "                    g_dat.add_node(v, {'label': v, 'nodetype': 'Familia Receta'})\n",
    "                    g_dat.add_edge(ide, v, {'edgetype': 'se clasifica'})\n",
    "                elif line.startswith('&cubiertos'):\n",
    "                    v = line.split('=')[1]\n",
    "                    g_dat.node[ide]['cubiertos'] = v\n",
    "                elif line.startswith('&maneraDegustar'):\n",
    "                    v = line.split('=')[1]\n",
    "                    g_dat.node[ide]['maneraDegustar'] = v\n",
    "                elif line.startswith('&temporada'):\n",
    "                    v = line.split('=')[1]\n",
    "                    g_dat.node[ide]['temporada'] = v\n",
    "                elif line.startswith('&temperatura'):\n",
    "                    v = line.split('=')[1]\n",
    "                    g_dat.add_node(v, {'label': v, 'nodetype': 'Temperatura'})\n",
    "                    g_dat.add_edge(ide, v, {'edgetype': 'temperatura'})\n",
    "                elif line.startswith('&pers'):\n",
    "                    v = line.split('=')[1]\n",
    "                    g_dat.node[ide]['personas'] = v\n",
    "                elif line.startswith('&acabatipresentacio'):\n",
    "                    v = line.split('=')[1]\n",
    "                    g_dat.node[ide]['acabacion'] = v\n",
    "                elif line.startswith('&titolelaboracio'):\n",
    "                    preps_count += 1\n",
    "                    prep_id = ide + '-' + str(preps_count)\n",
    "                    g_dat.add_node(prep_id, {'label': prep_id, 'nodetype': 'Elaboracion'})\n",
    "                    v = line.split('=')[1]\n",
    "                    g_dat.node[prep_id]['title'] = v\n",
    "                elif line.startswith('&ingredientselaboracio'):\n",
    "                    v = line.split('=')[1]\n",
    "                    g_dat.node[prep_id]['ingrs'] = v\n",
    "                elif line.startswith('&descripcioelaboracio'):\n",
    "                    v = line.split('=')[1]\n",
    "                    g_dat.node[prep_id]['desc'] = v\n",
    "                    g_dat.add_edge(ide, prep_id, {'edgetype': 'elaboracion'})"
   ]
  },
  {
   "cell_type": "code",
   "execution_count": 5,
   "metadata": {
    "collapsed": true
   },
   "outputs": [],
   "source": [
    "def is_vowel(c):\n",
    "    return c in 'aeiou'\n",
    "\n",
    "def is_consonant(c):\n",
    "    return not is_vowel(c)\n",
    "\n",
    "def basic_plural(w):\n",
    "    if w.endswith('s'):\n",
    "        r = w\n",
    "    elif w.endswith('z'):\n",
    "        r = w[:-1] + 'ces'\n",
    "    elif is_consonant(w[-1]):\n",
    "        r = w + 'es'\n",
    "    else:\n",
    "        r = w + 's'\n",
    "    return r\n",
    "\n",
    "def special_replacements(t):\n",
    "    t = t.replace('caracolesines', 'caracolines')\n",
    "    t = t.replace('caracoleses', 'caracoles')\n",
    "    t = t.replace('; de roquefort; de falso tartufo; de grasa de jamón ibérico y aceite de trufa blanca', '')\n",
    "    return t\n",
    "\n",
    "def clean_title(t):\n",
    "    t = t.strip().lower()\n",
    "    t = special_replacements(t)\n",
    "    t = t.replace('á', 'a').replace('é', 'e').replace('í', 'i').replace('ó', 'o').replace('ú', 'u')\n",
    "    for p in string.punctuation:\n",
    "        t = t.replace(p, '')\n",
    "    ws = t.split()\n",
    "    ws = [basic_plural(w) for w in ws]\n",
    "    t = ' '.join(ws)\n",
    "    return t\n",
    "\n",
    "def similar_titles(t1, t2):\n",
    "    c1 = clean_title(t1)\n",
    "    c2 = clean_title(t2)\n",
    "    return c1 == c2"
   ]
  },
  {
   "cell_type": "code",
   "execution_count": 6,
   "metadata": {
    "collapsed": true
   },
   "outputs": [],
   "source": [
    "def equals_nodes(d1, d2):\n",
    "    result = False\n",
    "    if d1['label'] != d2['label']:\n",
    "        errors.add('Different labels')\n",
    "    else:\n",
    "        if d1['nodetype'] != d2['nodetype']:\n",
    "            errors.add('Different nodetypes')\n",
    "        else:\n",
    "            if 'titulo' in d1 and 'titulo' in d2 and not similar_titles(d1['titulo'], d2['titulo']):\n",
    "                errors.add('Different titles')\n",
    "            else:\n",
    "                result = True\n",
    "    return result\n",
    "\n",
    "def get_edge_value(es, edgetype):\n",
    "    vs = [k for k in es if es[k]['edgetype'] == edgetype]\n",
    "    assert(len(vs) == 1)\n",
    "    v = vs[0]\n",
    "    return v\n",
    "\n",
    "def equals_edges(d1, es1, d2, es2):\n",
    "    result = False\n",
    "    year1 = get_edge_value(es1, 'publicado en')\n",
    "    year2 = get_edge_value(es2, 'publicado en')\n",
    "    if year1 != year2:\n",
    "        errors.add('Different years')\n",
    "    else:\n",
    "        temp1 = get_edge_value(es1, 'temperatura')\n",
    "        temp2 = get_edge_value(es2, 'temperatura')\n",
    "        if temp1 != temp2:\n",
    "            errors.add('Different temperatures')\n",
    "        else:\n",
    "            fam1 = get_edge_value(es1, 'se clasifica')\n",
    "            fam2 = get_edge_value(es2, 'se clasifica')\n",
    "            if fam1 != fam2:\n",
    "                errors.add('Different recipe families')\n",
    "            else:\n",
    "                n_preps1 = sum(1 for k in es1 if es1[k]['edgetype'] == 'elaboracion')\n",
    "                n_preps2 = sum(1 for k in es2 if es2[k]['edgetype'] == 'elaboracion')\n",
    "                if n_preps1 != n_preps2:\n",
    "                    errors.add('Different number of preparations')\n",
    "                else:\n",
    "                    result = True\n",
    "    return result"
   ]
  },
  {
   "cell_type": "code",
   "execution_count": 7,
   "metadata": {
    "collapsed": true,
    "scrolled": true
   },
   "outputs": [],
   "source": [
    "g_nlg = nx.read_gexf('out/elbulli_nlg.gexf')"
   ]
  },
  {
   "cell_type": "code",
   "execution_count": 8,
   "metadata": {
    "scrolled": true
   },
   "outputs": [
    {
     "name": "stdout",
     "output_type": "stream",
     "text": [
      "Different number of preparations\n"
     ]
    }
   ],
   "source": [
    "errors = set()\n",
    "\n",
    "for n1, data1 in g_nlg.nodes_iter(data=True):\n",
    "    if data1['nodetype'] == 'Receta':\n",
    "        edges1 = g_nlg[n1]\n",
    "        n2 = n1\n",
    "        data2 = g_dat.node[n2]\n",
    "        edges2 = g_dat[n2]\n",
    "        equals_nodes(data1, data2)\n",
    "        equals_edges(data1, edges1, data2, edges2)\n",
    "\n",
    "for e in errors:\n",
    "    print(e)"
   ]
  },
  {
   "cell_type": "code",
   "execution_count": 9,
   "metadata": {
    "collapsed": true
   },
   "outputs": [],
   "source": [
    "nx.write_gexf(g_dat, 'out/elbulli_dat.gexf')"
   ]
  },
  {
   "cell_type": "code",
   "execution_count": null,
   "metadata": {
    "collapsed": true
   },
   "outputs": [],
   "source": []
  }
 ],
 "metadata": {
  "kernelspec": {
   "display_name": "Python 3",
   "language": "python",
   "name": "python3"
  },
  "language_info": {
   "codemirror_mode": {
    "name": "ipython",
    "version": 3
   },
   "file_extension": ".py",
   "mimetype": "text/x-python",
   "name": "python",
   "nbconvert_exporter": "python",
   "pygments_lexer": "ipython3",
   "version": "3.5.2"
  }
 },
 "nbformat": 4,
 "nbformat_minor": 1
}
