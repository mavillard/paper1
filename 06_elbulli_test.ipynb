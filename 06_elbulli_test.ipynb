{
 "cells": [
  {
   "cell_type": "code",
   "execution_count": 1,
   "metadata": {
    "collapsed": true
   },
   "outputs": [],
   "source": [
    "import networkx as nx\n",
    "\n",
    "from api import *"
   ]
  },
  {
   "cell_type": "code",
   "execution_count": 2,
   "metadata": {
    "collapsed": true
   },
   "outputs": [],
   "source": [
    "g_nlg = nx.read_gexf('out/elbulli_nlg_02.gexf')"
   ]
  },
  {
   "cell_type": "code",
   "execution_count": 3,
   "metadata": {
    "collapsed": true
   },
   "outputs": [],
   "source": [
    "g_dat = nx.read_gexf('out/elbulli_dat_05.gexf')"
   ]
  },
  {
   "cell_type": "code",
   "execution_count": 4,
   "metadata": {
    "collapsed": true
   },
   "outputs": [],
   "source": [
    "for g in [g_nlg, g_dat]:\n",
    "    for p in nodes_by_type(g, 'Elaboracion'):\n",
    "        assert(len(get_PreparationFamily_Preparation(g, p)) <= 1)\n",
    "        prods = get_Products_Preparation(g, p)\n",
    "        flavs = get_Flavors_Preparation(g, p)\n",
    "        ingrs = get_Ingredients_Preparation(g, p)\n",
    "        comps = get_components_Preparation(g, p)\n",
    "        assert(set(comps) == set(prods + flavs + ingrs))\n",
    "        get_Techniques_Preparation(g, p)\n",
    "        assert(len(get_World_Preparation(g, p)) <= 1)"
   ]
  },
  {
   "cell_type": "code",
   "execution_count": 5,
   "metadata": {
    "collapsed": true
   },
   "outputs": [],
   "source": [
    "for g in [g_nlg, g_dat]:\n",
    "    for f in nodes_by_type(g, 'Acabacion'):\n",
    "        get_Ingredients_Finish(g, f)\n",
    "        get_Techniques_Finish(g, f)"
   ]
  },
  {
   "cell_type": "code",
   "execution_count": 6,
   "metadata": {
    "collapsed": true
   },
   "outputs": [],
   "source": [
    "for g in [g_nlg, g_dat]:\n",
    "    for s in nodes_by_type(g, 'Estilo'):\n",
    "        assert(len(get_StyleFamily_Style(g, s)) == 1)"
   ]
  },
  {
   "cell_type": "code",
   "execution_count": 7,
   "metadata": {
    "collapsed": true
   },
   "outputs": [],
   "source": [
    "for g in [g_nlg, g_dat]:\n",
    "    for t in nodes_by_type(g, 'Tecnica'):\n",
    "        assert(len(get_TechniqueRFamily_TechniqueR(g, t)) == 1)"
   ]
  },
  {
   "cell_type": "code",
   "execution_count": 8,
   "metadata": {
    "collapsed": true
   },
   "outputs": [],
   "source": [
    "for g in [g_nlg, g_dat]:\n",
    "    for r in nodes_by_type(g, 'Receta'):\n",
    "        assert(len(get_Finish_Recipe(g, r)) <= 1)\n",
    "        techsR = get_TechniquesR_Recipe(g, r)\n",
    "        techsF = get_TechniquesRFamilies_Recipe(g, r)\n",
    "        assert(len(techsR) == len(techsF))\n",
    "        assert(len(get_RecipeFamily_Recipe(g, r)) == 1)\n",
    "        assert(len(get_Year_Recipe(g, r)) == 1)\n",
    "        assert(len(get_Temperature_Recipe(g, r)) == 1)\n",
    "        stylesR = get_Styles_Recipe(g, r)\n",
    "        stylesF = get_StylesFamilies_Recipe(g, r)\n",
    "        assert(len(stylesR) == len(stylesF))\n",
    "        preps = get_Preparations_Recipe(g, r)\n",
    "        worlds = get_Worlds_Recipe(g, r)\n",
    "        assert(len(worlds) <= len(preps))\n",
    "        get_components_Recipe(g, r)\n",
    "        get_Techniques_Recipe(g, r)\n",
    "        fams = get_PreparationsFamilies_Recipe(g, r)\n",
    "        assert(len(fams) <= len(preps))"
   ]
  },
  {
   "cell_type": "code",
   "execution_count": 9,
   "metadata": {},
   "outputs": [],
   "source": [
    "for r in nodes_by_type(g_dat, 'Receta'):\n",
    "    s11 = set(INGREDIENTS(g_dat, g_nlg, r))\n",
    "    s12 = set(INGREDIENTS(g_nlg, g_dat, r))\n",
    "    s13 = set(get_components_Recipe(g_dat, r)).union(map(str.lower, get_components_Recipe(g_nlg, r)))\n",
    "    assert(s11 == s12 == s13)\n",
    "    s21 = set(TECHNIQUES(g_dat, g_nlg, r))\n",
    "    s22 = set(TECHNIQUES(g_nlg, g_dat, r))\n",
    "    s23 = set(get_Techniques_Recipe(g_dat, r)).union(map(str.lower, get_Techniques_Recipe(g_nlg, r)))\n",
    "    assert(s21 == s22 == s23)"
   ]
  },
  {
   "cell_type": "code",
   "execution_count": null,
   "metadata": {
    "collapsed": true
   },
   "outputs": [],
   "source": []
  }
 ],
 "metadata": {
  "kernelspec": {
   "display_name": "Python 3",
   "language": "python",
   "name": "python3"
  },
  "language_info": {
   "codemirror_mode": {
    "name": "ipython",
    "version": 3
   },
   "file_extension": ".py",
   "mimetype": "text/x-python",
   "name": "python",
   "nbconvert_exporter": "python",
   "pygments_lexer": "ipython3",
   "version": "3.5.2"
  }
 },
 "nbformat": 4,
 "nbformat_minor": 1
}
