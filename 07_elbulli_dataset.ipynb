{
 "cells": [
  {
   "cell_type": "code",
   "execution_count": 1,
   "metadata": {
    "collapsed": true
   },
   "outputs": [],
   "source": [
    "import pickle\n",
    "\n",
    "import networkx as nx\n",
    "\n",
    "import api"
   ]
  },
  {
   "cell_type": "code",
   "execution_count": 2,
   "metadata": {
    "collapsed": true
   },
   "outputs": [],
   "source": [
    "g_nlg = nx.read_gexf('out/elbulli_nlg_02.gexf')"
   ]
  },
  {
   "cell_type": "code",
   "execution_count": 3,
   "metadata": {
    "collapsed": true
   },
   "outputs": [],
   "source": [
    "g_dat = nx.read_gexf('out/elbulli_dat_05.gexf')"
   ]
  },
  {
   "cell_type": "code",
   "execution_count": 4,
   "metadata": {
    "collapsed": true
   },
   "outputs": [],
   "source": [
    "all_ingredients_graph = nx.read_gexf('out/spanish_ingredients_lexicon_05.gexf')"
   ]
  },
  {
   "cell_type": "code",
   "execution_count": 5,
   "metadata": {},
   "outputs": [
    {
     "data": {
      "text/plain": [
       "26871"
      ]
     },
     "execution_count": 5,
     "metadata": {},
     "output_type": "execute_result"
    }
   ],
   "source": [
    "len(all_ingredients_graph)"
   ]
  },
  {
   "cell_type": "code",
   "execution_count": 6,
   "metadata": {},
   "outputs": [
    {
     "data": {
      "text/plain": [
       "3182"
      ]
     },
     "execution_count": 6,
     "metadata": {},
     "output_type": "execute_result"
    }
   ],
   "source": [
    "nx.number_connected_components(all_ingredients_graph)"
   ]
  },
  {
   "cell_type": "code",
   "execution_count": 7,
   "metadata": {
    "collapsed": true
   },
   "outputs": [],
   "source": [
    "all_techniques_graph = nx.read_gexf('out/spanish_techniques_lexicon_05.gexf')"
   ]
  },
  {
   "cell_type": "code",
   "execution_count": 8,
   "metadata": {},
   "outputs": [
    {
     "data": {
      "text/plain": [
       "4635"
      ]
     },
     "execution_count": 8,
     "metadata": {},
     "output_type": "execute_result"
    }
   ],
   "source": [
    "len(all_techniques_graph)"
   ]
  },
  {
   "cell_type": "code",
   "execution_count": 9,
   "metadata": {},
   "outputs": [
    {
     "data": {
      "text/plain": [
       "445"
      ]
     },
     "execution_count": 9,
     "metadata": {},
     "output_type": "execute_result"
    }
   ],
   "source": [
    "nx.number_connected_components(all_techniques_graph)"
   ]
  },
  {
   "cell_type": "code",
   "execution_count": 10,
   "metadata": {
    "collapsed": true
   },
   "outputs": [],
   "source": [
    "def representative(g, x):\n",
    "    r = x\n",
    "    cc = nx.node_connected_component(g, x)\n",
    "    for e in cc:\n",
    "        data = g.node[e]\n",
    "        if 'repr_count' in data:\n",
    "            r = e\n",
    "            break\n",
    "    return r"
   ]
  },
  {
   "cell_type": "markdown",
   "metadata": {},
   "source": [
    "**types**:<br>\n",
    "*Acabado*<br>\n",
    "Año<br>\n",
    "Elaboracion<br>\n",
    "Estilo<br>\n",
    "Familia Elaboracion<br>\n",
    "Familia Estilo<br>\n",
    "Familia Receta<br>\n",
    "Familia Tecnica<br>\n",
    "Mundo<br>\n",
    "Producto<br>\n",
    "Receta<br>\n",
    "Tecnica<br>\n",
    "Temperatura<br>\n",
    "*componente*<br>\n",
    "ingrediente<br>\n",
    "sabor<br>\n",
    "tecnica<br>"
   ]
  },
  {
   "cell_type": "code",
   "execution_count": 11,
   "metadata": {
    "collapsed": true,
    "scrolled": true
   },
   "outputs": [],
   "source": [
    "recipes = []\n",
    "for n, data in api.nodes_by_type(g_dat, 'Receta', data=True):\n",
    "    recipe = {}\n",
    "    \n",
    "    # Acabado\n",
    "    pass\n",
    "    \n",
    "    # Año\n",
    "    year_dat = api.get_Year_Recipe(g_dat, n)\n",
    "    year_nlg = api.get_Year_Recipe(g_nlg, n)\n",
    "    assert(year_dat == year_nlg)\n",
    "    recipe['year'] = int(year_dat[0])\n",
    "    \n",
    "    # Elaboracion\n",
    "    preps_dat = api.get_Preparations_Recipe(g_dat, n)\n",
    "    preps_nlg = api.get_Preparations_Recipe(g_nlg, n)\n",
    "    recipe['num_preparations'] = max(len(preps_dat), len(preps_nlg))\n",
    "    \n",
    "    # Estilo\n",
    "    styles = api.get_Styles_Recipe(g_nlg, n)\n",
    "    recipe['num_styles'] = len(styles)\n",
    "    \n",
    "    # Familia Elaboracion\n",
    "    preps_families = api.get_PreparationsFamilies_Recipe(g_nlg, n)\n",
    "    recipe['preparations_families'] = preps_families\n",
    "    \n",
    "    # Familia Estilo\n",
    "    styles_families = api.get_StylesFamilies_Recipe(g_nlg, n)\n",
    "    recipe['styles_families'] = styles_families\n",
    "    \n",
    "    # Familia Receta\n",
    "    recipe_family_dat = api.get_RecipeFamily_Recipe(g_dat, n)\n",
    "    recipe_family_nlg = api.get_RecipeFamily_Recipe(g_nlg, n)\n",
    "    assert(recipe_family_dat == recipe_family_nlg)\n",
    "    recipe['recipe_family'] = recipe_family_dat\n",
    "    \n",
    "    # Familia Tecnica\n",
    "    techs_families = api.get_TechniquesRFamilies_Recipe(g_nlg, n)\n",
    "    recipe['techniquesR_families'] = techs_families\n",
    "    \n",
    "    # Mundo\n",
    "    worlds = api.get_Worlds_Recipe(g_nlg, n)\n",
    "    recipe['worlds'] = worlds\n",
    "    recipe['num_worlds'] = len(worlds)\n",
    "    \n",
    "    # Producto\n",
    "    pass\n",
    "    \n",
    "    # Receta\n",
    "    recipe['id'] = int(n)\n",
    "    recipe['title'] = g_nlg.node[n]['titulo']\n",
    "    \n",
    "    # Tecnica\n",
    "    techniquesR = api.get_TechniquesR_Recipe(g_nlg, n)\n",
    "    recipe['num_techniquesR'] = len(techniquesR)\n",
    "    \n",
    "    # Temperatura\n",
    "    temperature_dat = api.get_Temperature_Recipe(g_dat, n)\n",
    "    temperature_nlg = api.get_Temperature_Recipe(g_nlg, n)\n",
    "    assert(temperature_dat == temperature_nlg)\n",
    "    recipe['temperature'] = temperature_dat\n",
    "    \n",
    "    # componente\n",
    "    pass\n",
    "    \n",
    "    # ingrediente\n",
    "    pass\n",
    "    \n",
    "    # sabor\n",
    "    pass\n",
    "    \n",
    "    # tecnica\n",
    "    pass\n",
    "    \n",
    "    ingredients = api.INGREDIENTS(g_dat, g_nlg, n)\n",
    "    techniques = api.TECHNIQUES(g_dat, g_nlg, n)\n",
    "    ingrs_repr = [representative(all_ingredients_graph, i) for i in ingredients]\n",
    "    techs_repr = [representative(all_techniques_graph, t) for t in techniques]\n",
    "    recipe['ingredients'] = ingrs_repr\n",
    "    recipe['techniques'] = techs_repr\n",
    "    recipe['num_ingredients'] = len(ingrs_repr)\n",
    "    recipe['num_techniques'] = len(techs_repr)\n",
    "    \n",
    "    recipes.append(recipe)"
   ]
  },
  {
   "cell_type": "code",
   "execution_count": 12,
   "metadata": {
    "collapsed": true
   },
   "outputs": [],
   "source": [
    "with open('out/recipes_list.pickle', 'wb') as f:\n",
    "    pickle.dump(recipes, f)"
   ]
  },
  {
   "cell_type": "code",
   "execution_count": null,
   "metadata": {
    "collapsed": true
   },
   "outputs": [],
   "source": []
  }
 ],
 "metadata": {
  "kernelspec": {
   "display_name": "Python 3",
   "language": "python",
   "name": "python3"
  },
  "language_info": {
   "codemirror_mode": {
    "name": "ipython",
    "version": 3
   },
   "file_extension": ".py",
   "mimetype": "text/x-python",
   "name": "python",
   "nbconvert_exporter": "python",
   "pygments_lexer": "ipython3",
   "version": "3.5.2"
  }
 },
 "nbformat": 4,
 "nbformat_minor": 1
}
