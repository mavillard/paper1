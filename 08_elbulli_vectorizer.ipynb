{
 "cells": [
  {
   "cell_type": "code",
   "execution_count": 1,
   "metadata": {
    "collapsed": true
   },
   "outputs": [],
   "source": [
    "import pickle\n",
    "\n",
    "import pandas as pd"
   ]
  },
  {
   "cell_type": "code",
   "execution_count": 2,
   "metadata": {
    "collapsed": true
   },
   "outputs": [],
   "source": [
    "with open('out/recipes_list.pickle', 'rb') as f:\n",
    "    recipes = pickle.load(f)"
   ]
  },
  {
   "cell_type": "code",
   "execution_count": 3,
   "metadata": {
    "collapsed": true
   },
   "outputs": [],
   "source": [
    "fields = set(recipes[0].keys())"
   ]
  },
  {
   "cell_type": "code",
   "execution_count": 4,
   "metadata": {},
   "outputs": [
    {
     "data": {
      "text/plain": [
       "{'id',\n",
       " 'ingredients',\n",
       " 'num_ingredients',\n",
       " 'num_preparations',\n",
       " 'num_styles',\n",
       " 'num_techniques',\n",
       " 'num_techniquesR',\n",
       " 'num_worlds',\n",
       " 'preparations_families',\n",
       " 'recipe_family',\n",
       " 'styles_families',\n",
       " 'techniques',\n",
       " 'techniquesR_families',\n",
       " 'temperature',\n",
       " 'title',\n",
       " 'worlds',\n",
       " 'year'}"
      ]
     },
     "execution_count": 4,
     "metadata": {},
     "output_type": "execute_result"
    }
   ],
   "source": [
    "fields"
   ]
  },
  {
   "cell_type": "code",
   "execution_count": 5,
   "metadata": {
    "collapsed": true
   },
   "outputs": [],
   "source": [
    "recipes_data = []\n",
    "for r in recipes:\n",
    "    r1 = {}\n",
    "    r1['id'] = r['id']\n",
    "    r1['title'] = r['title']\n",
    "    r1['year'] = r['year']\n",
    "    recipes_data.append(r1)"
   ]
  },
  {
   "cell_type": "code",
   "execution_count": 6,
   "metadata": {
    "collapsed": true
   },
   "outputs": [],
   "source": [
    "recipes_data_df = pd.DataFrame(recipes_data)\n",
    "recipes_data_df.set_index('id', inplace=True)\n",
    "recipes_data_df.sort_index(inplace=True)"
   ]
  },
  {
   "cell_type": "code",
   "execution_count": 7,
   "metadata": {},
   "outputs": [
    {
     "data": {
      "text/html": [
       "<div>\n",
       "<style>\n",
       "    .dataframe thead tr:only-child th {\n",
       "        text-align: right;\n",
       "    }\n",
       "\n",
       "    .dataframe thead th {\n",
       "        text-align: left;\n",
       "    }\n",
       "\n",
       "    .dataframe tbody tr th {\n",
       "        vertical-align: top;\n",
       "    }\n",
       "</style>\n",
       "<table border=\"1\" class=\"dataframe\">\n",
       "  <thead>\n",
       "    <tr style=\"text-align: right;\">\n",
       "      <th></th>\n",
       "      <th>title</th>\n",
       "      <th>year</th>\n",
       "    </tr>\n",
       "    <tr>\n",
       "      <th>id</th>\n",
       "      <th></th>\n",
       "      <th></th>\n",
       "    </tr>\n",
       "  </thead>\n",
       "  <tbody>\n",
       "    <tr>\n",
       "      <th>1</th>\n",
       "      <td>terrina de melón con gelée de oporto</td>\n",
       "      <td>1987</td>\n",
       "    </tr>\n",
       "    <tr>\n",
       "      <th>2</th>\n",
       "      <td>mousse de trufa negra '87</td>\n",
       "      <td>1987</td>\n",
       "    </tr>\n",
       "    <tr>\n",
       "      <th>3</th>\n",
       "      <td>ensalada de pasta fresca con caviar, tempura d...</td>\n",
       "      <td>1987</td>\n",
       "    </tr>\n",
       "    <tr>\n",
       "      <th>4</th>\n",
       "      <td>raviolis de cigala, patatas y trufa negra</td>\n",
       "      <td>1987</td>\n",
       "    </tr>\n",
       "    <tr>\n",
       "      <th>5</th>\n",
       "      <td>tempura de flor de calabacín rellena de mozzar...</td>\n",
       "      <td>1987</td>\n",
       "    </tr>\n",
       "  </tbody>\n",
       "</table>\n",
       "</div>"
      ],
      "text/plain": [
       "                                                title  year\n",
       "id                                                         \n",
       "1                terrina de melón con gelée de oporto  1987\n",
       "2                           mousse de trufa negra '87  1987\n",
       "3   ensalada de pasta fresca con caviar, tempura d...  1987\n",
       "4           raviolis de cigala, patatas y trufa negra  1987\n",
       "5   tempura de flor de calabacín rellena de mozzar...  1987"
      ]
     },
     "execution_count": 7,
     "metadata": {},
     "output_type": "execute_result"
    }
   ],
   "source": [
    "recipes_data_df.head()"
   ]
  },
  {
   "cell_type": "code",
   "execution_count": 8,
   "metadata": {
    "collapsed": true
   },
   "outputs": [],
   "source": [
    "all_ingredients = set()\n",
    "for r in recipes:\n",
    "    all_ingredients = all_ingredients.union(r['ingredients'])"
   ]
  },
  {
   "cell_type": "code",
   "execution_count": 9,
   "metadata": {
    "collapsed": true
   },
   "outputs": [],
   "source": [
    "all_preparations_families = set()\n",
    "for r in recipes:\n",
    "    all_preparations_families = all_preparations_families.union(r['preparations_families'])"
   ]
  },
  {
   "cell_type": "code",
   "execution_count": 10,
   "metadata": {
    "collapsed": true
   },
   "outputs": [],
   "source": [
    "all_recipe_families = set()\n",
    "for r in recipes:\n",
    "    all_recipe_families = all_recipe_families.union(r['recipe_family'])"
   ]
  },
  {
   "cell_type": "code",
   "execution_count": 11,
   "metadata": {
    "collapsed": true
   },
   "outputs": [],
   "source": [
    "all_styles_families = set()\n",
    "for r in recipes:\n",
    "    all_styles_families = all_styles_families.union(r['styles_families'])"
   ]
  },
  {
   "cell_type": "code",
   "execution_count": 12,
   "metadata": {
    "collapsed": true
   },
   "outputs": [],
   "source": [
    "all_techniques = set()\n",
    "for r in recipes:\n",
    "    all_techniques = all_techniques.union(r['techniques'])"
   ]
  },
  {
   "cell_type": "code",
   "execution_count": 13,
   "metadata": {
    "collapsed": true
   },
   "outputs": [],
   "source": [
    "all_techniquesR_families = set()\n",
    "for r in recipes:\n",
    "    all_techniquesR_families = all_techniquesR_families.union(r['techniquesR_families'])"
   ]
  },
  {
   "cell_type": "code",
   "execution_count": 14,
   "metadata": {
    "collapsed": true
   },
   "outputs": [],
   "source": [
    "all_temperatures = set()\n",
    "for r in recipes:\n",
    "    all_temperatures = all_temperatures.union(r['temperature'])"
   ]
  },
  {
   "cell_type": "code",
   "execution_count": 15,
   "metadata": {
    "collapsed": true
   },
   "outputs": [],
   "source": [
    "all_worlds = set()\n",
    "for r in recipes:\n",
    "    all_worlds = all_worlds.union(r['worlds'])"
   ]
  },
  {
   "cell_type": "code",
   "execution_count": 16,
   "metadata": {
    "collapsed": true
   },
   "outputs": [],
   "source": [
    "all_fields = \\\n",
    "    ['id'] + \\\n",
    "    ['num_ingredients', 'num_preparations', 'num_styles', 'num_techniques', 'num_techniquesR', 'num_worlds'] + \\\n",
    "    ['i_' + x for x in all_ingredients] + \\\n",
    "    ['pf_' + x for x in all_preparations_families] + \\\n",
    "    ['rf_' + x for x in all_recipe_families] + \\\n",
    "    ['sf_' + x for x in all_styles_families] + \\\n",
    "    ['t_' + x for x in all_techniques] + \\\n",
    "    ['trf_' + x for x in all_techniquesR_families] + \\\n",
    "    ['temp_' + x for x in all_temperatures] + \\\n",
    "    ['w_' + x for x in all_worlds]"
   ]
  },
  {
   "cell_type": "code",
   "execution_count": 17,
   "metadata": {
    "collapsed": true
   },
   "outputs": [],
   "source": [
    "recipes_ml = []\n",
    "for r in recipes:\n",
    "    r2 = {}\n",
    "    r2['id'] = r['id']\n",
    "    r2['num_ingredients'] = r['num_ingredients']\n",
    "    r2['num_preparations'] = r['num_preparations']\n",
    "    r2['num_styles'] = r['num_styles']\n",
    "    r2['num_techniques'] = r['num_techniques']\n",
    "    r2['num_techniquesR'] = r['num_techniquesR']\n",
    "    r2['num_worlds'] = r['num_worlds']\n",
    "    for x in r['ingredients']:\n",
    "        r2['i_' + x] = r['ingredients'].count(x)\n",
    "    for x in r['preparations_families']:\n",
    "        r2['pf_' + x] = r['preparations_families'].count(x)\n",
    "    for x in r['recipe_family']:\n",
    "        r2['rf_' + x] = r['recipe_family'].count(x)\n",
    "    for x in r['styles_families']:\n",
    "        r2['sf_' + x] = r['styles_families'].count(x)\n",
    "    for x in r['techniques']:\n",
    "        r2['t_' + x] = r['techniques'].count(x)\n",
    "    for x in r['techniquesR_families']:\n",
    "        r2['trf_' + x] = r['techniquesR_families'].count(x)\n",
    "    for x in r['temperature']:\n",
    "        r2['temp_' + x] = r['temperature'].count(x)\n",
    "    for x in r['worlds']:\n",
    "        r2['w_' + x] = r['worlds'].count(x)\n",
    "    recipes_ml.append(r2)"
   ]
  },
  {
   "cell_type": "code",
   "execution_count": 18,
   "metadata": {
    "collapsed": true
   },
   "outputs": [],
   "source": [
    "recipes_ml_df = pd.DataFrame(recipes_ml, columns=all_fields)\n",
    "recipes_ml_df.fillna(0, inplace=True)\n",
    "recipes_ml_df = recipes_ml_df.astype(int)\n",
    "recipes_ml_df.set_index('id', inplace=True)\n",
    "recipes_ml_df.sort_index(inplace=True)"
   ]
  },
  {
   "cell_type": "code",
   "execution_count": 19,
   "metadata": {},
   "outputs": [
    {
     "data": {
      "text/html": [
       "<div>\n",
       "<style>\n",
       "    .dataframe thead tr:only-child th {\n",
       "        text-align: right;\n",
       "    }\n",
       "\n",
       "    .dataframe thead th {\n",
       "        text-align: left;\n",
       "    }\n",
       "\n",
       "    .dataframe tbody tr th {\n",
       "        vertical-align: top;\n",
       "    }\n",
       "</style>\n",
       "<table border=\"1\" class=\"dataframe\">\n",
       "  <thead>\n",
       "    <tr style=\"text-align: right;\">\n",
       "      <th></th>\n",
       "      <th>num_ingredients</th>\n",
       "      <th>num_preparations</th>\n",
       "      <th>num_styles</th>\n",
       "      <th>num_techniques</th>\n",
       "      <th>num_techniquesR</th>\n",
       "      <th>num_worlds</th>\n",
       "      <th>i_chocolate troceado</th>\n",
       "      <th>i_pizza</th>\n",
       "      <th>i_jugo de trufa negra</th>\n",
       "      <th>i_fresitas liofilizadas</th>\n",
       "      <th>...</th>\n",
       "      <th>temp_CALIENTE/FRÍA</th>\n",
       "      <th>temp_HELADA/FRÍA</th>\n",
       "      <th>temp_TIBIA/CALIENTE</th>\n",
       "      <th>temp_FRÍA/HELADA</th>\n",
       "      <th>temp_CALIENTE/HELADA</th>\n",
       "      <th>temp_TIBIA</th>\n",
       "      <th>temp_HELADA/FRÍA/AMBIENTE</th>\n",
       "      <th>temp_TIBIA/AMBIENTE</th>\n",
       "      <th>w_DULCE</th>\n",
       "      <th>w_SALADO</th>\n",
       "    </tr>\n",
       "    <tr>\n",
       "      <th>id</th>\n",
       "      <th></th>\n",
       "      <th></th>\n",
       "      <th></th>\n",
       "      <th></th>\n",
       "      <th></th>\n",
       "      <th></th>\n",
       "      <th></th>\n",
       "      <th></th>\n",
       "      <th></th>\n",
       "      <th></th>\n",
       "      <th></th>\n",
       "      <th></th>\n",
       "      <th></th>\n",
       "      <th></th>\n",
       "      <th></th>\n",
       "      <th></th>\n",
       "      <th></th>\n",
       "      <th></th>\n",
       "      <th></th>\n",
       "      <th></th>\n",
       "      <th></th>\n",
       "    </tr>\n",
       "  </thead>\n",
       "  <tbody>\n",
       "    <tr>\n",
       "      <th>1</th>\n",
       "      <td>7</td>\n",
       "      <td>4</td>\n",
       "      <td>1</td>\n",
       "      <td>17</td>\n",
       "      <td>0</td>\n",
       "      <td>2</td>\n",
       "      <td>0</td>\n",
       "      <td>0</td>\n",
       "      <td>0</td>\n",
       "      <td>0</td>\n",
       "      <td>...</td>\n",
       "      <td>0</td>\n",
       "      <td>0</td>\n",
       "      <td>0</td>\n",
       "      <td>0</td>\n",
       "      <td>0</td>\n",
       "      <td>0</td>\n",
       "      <td>0</td>\n",
       "      <td>0</td>\n",
       "      <td>0</td>\n",
       "      <td>2</td>\n",
       "    </tr>\n",
       "    <tr>\n",
       "      <th>2</th>\n",
       "      <td>15</td>\n",
       "      <td>5</td>\n",
       "      <td>0</td>\n",
       "      <td>22</td>\n",
       "      <td>0</td>\n",
       "      <td>2</td>\n",
       "      <td>0</td>\n",
       "      <td>0</td>\n",
       "      <td>1</td>\n",
       "      <td>0</td>\n",
       "      <td>...</td>\n",
       "      <td>0</td>\n",
       "      <td>0</td>\n",
       "      <td>0</td>\n",
       "      <td>0</td>\n",
       "      <td>0</td>\n",
       "      <td>0</td>\n",
       "      <td>0</td>\n",
       "      <td>0</td>\n",
       "      <td>0</td>\n",
       "      <td>2</td>\n",
       "    </tr>\n",
       "    <tr>\n",
       "      <th>3</th>\n",
       "      <td>21</td>\n",
       "      <td>5</td>\n",
       "      <td>0</td>\n",
       "      <td>29</td>\n",
       "      <td>0</td>\n",
       "      <td>4</td>\n",
       "      <td>0</td>\n",
       "      <td>0</td>\n",
       "      <td>0</td>\n",
       "      <td>0</td>\n",
       "      <td>...</td>\n",
       "      <td>0</td>\n",
       "      <td>0</td>\n",
       "      <td>0</td>\n",
       "      <td>0</td>\n",
       "      <td>0</td>\n",
       "      <td>0</td>\n",
       "      <td>0</td>\n",
       "      <td>0</td>\n",
       "      <td>0</td>\n",
       "      <td>4</td>\n",
       "    </tr>\n",
       "    <tr>\n",
       "      <th>4</th>\n",
       "      <td>30</td>\n",
       "      <td>10</td>\n",
       "      <td>1</td>\n",
       "      <td>56</td>\n",
       "      <td>0</td>\n",
       "      <td>3</td>\n",
       "      <td>0</td>\n",
       "      <td>0</td>\n",
       "      <td>1</td>\n",
       "      <td>0</td>\n",
       "      <td>...</td>\n",
       "      <td>0</td>\n",
       "      <td>0</td>\n",
       "      <td>0</td>\n",
       "      <td>0</td>\n",
       "      <td>0</td>\n",
       "      <td>0</td>\n",
       "      <td>0</td>\n",
       "      <td>0</td>\n",
       "      <td>0</td>\n",
       "      <td>3</td>\n",
       "    </tr>\n",
       "    <tr>\n",
       "      <th>5</th>\n",
       "      <td>25</td>\n",
       "      <td>7</td>\n",
       "      <td>1</td>\n",
       "      <td>37</td>\n",
       "      <td>0</td>\n",
       "      <td>1</td>\n",
       "      <td>0</td>\n",
       "      <td>0</td>\n",
       "      <td>0</td>\n",
       "      <td>0</td>\n",
       "      <td>...</td>\n",
       "      <td>0</td>\n",
       "      <td>0</td>\n",
       "      <td>0</td>\n",
       "      <td>0</td>\n",
       "      <td>0</td>\n",
       "      <td>0</td>\n",
       "      <td>0</td>\n",
       "      <td>0</td>\n",
       "      <td>0</td>\n",
       "      <td>1</td>\n",
       "    </tr>\n",
       "  </tbody>\n",
       "</table>\n",
       "<p>5 rows × 2737 columns</p>\n",
       "</div>"
      ],
      "text/plain": [
       "    num_ingredients  num_preparations  num_styles  num_techniques  \\\n",
       "id                                                                  \n",
       "1                 7                 4           1              17   \n",
       "2                15                 5           0              22   \n",
       "3                21                 5           0              29   \n",
       "4                30                10           1              56   \n",
       "5                25                 7           1              37   \n",
       "\n",
       "    num_techniquesR  num_worlds  i_chocolate troceado  i_pizza  \\\n",
       "id                                                               \n",
       "1                 0           2                     0        0   \n",
       "2                 0           2                     0        0   \n",
       "3                 0           4                     0        0   \n",
       "4                 0           3                     0        0   \n",
       "5                 0           1                     0        0   \n",
       "\n",
       "    i_jugo de trufa negra  i_fresitas liofilizadas    ...     \\\n",
       "id                                                    ...      \n",
       "1                       0                        0    ...      \n",
       "2                       1                        0    ...      \n",
       "3                       0                        0    ...      \n",
       "4                       1                        0    ...      \n",
       "5                       0                        0    ...      \n",
       "\n",
       "    temp_CALIENTE/FRÍA  temp_HELADA/FRÍA  temp_TIBIA/CALIENTE  \\\n",
       "id                                                              \n",
       "1                    0                 0                    0   \n",
       "2                    0                 0                    0   \n",
       "3                    0                 0                    0   \n",
       "4                    0                 0                    0   \n",
       "5                    0                 0                    0   \n",
       "\n",
       "    temp_FRÍA/HELADA  temp_CALIENTE/HELADA  temp_TIBIA  \\\n",
       "id                                                       \n",
       "1                  0                     0           0   \n",
       "2                  0                     0           0   \n",
       "3                  0                     0           0   \n",
       "4                  0                     0           0   \n",
       "5                  0                     0           0   \n",
       "\n",
       "    temp_HELADA/FRÍA/AMBIENTE  temp_TIBIA/AMBIENTE  w_DULCE  w_SALADO  \n",
       "id                                                                     \n",
       "1                           0                    0        0         2  \n",
       "2                           0                    0        0         2  \n",
       "3                           0                    0        0         4  \n",
       "4                           0                    0        0         3  \n",
       "5                           0                    0        0         1  \n",
       "\n",
       "[5 rows x 2737 columns]"
      ]
     },
     "execution_count": 19,
     "metadata": {},
     "output_type": "execute_result"
    }
   ],
   "source": [
    "recipes_ml_df.head()"
   ]
  },
  {
   "cell_type": "code",
   "execution_count": 20,
   "metadata": {
    "collapsed": true
   },
   "outputs": [],
   "source": [
    "recipes_data_df.to_csv('out/recipes_data.csv', index=False)"
   ]
  },
  {
   "cell_type": "code",
   "execution_count": 21,
   "metadata": {
    "collapsed": true
   },
   "outputs": [],
   "source": [
    "recipes_ml_df.to_csv('out/recipes_ml.csv', index=False)"
   ]
  },
  {
   "cell_type": "code",
   "execution_count": null,
   "metadata": {
    "collapsed": true
   },
   "outputs": [],
   "source": []
  }
 ],
 "metadata": {
  "kernelspec": {
   "display_name": "Python 3",
   "language": "python",
   "name": "python3"
  },
  "language_info": {
   "codemirror_mode": {
    "name": "ipython",
    "version": 3
   },
   "file_extension": ".py",
   "mimetype": "text/x-python",
   "name": "python",
   "nbconvert_exporter": "python",
   "pygments_lexer": "ipython3",
   "version": "3.5.2"
  }
 },
 "nbformat": 4,
 "nbformat_minor": 1
}
