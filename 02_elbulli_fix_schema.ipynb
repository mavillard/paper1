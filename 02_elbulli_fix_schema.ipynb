{
 "cells": [
  {
   "cell_type": "code",
   "execution_count": 1,
   "metadata": {
    "collapsed": true
   },
   "outputs": [],
   "source": [
    "from collections import defaultdict\n",
    "\n",
    "import networkx as nx"
   ]
  },
  {
   "cell_type": "code",
   "execution_count": 2,
   "metadata": {},
   "outputs": [],
   "source": [
    "path_gexf = 'out/elbulli_nlg.gexf'\n",
    "graph = nx.read_gexf(path_gexf)"
   ]
  },
  {
   "cell_type": "code",
   "execution_count": 3,
   "metadata": {},
   "outputs": [
    {
     "data": {
      "text/plain": [
       "9764"
      ]
     },
     "execution_count": 3,
     "metadata": {},
     "output_type": "execute_result"
    }
   ],
   "source": [
    "graph.number_of_nodes()"
   ]
  },
  {
   "cell_type": "code",
   "execution_count": 4,
   "metadata": {},
   "outputs": [
    {
     "data": {
      "text/plain": [
       "33252"
      ]
     },
     "execution_count": 4,
     "metadata": {},
     "output_type": "execute_result"
    }
   ],
   "source": [
    "graph.number_of_edges()"
   ]
  },
  {
   "cell_type": "code",
   "execution_count": 5,
   "metadata": {},
   "outputs": [
    {
     "data": {
      "text/plain": [
       "{'label': '1',\n",
       " 'nodetype': 'Receta',\n",
       " 'titulo': 'terrina de melón con gelée de oporto'}"
      ]
     },
     "execution_count": 5,
     "metadata": {},
     "output_type": "execute_result"
    }
   ],
   "source": [
    "graph.node['1']"
   ]
  },
  {
   "cell_type": "code",
   "execution_count": 6,
   "metadata": {},
   "outputs": [
    {
     "data": {
      "text/plain": [
       "{'1987': {'edgetype': 'publicado en', 'id': '949'},\n",
       " 'Elaboracion19871997-523': {'edgetype': 'elaboracion', 'id': '944'},\n",
       " 'Elaboracion19871997-542': {'edgetype': 'elaboracion', 'id': '947'},\n",
       " 'Estilo19871997-25': {'edgetype': 'estilo', 'id': '946'},\n",
       " 'FRÍA': {'edgetype': 'temperatura', 'id': '945'},\n",
       " 'PLATOS': {'edgetype': 'se clasifica', 'id': '948'}}"
      ]
     },
     "execution_count": 6,
     "metadata": {},
     "output_type": "execute_result"
    }
   ],
   "source": [
    "graph['1']"
   ]
  },
  {
   "cell_type": "code",
   "execution_count": 7,
   "metadata": {
    "collapsed": true
   },
   "outputs": [],
   "source": [
    "node_types = set()\n",
    "for n, data in graph.nodes(data=True):\n",
    "    typ = data['nodetype']\n",
    "    node_types.add(typ)"
   ]
  },
  {
   "cell_type": "code",
   "execution_count": 8,
   "metadata": {},
   "outputs": [
    {
     "data": {
      "text/plain": [
       "{'Año',\n",
       " 'Elaboracion',\n",
       " 'Estilo',\n",
       " 'Familia Elaboracion',\n",
       " 'Familia Estilo',\n",
       " 'Familia Receta',\n",
       " 'Familia Tecnica',\n",
       " 'Mundo',\n",
       " 'Producto',\n",
       " 'Receta',\n",
       " 'Tecnica',\n",
       " 'Temperatura',\n",
       " 'ingrediente',\n",
       " 'sabor',\n",
       " 'tecnica'}"
      ]
     },
     "execution_count": 8,
     "metadata": {},
     "output_type": "execute_result"
    }
   ],
   "source": [
    "node_types"
   ]
  },
  {
   "cell_type": "code",
   "execution_count": 9,
   "metadata": {
    "collapsed": true
   },
   "outputs": [],
   "source": [
    "all_edge_types = set()\n",
    "for n1, n2, data in graph.edges(data=True):\n",
    "    dom = graph.node[n1]['nodetype']\n",
    "    ran = graph.node[n2]['nodetype']\n",
    "    typ = data['edgetype']\n",
    "    all_edge_types.add((typ, dom, ran))"
   ]
  },
  {
   "cell_type": "code",
   "execution_count": 10,
   "metadata": {},
   "outputs": [
    {
     "data": {
      "text/plain": [
       "{('alcohol', 'Elaboracion', 'Producto'),\n",
       " ('bañado', 'Elaboracion', 'Producto'),\n",
       " ('chocolate', 'Elaboracion', 'Producto'),\n",
       " ('composicion', 'Elaboracion', 'ingrediente'),\n",
       " ('composicion', 'ingrediente', 'Elaboracion'),\n",
       " ('elaboracion', 'Receta', 'Elaboracion'),\n",
       " ('estilo', 'Receta', 'Estilo'),\n",
       " ('lacteo', 'Elaboracion', 'Producto'),\n",
       " ('mundo', 'Elaboracion', 'Mundo'),\n",
       " ('mundo', 'Mundo', 'Elaboracion'),\n",
       " ('nuevaPasta', 'Elaboracion', 'Producto'),\n",
       " ('producto', 'Elaboracion', 'Producto'),\n",
       " ('publicado en', 'Año', 'Receta'),\n",
       " ('publicado en', 'Receta', 'Año'),\n",
       " ('relleno', 'Elaboracion', 'Producto'),\n",
       " ('sabor', 'Elaboracion', 'sabor'),\n",
       " ('se clasifica', 'Elaboracion', 'Familia Elaboracion'),\n",
       " ('se clasifica', 'Estilo', 'Familia Estilo'),\n",
       " ('se clasifica', 'Familia Elaboracion', 'Elaboracion'),\n",
       " ('se clasifica', 'Familia Estilo', 'Estilo'),\n",
       " ('se clasifica', 'Familia Tecnica', 'Tecnica'),\n",
       " ('se clasifica', 'Receta', 'Familia Receta'),\n",
       " ('se clasifica', 'Tecnica', 'Familia Tecnica'),\n",
       " ('tecnica', 'Elaboracion', 'tecnica'),\n",
       " ('tecnica', 'Receta', 'Tecnica'),\n",
       " ('temperatura', 'Receta', 'Temperatura')}"
      ]
     },
     "execution_count": 10,
     "metadata": {},
     "output_type": "execute_result"
    }
   ],
   "source": [
    "all_edge_types"
   ]
  },
  {
   "cell_type": "code",
   "execution_count": 11,
   "metadata": {
    "collapsed": true
   },
   "outputs": [],
   "source": [
    "edge_types_dict = {\n",
    "    ('alcohol', 'Elaboracion', 'Producto'): ('alcohol', 'Elaboracion', 'Producto'),\n",
    "    ('bañado', 'Elaboracion', 'Producto'): ('bañado', 'Elaboracion', 'Producto'),\n",
    "    ('chocolate', 'Elaboracion', 'Producto'): ('chocolate', 'Elaboracion', 'Producto'),\n",
    "    ('composicion', 'Elaboracion', 'ingrediente'): ('composicion', 'Elaboracion', 'ingrediente'),\n",
    "    ('composicion', 'ingrediente', 'Elaboracion'): ('composicion', 'Elaboracion', 'ingrediente'),\n",
    "    ('elaboracion', 'Receta', 'Elaboracion'): ('elaboracion', 'Receta', 'Elaboracion'),\n",
    "    ('estilo', 'Receta', 'Estilo'): ('estilo', 'Receta', 'Estilo'),\n",
    "    ('lacteo', 'Elaboracion', 'Producto'): ('lacteo', 'Elaboracion', 'Producto'),\n",
    "    ('mundo', 'Elaboracion', 'Mundo'): ('mundo', 'Elaboracion', 'Mundo'),\n",
    "    ('mundo', 'Mundo', 'Elaboracion'): ('mundo', 'Elaboracion', 'Mundo'),\n",
    "    ('nuevaPasta', 'Elaboracion', 'Producto'): ('nuevaPasta', 'Elaboracion', 'Producto'),\n",
    "    ('producto', 'Elaboracion', 'Producto'): ('producto', 'Elaboracion', 'Producto'),\n",
    "    ('publicado en', 'Año', 'Receta'): ('publicado en', 'Receta', 'Año'),\n",
    "    ('publicado en', 'Receta', 'Año'): ('publicado en', 'Receta', 'Año'),\n",
    "    ('relleno', 'Elaboracion', 'Producto'): ('relleno', 'Elaboracion', 'Producto'),\n",
    "    ('sabor', 'Elaboracion', 'sabor'): ('sabor', 'Elaboracion', 'sabor'),\n",
    "    ('se clasifica', 'Elaboracion', 'Familia Elaboracion'): ('se clasifica', 'Elaboracion', 'Familia Elaboracion'),\n",
    "    ('se clasifica', 'Estilo', 'Familia Estilo'): ('se clasifica', 'Estilo', 'Familia Estilo'),\n",
    "    ('se clasifica', 'Familia Elaboracion', 'Elaboracion'): ('se clasifica', 'Elaboracion', 'Familia Elaboracion'),\n",
    "    ('se clasifica', 'Familia Estilo', 'Estilo'): ('se clasifica', 'Estilo', 'Familia Estilo'),\n",
    "    ('se clasifica', 'Familia Tecnica', 'Tecnica'): ('se clasifica', 'Tecnica', 'Familia Tecnica'),\n",
    "    ('se clasifica', 'Receta', 'Familia Receta'): ('se clasifica', 'Receta', 'Familia Receta'),\n",
    "    ('se clasifica', 'Tecnica', 'Familia Tecnica'): ('se clasifica', 'Tecnica', 'Familia Tecnica'),\n",
    "    ('tecnica', 'Elaboracion', 'tecnica'): ('tecnica', 'Elaboracion', 'tecnica'),\n",
    "    ('tecnica', 'Receta', 'Tecnica'): ('tecnica', 'Receta', 'Tecnica'),\n",
    "    ('temperatura', 'Receta', 'Temperatura'): ('temperatura', 'Receta', 'Temperatura'),\n",
    "}"
   ]
  },
  {
   "cell_type": "code",
   "execution_count": 12,
   "metadata": {
    "collapsed": true
   },
   "outputs": [],
   "source": [
    "edge_types = set()\n",
    "for k in edge_types_dict:\n",
    "    edge_types.add(edge_types_dict[k])"
   ]
  },
  {
   "cell_type": "code",
   "execution_count": 13,
   "metadata": {
    "scrolled": true
   },
   "outputs": [
    {
     "data": {
      "text/plain": [
       "{('alcohol', 'Elaboracion', 'Producto'),\n",
       " ('bañado', 'Elaboracion', 'Producto'),\n",
       " ('chocolate', 'Elaboracion', 'Producto'),\n",
       " ('composicion', 'Elaboracion', 'ingrediente'),\n",
       " ('elaboracion', 'Receta', 'Elaboracion'),\n",
       " ('estilo', 'Receta', 'Estilo'),\n",
       " ('lacteo', 'Elaboracion', 'Producto'),\n",
       " ('mundo', 'Elaboracion', 'Mundo'),\n",
       " ('nuevaPasta', 'Elaboracion', 'Producto'),\n",
       " ('producto', 'Elaboracion', 'Producto'),\n",
       " ('publicado en', 'Receta', 'Año'),\n",
       " ('relleno', 'Elaboracion', 'Producto'),\n",
       " ('sabor', 'Elaboracion', 'sabor'),\n",
       " ('se clasifica', 'Elaboracion', 'Familia Elaboracion'),\n",
       " ('se clasifica', 'Estilo', 'Familia Estilo'),\n",
       " ('se clasifica', 'Receta', 'Familia Receta'),\n",
       " ('se clasifica', 'Tecnica', 'Familia Tecnica'),\n",
       " ('tecnica', 'Elaboracion', 'tecnica'),\n",
       " ('tecnica', 'Receta', 'Tecnica'),\n",
       " ('temperatura', 'Receta', 'Temperatura')}"
      ]
     },
     "execution_count": 13,
     "metadata": {},
     "output_type": "execute_result"
    }
   ],
   "source": [
    "edge_types"
   ]
  },
  {
   "cell_type": "code",
   "execution_count": 14,
   "metadata": {
    "collapsed": true
   },
   "outputs": [],
   "source": [
    "for n1, n2, data in graph.edges(data=True):\n",
    "    dom = graph.node[n1]['nodetype']\n",
    "    ran = graph.node[n2]['nodetype']\n",
    "    typ = data['edgetype']\n",
    "    if (typ, dom, ran) not in edge_types:\n",
    "        if (typ, ran, dom) in edge_types:\n",
    "            graph.remove_edge(n1, n2)\n",
    "            graph.add_edge(n2, n1, data)\n",
    "        else:\n",
    "            print((typ, dom, ran))"
   ]
  },
  {
   "cell_type": "code",
   "execution_count": 15,
   "metadata": {
    "collapsed": true
   },
   "outputs": [],
   "source": [
    "node_type_count = defaultdict(int)\n",
    "for n, data in graph.nodes(data=True):\n",
    "    typ = data['nodetype']\n",
    "    node_type_count[typ] += 1\n",
    "node_type_count = dict(node_type_count)"
   ]
  },
  {
   "cell_type": "code",
   "execution_count": 16,
   "metadata": {
    "collapsed": true
   },
   "outputs": [],
   "source": [
    "edge_type_count = defaultdict(int)\n",
    "for n1, n2, data in graph.edges(data=True):\n",
    "    dom = graph.node[n1]['nodetype']\n",
    "    ran = graph.node[n2]['nodetype']\n",
    "    typ = data['edgetype']\n",
    "    edge_type_count[edge_types_dict[(typ, dom, ran)]] += 1\n",
    "edge_type_count = dict(edge_type_count)"
   ]
  },
  {
   "cell_type": "code",
   "execution_count": 17,
   "metadata": {},
   "outputs": [
    {
     "data": {
      "text/plain": [
       "{'Año': 18,\n",
       " 'Elaboracion': 4636,\n",
       " 'Estilo': 900,\n",
       " 'Familia Elaboracion': 202,\n",
       " 'Familia Estilo': 22,\n",
       " 'Familia Receta': 12,\n",
       " 'Familia Tecnica': 7,\n",
       " 'Mundo': 2,\n",
       " 'Producto': 201,\n",
       " 'Receta': 1214,\n",
       " 'Tecnica': 139,\n",
       " 'Temperatura': 27,\n",
       " 'ingrediente': 1732,\n",
       " 'sabor': 628,\n",
       " 'tecnica': 24}"
      ]
     },
     "execution_count": 17,
     "metadata": {},
     "output_type": "execute_result"
    }
   ],
   "source": [
    "node_type_count"
   ]
  },
  {
   "cell_type": "code",
   "execution_count": 18,
   "metadata": {},
   "outputs": [
    {
     "data": {
      "text/plain": [
       "{('alcohol', 'Elaboracion', 'Producto'): 13,\n",
       " ('bañado', 'Elaboracion', 'Producto'): 9,\n",
       " ('chocolate', 'Elaboracion', 'Producto'): 158,\n",
       " ('composicion', 'Elaboracion', 'ingrediente'): 9940,\n",
       " ('elaboracion', 'Receta', 'Elaboracion'): 4636,\n",
       " ('estilo', 'Receta', 'Estilo'): 900,\n",
       " ('lacteo', 'Elaboracion', 'Producto'): 37,\n",
       " ('mundo', 'Elaboracion', 'Mundo'): 4636,\n",
       " ('nuevaPasta', 'Elaboracion', 'Producto'): 33,\n",
       " ('producto', 'Elaboracion', 'Producto'): 225,\n",
       " ('publicado en', 'Receta', 'Año'): 1214,\n",
       " ('relleno', 'Elaboracion', 'Producto'): 36,\n",
       " ('sabor', 'Elaboracion', 'sabor'): 2967,\n",
       " ('se clasifica', 'Elaboracion', 'Familia Elaboracion'): 4636,\n",
       " ('se clasifica', 'Estilo', 'Familia Estilo'): 900,\n",
       " ('se clasifica', 'Receta', 'Familia Receta'): 1214,\n",
       " ('se clasifica', 'Tecnica', 'Familia Tecnica'): 139,\n",
       " ('tecnica', 'Elaboracion', 'tecnica'): 206,\n",
       " ('tecnica', 'Receta', 'Tecnica'): 139,\n",
       " ('temperatura', 'Receta', 'Temperatura'): 1214}"
      ]
     },
     "execution_count": 18,
     "metadata": {},
     "output_type": "execute_result"
    }
   ],
   "source": [
    "edge_type_count"
   ]
  },
  {
   "cell_type": "code",
   "execution_count": 19,
   "metadata": {
    "collapsed": true
   },
   "outputs": [],
   "source": [
    "path_gexf = 'out/elbulli_nlg.gexf'\n",
    "nx.write_gexf(graph, path_gexf)"
   ]
  },
  {
   "cell_type": "code",
   "execution_count": null,
   "metadata": {
    "collapsed": true
   },
   "outputs": [],
   "source": []
  }
 ],
 "metadata": {
  "kernelspec": {
   "display_name": "Python 3",
   "language": "python",
   "name": "python3"
  },
  "language_info": {
   "codemirror_mode": {
    "name": "ipython",
    "version": 3
   },
   "file_extension": ".py",
   "mimetype": "text/x-python",
   "name": "python",
   "nbconvert_exporter": "python",
   "pygments_lexer": "ipython3",
   "version": "3.5.2"
  }
 },
 "nbformat": 4,
 "nbformat_minor": 1
}
